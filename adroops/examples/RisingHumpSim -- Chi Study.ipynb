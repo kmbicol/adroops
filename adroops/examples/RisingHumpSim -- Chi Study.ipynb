{
 "cells": [
  {
   "cell_type": "markdown",
   "metadata": {},
   "source": [
    "## Rising Hump Problem\n",
    "### Using RisingHumpSim Class\n",
    "Example below is used in Finite Element Rodeo 2019 slides."
   ]
  },
  {
   "cell_type": "code",
   "execution_count": 7,
   "metadata": {},
   "outputs": [
    {
     "name": "stdout",
     "output_type": "stream",
     "text": [
      "N = 0\n",
      "chi_order = 0\n",
      "chi_order = 1\n",
      "chi_order = 2\n",
      "N = 1\n",
      "chi_order = 0\n",
      "chi_order = 1\n",
      "chi_order = 2\n",
      "N = 2\n",
      "chi_order = 0\n",
      "chi_order = 1\n",
      "chi_order = 2\n",
      "N = 3\n",
      "chi_order = 0\n",
      "chi_order = 1\n",
      "chi_order = 2\n"
     ]
    }
   ],
   "source": [
    "import dolfin\n",
    "import adroops as adr\n",
    "\n",
    "iliescu = adr.RisingHumpSim(method='EFR')\n",
    "iliescu.T = 2.0\n",
    "iliescu.saveEvery = 4\n",
    "\n",
    "# iliescu.testChi()"
   ]
  },
  {
   "cell_type": "markdown",
   "metadata": {},
   "source": [
    "### By default\n",
    "- adroops assumes Neuman BC. Need to add example name 'ex' to list of NeedsDirBC by appending to list name. DirBC solution will be set as uExact value.\n",
    "- adroops assumes P2, change self.degree if you want different Finite Element Degree\n"
   ]
  },
  {
   "cell_type": "markdown",
   "metadata": {},
   "source": [
    "### Notes for me:\n",
    "- Need to double check chi formula in source code\n",
    "- Need to plot across N also!! woah\n",
    "- Need to run chi study for when chi = 1 for all nx\n",
    "- Need to run chi study for all nx for all chi_orders (maybe tonight?)\n",
    "- Need to make error plots for all nx all chi_orders figures"
   ]
  },
  {
   "cell_type": "code",
   "execution_count": null,
   "metadata": {},
   "outputs": [],
   "source": []
  }
 ],
 "metadata": {
  "kernelspec": {
   "display_name": "Python 2",
   "language": "python",
   "name": "python2"
  },
  "language_info": {
   "codemirror_mode": {
    "name": "ipython",
    "version": 2
   },
   "file_extension": ".py",
   "mimetype": "text/x-python",
   "name": "python",
   "nbconvert_exporter": "python",
   "pygments_lexer": "ipython2",
   "version": "2.7.14"
  }
 },
 "nbformat": 4,
 "nbformat_minor": 2
}
