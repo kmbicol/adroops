{
 "cells": [
  {
   "cell_type": "markdown",
   "metadata": {},
   "source": [
    "## Rising Hump Problem: Grid Conv Study\n",
    "### Using RisingHumpSim Class\n",
    "Example below is used in Finite Element Rodeo 2019 slides."
   ]
  },
  {
   "cell_type": "code",
   "execution_count": 1,
   "metadata": {
    "scrolled": true
   },
   "outputs": [
    {
     "name": "stdout",
     "output_type": "stream",
     "text": [
      "1.0\n",
      "1.0\n",
      "1.0\n",
      "1.0\n",
      "1.0\n"
     ]
    },
    {
     "data": {
      "text/plain": [
       "<matplotlib.figure.Figure at 0x7f9124e3c810>"
      ]
     },
     "metadata": {},
     "output_type": "display_data"
    },
    {
     "data": {
      "text/plain": [
       "<matplotlib.figure.Figure at 0x7f9123aef6d0>"
      ]
     },
     "metadata": {},
     "output_type": "display_data"
    },
    {
     "data": {
      "text/plain": [
       "<matplotlib.figure.Figure at 0x7f912139c3d0>"
      ]
     },
     "metadata": {},
     "output_type": "display_data"
    }
   ],
   "source": [
    "\n",
    "import dolfin\n",
    "import adroops as adr\n",
    "\n",
    "iliescu = adr.RisingHumpSim(method='SUPG')\n",
    "iliescu.T = 1.0\n",
    "iliescu.saveEvery = 5\n",
    "# iliescu.testGridConv()"
   ]
  },
  {
   "cell_type": "markdown",
   "metadata": {},
   "source": [
    "### By default\n",
    "- adroops assumes Neuman BC. Need to add example name 'ex' to list of NeedsDirBC by appending to list name. DirBC solution will be set as uExact value.\n",
    "- adroops assumes P2, change self.degree if you want different Finite Element Degree\n"
   ]
  },
  {
   "cell_type": "markdown",
   "metadata": {},
   "source": [
    "### Notes for me:\n",
    "- Need to double check chi formula in source code\n",
    "- Need to plot across N also!! woah\n",
    "- Need to run chi study for when chi = 1 for all nx\n",
    "- Need to run chi study for all nx for all chi_orders (maybe tonight?)\n",
    "- Need to make error plots for all nx all chi_orders figures"
   ]
  },
  {
   "cell_type": "code",
   "execution_count": null,
   "metadata": {},
   "outputs": [],
   "source": [
    "iliescu = adr.RisingHumpSim(method='Galerk')\n",
    "iliescu.T = 1.0\n",
    "iliescu.saveEvery = 5\n",
    "iliescu.testGridConv()"
   ]
  },
  {
   "cell_type": "code",
   "execution_count": null,
   "metadata": {},
   "outputs": [],
   "source": [
    "# modify __init__.py first\n",
    "# need to change chi_order part such that 0 corresponds to BQ, and the else case is chi = 1. zero case will be BQ table.\n",
    "\n",
    "iliescu = adr.RisingHumpSim(method='EFR')\n",
    "iliescu.N = 0\n",
    "iliescu.chi_order = \n",
    "iliescu.T = 1.0\n",
    "iliescu.saveEvery = 5\n",
    "iliescu.testGridConv()"
   ]
  }
 ],
 "metadata": {
  "kernelspec": {
   "display_name": "Python 2",
   "language": "python",
   "name": "python2"
  },
  "language_info": {
   "codemirror_mode": {
    "name": "ipython",
    "version": 2
   },
   "file_extension": ".py",
   "mimetype": "text/x-python",
   "name": "python",
   "nbconvert_exporter": "python",
   "pygments_lexer": "ipython2",
   "version": "2.7.14"
  }
 },
 "nbformat": 4,
 "nbformat_minor": 2
}
