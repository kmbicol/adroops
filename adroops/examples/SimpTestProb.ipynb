{
 "cells": [
  {
   "cell_type": "markdown",
   "metadata": {},
   "source": [
    "## Using adroops\n",
    "### Implementing your own example simulation\n",
    "Example below is used in Finite Element Rodeo 2018 and 2019 slides."
   ]
  },
  {
   "cell_type": "code",
   "execution_count": 1,
   "metadata": {
    "collapsed": true
   },
   "outputs": [],
   "source": [
    "import dolfin\n",
    "import adroops as adr\n",
    "\n",
    "method = 'Galerk'\n",
    "ex = 'TestProblem'\n",
    "T = 2.0\n",
    "velocityExpr = ('1.0','1.0')\n",
    "mu = 0.001\n",
    "sigma = 0.01\n",
    "saveExact = False\n",
    "sourceFn = '1.0'\n",
    "uExact = '0.0'\n",
    "\n",
    "example = adr.BlankSim(method, ex, T, velocityExpr, mu, sigma, saveExact, sourceFn, uExact)\n",
    "example.degree = 1"
   ]
  },
  {
   "cell_type": "markdown",
   "metadata": {},
   "source": [
    "### By default\n",
    "- adroops assumes Neuman BC. Need to add example name 'ex' to list of NeedsDirBC by appending to list name. DirBC solution will be set as uExact value.\n",
    "- adroops assumes P2, change self.degree if you want different Finite Element Degree\n"
   ]
  },
  {
   "cell_type": "code",
   "execution_count": 2,
   "metadata": {},
   "outputs": [
    {
     "data": {
      "text/plain": [
       "['HeatSim', 'RisingHumpSim', 'TestProblem']"
      ]
     },
     "execution_count": 2,
     "metadata": {},
     "output_type": "execute_result"
    }
   ],
   "source": [
    "# how to add DirBC\n",
    "if ex not in example.NeedsDirBC:\n",
    "    example.NeedsDirBC.append(ex) \n",
    "example.NeedsDirBC"
   ]
  },
  {
   "cell_type": "code",
   "execution_count": 3,
   "metadata": {},
   "outputs": [
    {
     "data": {
      "text/plain": [
       "2.0"
      ]
     },
     "execution_count": 3,
     "metadata": {},
     "output_type": "execute_result"
    }
   ],
   "source": [
    "example.T"
   ]
  },
  {
   "cell_type": "code",
   "execution_count": 4,
   "metadata": {
    "collapsed": true
   },
   "outputs": [],
   "source": [
    "example.saveEvery = 1\n",
    "example.runSim(dt=0.01,nx=20)"
   ]
  },
  {
   "cell_type": "code",
   "execution_count": 5,
   "metadata": {
    "collapsed": true
   },
   "outputs": [],
   "source": [
    "example.method = 'SUPG'\n",
    "example.saveEvery = 1\n",
    "example.runSim(dt=0.01,nx=20)"
   ]
  },
  {
   "cell_type": "code",
   "execution_count": 6,
   "metadata": {
    "collapsed": true
   },
   "outputs": [],
   "source": [
    "example.method = 'Galerk'\n",
    "example.runSim(dt=0.01,nx=200)"
   ]
  },
  {
   "cell_type": "code",
   "execution_count": 7,
   "metadata": {},
   "outputs": [
    {
     "data": {
      "text/plain": [
       "'ADR-results/TestProblem/'"
      ]
     },
     "execution_count": 7,
     "metadata": {},
     "output_type": "execute_result"
    }
   ],
   "source": [
    "example.folder"
   ]
  },
  {
   "cell_type": "code",
   "execution_count": null,
   "metadata": {
    "collapsed": true
   },
   "outputs": [],
   "source": []
  }
 ],
 "metadata": {
  "kernelspec": {
   "display_name": "Python 2",
   "language": "python",
   "name": "python2"
  },
  "language_info": {
   "codemirror_mode": {
    "name": "ipython",
    "version": 2
   },
   "file_extension": ".py",
   "mimetype": "text/x-python",
   "name": "python",
   "nbconvert_exporter": "python",
   "pygments_lexer": "ipython2",
   "version": "2.7.13"
  }
 },
 "nbformat": 4,
 "nbformat_minor": 2
}
