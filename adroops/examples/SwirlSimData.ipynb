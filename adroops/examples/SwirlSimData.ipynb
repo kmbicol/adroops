{
 "cells": [
  {
   "cell_type": "markdown",
   "metadata": {},
   "source": [
    "## Swirl Problem\n",
    "### Using SwirlSim Class\n",
    "This will be included in the dissertation"
   ]
  },
  {
   "cell_type": "code",
   "execution_count": 1,
   "metadata": {},
   "outputs": [],
   "source": [
    "import dolfin\n",
    "import adroops as adr"
   ]
  },
  {
   "cell_type": "markdown",
   "metadata": {},
   "source": [
    "## Tune Rotating Velocity Problem\n",
    "- Started with mu=1e-6 and kept increasing the magnitude until it's a problem worth fixing\n",
    "- Note: The swirl looks nicest when $\\mu$ is 0.005.\n",
    "- Also, I'm using P2 elements and chi_order of 1.\n",
    "- Should probably add Galerk and SUPG in here too. Let's see.\n",
    "- To run Single Simulations: Only requires time step size (dt) and mesh width size (nx)"
   ]
  },
  {
   "cell_type": "code",
   "execution_count": 2,
   "metadata": {},
   "outputs": [
    {
     "name": "stdout",
     "output_type": "stream",
     "text": [
      "Galerkin is done.\n",
      "SUPG is done.\n"
     ]
    }
   ],
   "source": [
    "# Galerk -- set up\n",
    "swirlGal = adr.SwirlSim(method='Galerk')\n",
    "swirlGal.T = 7.0\n",
    "swirlGal.saveEvery = 10\n",
    "\n",
    "str_mu = '0.25e-3' # Set mu (viscosity coeff here)\n",
    "\n",
    "swirlGal.folder = swirlGal.folder + 'mu_'+str_mu+'/'\n",
    "swirlGal.mu = float(str_mu)\n",
    "\n",
    "# Galerk -- run it\n",
    "swirlGal.runSim(dt=0.01,nx=25)\n",
    "swirlGal.runSim(dt=0.01,nx=50)\n",
    "print('Galerkin is done.')\n",
    "\n",
    "# SUPG -- set up\n",
    "swirlSUPG = adr.SwirlSim(method='SUPG')\n",
    "swirlSUPG.T = swirlGal.T\n",
    "swirlSUPG.saveEvery = swirlGal.saveEvery\n",
    "swirlSUPG.mu = swirlGal.mu\n",
    "\n",
    "# SUPG -- run it\n",
    "swirlSUPG.folder = swirlGal.folder \n",
    "swirlSUPG.runSim(dt=0.01,nx=25)\n",
    "swirlSUPG.runSim(dt=0.01,nx=50)\n",
    "print('SUPG is done.')"
   ]
  },
  {
   "cell_type": "markdown",
   "metadata": {},
   "source": [
    "## EFR Parameter $\\chi$ Study\n",
    "- Fix $N=0$, $\\delta=h_{min}$\n",
    "- chi_method options\n",
    "    - 0: $\\chi$ = 1\n",
    "    - 1: $\\chi$ = uses grad approx\n",
    "    - 2: $\\chi$ = uses laplace approx\n",
    "    - 'BQ': $\\chi$ = uses table from BQ 2018"
   ]
  },
  {
   "cell_type": "code",
   "execution_count": null,
   "metadata": {},
   "outputs": [],
   "source": [
    "## Simulation Parameters\n",
    "swirlEFR0 = adr.SwirlSim(method='EFR')\n",
    "swirlEFR0.T = swirlGal.T\n",
    "swirlEFR0.saveEvery = swirlGal.saveEvery\n",
    "\n",
    "swirlEFR0.mu = swirlGal.mu\n",
    "\n",
    "## EFR Parameters\n",
    "# delta = h_min # default\n",
    "swirlEFR0.N = 0\n",
    "swirlEFR0.chi_method = 0\n",
    "# rotate_vel.degree = 1\n",
    "\n",
    "# run it\n",
    "swirlEFR0.folder = swirlGal.folder \n",
    "swirlEFR0.runSim(dt=0.01,nx=25)\n",
    "swirlEFR0.runSim(dt=0.01,nx=50)\n",
    "\n",
    "print('EFR chi_method 0 is done.')\n",
    "\n",
    "## Simulation Parameters\n",
    "swirlEFR1 = adr.SwirlSim(method='EFR')\n",
    "swirlEFR1.T = swirlGal.T\n",
    "swirlEFR1.saveEvery = swirlGal.saveEvery\n",
    "\n",
    "swirlEFR1.mu = swirlGal.mu\n",
    "\n",
    "## EFR Parameters\n",
    "# delta = h_min # default\n",
    "swirlEFR1.N = 0\n",
    "swirlEFR1.chi_method = 1\n",
    "# rotate_vel.degree = 1\n",
    "\n",
    "# run it\n",
    "swirlEFR1.folder = swirlGal.folder \n",
    "swirlEFR1.runSim(dt=0.01,nx=25)\n",
    "swirlEFR1.runSim(dt=0.01,nx=50)\n",
    "\n",
    "print('EFR chi_method 1 is done.')"
   ]
  },
  {
   "cell_type": "code",
   "execution_count": 5,
   "metadata": {},
   "outputs": [
    {
     "name": "stdout",
     "output_type": "stream",
     "text": [
      "EFR chi_method 2 is done.\n",
      "EFR chi_method \"BQ\" is done.\n"
     ]
    }
   ],
   "source": [
    "## Simulation Parameters\n",
    "swirlEFR = adr.SwirlSim(method='EFR')\n",
    "swirlEFR.T = swirlGal.T\n",
    "swirlEFR.saveEvery = swirlGal.saveEvery\n",
    "\n",
    "swirlEFR.mu = swirlGal.mu\n",
    "\n",
    "## EFR Parameters\n",
    "# delta = h_min # default\n",
    "swirlEFR.N = 0\n",
    "swirlEFR.chi_method = 2\n",
    "# rotate_vel.degree = 1\n",
    "\n",
    "# run it\n",
    "swirlEFR.folder = swirlGal.folder \n",
    "swirlEFR.runSim(dt=0.01,nx=25)\n",
    "swirlEFR.runSim(dt=0.01,nx=50)\n",
    "\n",
    "print('EFR chi_method 2 is done.')\n",
    "\n",
    "#############################################\n",
    "\n",
    "## Simulation Parameters\n",
    "swirlEFR = adr.SwirlSim(method='EFR')\n",
    "swirlEFR.T = swirlGal.T\n",
    "swirlEFR.saveEvery = swirlGal.saveEvery\n",
    "\n",
    "swirlEFR.mu = swirlGal.mu\n",
    "\n",
    "## EFR Parameters\n",
    "# delta = h_min # default\n",
    "swirlEFR.N = 0\n",
    "swirlEFR.chi_method = 'BQ'\n",
    "# rotate_vel.degree = 1\n",
    "\n",
    "# run it\n",
    "swirlEFR.folder = swirlGal.folder \n",
    "swirlEFR.runSim(dt=0.01,nx=25)\n",
    "swirlEFR.runSim(dt=0.01,nx=50)\n",
    "\n",
    "print('EFR chi_method \"BQ\" is done.')"
   ]
  },
  {
   "cell_type": "markdown",
   "metadata": {},
   "source": [
    "### By default\n",
    "- adroops assumes Neuman BC. Need to add example name 'ex' to list of NeedsDirBC by appending to list name. DirBC solution will be set as uExact value.\n",
    "- adroops assumes P2, change self.degree if you want different Finite Element Degree\n"
   ]
  },
  {
   "cell_type": "markdown",
   "metadata": {},
   "source": [
    "### Notes for me:\n",
    "- [Q approved! 4/11/19] Need to double check chi formula in source code\n",
    "- Need to plot across N also!! woah\n",
    "- [4/13/19] Need to run chi study for when chi = 1 for all nx\n",
    "    - Included this as chi_method = 0\n",
    "    - Also included BQ and chi_1 and chi_2\n",
    "- Need to run chi study for all nx for all chi_orders (maybe tonight?)\n",
    "- Need to make error plots for all nx all chi_orders figures"
   ]
  },
  {
   "cell_type": "markdown",
   "metadata": {},
   "source": [
    "## Run Grid Convergence Study\n",
    "Need to modify rotate_vel.gridSize"
   ]
  },
  {
   "cell_type": "markdown",
   "metadata": {},
   "source": [
    "rotate_vel.gridSize\n",
    "\n",
    "rotate_vel.testGridConv()"
   ]
  },
  {
   "cell_type": "markdown",
   "metadata": {},
   "source": [
    "## Calculate X values"
   ]
  },
  {
   "cell_type": "code",
   "execution_count": 22,
   "metadata": {},
   "outputs": [],
   "source": [
    "h = 2**(0.5)/50\n",
    "mu = .025e-3\n",
    "eta = 2*mu\n",
    "\n",
    "chi_2 = mu/(1.5*h**2)(h**2/eta**2 - 1)*(dt)\n",
    "chi_1 = mu/(1.5*h**2)(h/eta - 1)*(dt)"
   ]
  },
  {
   "cell_type": "code",
   "execution_count": null,
   "metadata": {},
   "outputs": [],
   "source": []
  }
 ],
 "metadata": {
  "kernelspec": {
   "display_name": "Python 2",
   "language": "python",
   "name": "python2"
  },
  "language_info": {
   "codemirror_mode": {
    "name": "ipython",
    "version": 2
   },
   "file_extension": ".py",
   "mimetype": "text/x-python",
   "name": "python",
   "nbconvert_exporter": "python",
   "pygments_lexer": "ipython2",
   "version": "2.7.14"
  }
 },
 "nbformat": 4,
 "nbformat_minor": 2
}
