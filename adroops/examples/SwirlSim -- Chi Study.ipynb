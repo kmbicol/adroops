{
 "cells": [
  {
   "cell_type": "markdown",
   "metadata": {},
   "source": [
    "## Swirl Problem\n",
    "### Using SwirlSim Class\n",
    "This will be included in the dissertation"
   ]
  },
  {
   "cell_type": "code",
   "execution_count": 4,
   "metadata": {},
   "outputs": [],
   "source": [
    "import dolfin\n",
    "import adroops as adr\n",
    "\n",
    "rotate_vel = adr.SwirlSim(method='EFR')\n",
    "rotate_vel.T = 4.0\n",
    "rotate_vel.saveEvery = 4"
   ]
  },
  {
   "cell_type": "markdown",
   "metadata": {},
   "source": [
    "### By default\n",
    "- adroops assumes Neuman BC. Need to add example name 'ex' to list of NeedsDirBC by appending to list name. DirBC solution will be set as uExact value.\n",
    "- adroops assumes P2, change self.degree if you want different Finite Element Degree\n"
   ]
  },
  {
   "cell_type": "markdown",
   "metadata": {},
   "source": [
    "### Notes for me:\n",
    "- Need to double check chi formula in source code\n",
    "- Need to plot across N also!! woah\n",
    "- Need to run chi study for when chi = 1 for all nx\n",
    "- Need to run chi study for all nx for all chi_orders (maybe tonight?)\n",
    "- Need to make error plots for all nx all chi_orders figures"
   ]
  },
  {
   "cell_type": "code",
   "execution_count": 5,
   "metadata": {},
   "outputs": [
    {
     "name": "stdout",
     "output_type": "stream",
     "text": [
      "N = 0\n",
      "chi_order = 0\n",
      "chi_order = 1\n",
      "chi_order = 2\n",
      "N = 1\n",
      "chi_order = 0\n",
      "chi_order = 1\n",
      "chi_order = 2\n",
      "N = 2\n",
      "chi_order = 0\n",
      "chi_order = 1\n",
      "chi_order = 2\n",
      "N = 3\n",
      "chi_order = 0\n",
      "chi_order = 1\n",
      "chi_order = 2\n"
     ]
    }
   ],
   "source": [
    "rotate_vel.testChi()"
   ]
  },
  {
   "cell_type": "code",
   "execution_count": null,
   "metadata": {},
   "outputs": [],
   "source": []
  }
 ],
 "metadata": {
  "kernelspec": {
   "display_name": "Python 2",
   "language": "python",
   "name": "python2"
  },
  "language_info": {
   "codemirror_mode": {
    "name": "ipython",
    "version": 2
   },
   "file_extension": ".py",
   "mimetype": "text/x-python",
   "name": "python",
   "nbconvert_exporter": "python",
   "pygments_lexer": "ipython2",
   "version": "2.7.14"
  }
 },
 "nbformat": 4,
 "nbformat_minor": 2
}
