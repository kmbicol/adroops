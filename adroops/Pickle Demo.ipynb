{
 "cells": [
  {
   "cell_type": "code",
   "execution_count": 6,
   "metadata": {},
   "outputs": [],
   "source": [
    "import pickle\n",
    "\n",
    "data = [1, 1.2, 'a', 'b']\n",
    "\n",
    "with open('AF_custom.dat', 'wb') as f:\n",
    "    pickle.dump(data, f)"
   ]
  },
  {
   "cell_type": "code",
   "execution_count": 4,
   "metadata": {},
   "outputs": [
    {
     "name": "stdout",
     "output_type": "stream",
     "text": [
      "[1, 1.2, 'a', 'b']\n"
     ]
    }
   ],
   "source": [
    "with open('AF_custom.dat', 'rb') as f:\n",
    "    new_data = pickle.load(f)\n",
    "# pickle transforms the list into a series of bytes, procedure is called serialization\n",
    "\n",
    "# serializing an object is called pickling\n",
    "# deserializing it is called unpickling\n",
    "\n",
    "print(new_data)"
   ]
  },
  {
   "cell_type": "code",
   "execution_count": 12,
   "metadata": {},
   "outputs": [
    {
     "name": "stdout",
     "output_type": "stream",
     "text": [
      "MyClass created at 11:30 on 02-20-2019\n"
     ]
    }
   ],
   "source": [
    "# you can pickle AN INSTANCE OF A CLASS!!\n",
    "\n",
    "from time import time\n",
    "from datetime import datetime\n",
    "\n",
    "class MyClass:\n",
    "    def __init__(self):\n",
    "        self.init_time = time()\n",
    "\n",
    "    def __str__(self):\n",
    "        dt = datetime.fromtimestamp(self.init_time)\n",
    "        return 'MyClass created at {:%H:%M on %m-%d-%Y}'.\\\n",
    "            format(dt)\n",
    "\n",
    "my_class = MyClass()\n",
    "print(my_class)\n",
    "\n",
    "with open('AI_pickle_object.dat', 'wb') as f:\n",
    "    pickle.dump(my_class, f)\n",
    "\n"
   ]
  },
  {
   "cell_type": "markdown",
   "metadata": {},
   "source": [
    "If you do this, you will have an object that stores the time at which it was created and if you print that object, you will see the date nicely formatted. Pay attention also to the fact that that you are saving my_class and not MyClass to the pickled file. This means that you are saving an instance of your class, with the attributes that you have defined.\n",
    "\n",
    "From a second file, you would like to load what you have saved. You need to import the MyClass class, but the instance itself will be what you saved:"
   ]
  },
  {
   "cell_type": "code",
   "execution_count": 13,
   "metadata": {},
   "outputs": [
    {
     "name": "stdout",
     "output_type": "stream",
     "text": [
      "MyClass created at 11:30 on 02-20-2019\n"
     ]
    }
   ],
   "source": [
    "import pickle\n",
    "#from AI_pickle_object import MyClass\n",
    "# no need to import time or datetime!!!!\n",
    "\n",
    "with open('AI_pickle_object.dat', 'rb') as f:\n",
    "    new_class = pickle.load(f)\n",
    "\n",
    "print(new_class)"
   ]
  },
  {
   "cell_type": "markdown",
   "metadata": {},
   "source": [
    "https://www.pythonforthelab.com/blog/storing-binary-data-and-serializing/\n",
    "\n",
    "stopped at JSON part"
   ]
  },
  {
   "cell_type": "code",
   "execution_count": null,
   "metadata": {},
   "outputs": [],
   "source": []
  }
 ],
 "metadata": {
  "kernelspec": {
   "display_name": "Python 2",
   "language": "python",
   "name": "python2"
  },
  "language_info": {
   "codemirror_mode": {
    "name": "ipython",
    "version": 2
   },
   "file_extension": ".py",
   "mimetype": "text/x-python",
   "name": "python",
   "nbconvert_exporter": "python",
   "pygments_lexer": "ipython2",
   "version": "2.7.14"
  }
 },
 "nbformat": 4,
 "nbformat_minor": 2
}
