{
 "cells": [
  {
   "cell_type": "code",
   "execution_count": 1,
   "metadata": {},
   "outputs": [],
   "source": [
    "from dolfin import *\n",
    "import math as m\n",
    "import numpy as np\n",
    "import csv"
   ]
  },
  {
   "cell_type": "code",
   "execution_count": 10,
   "metadata": {},
   "outputs": [
    {
     "name": "stdout",
     "output_type": "stream",
     "text": [
      "End of Level 1------------------------------xxx\n",
      "End of Level 2------------------------------xxx\n",
      "End of Level 3------------------------------xxx\n",
      "End of Level 4------------------------------xxx\n",
      "End of Level 5------------------------------xxx\n"
     ]
    }
   ],
   "source": [
    "lvl = 1\n",
    "methodname = 'EFR'\n",
    "myfile = 'test.csv'\n",
    "N=0\n",
    "delta=1.0\n",
    "t=0.0\n",
    "for nx in [50, 100, 200, 400, 800]:\n",
    "    \n",
    "    errors = {'a':1, 'b':2, 'c':3}\n",
    "    \n",
    "    ffile = open(myfile,\"a+\")\n",
    "\n",
    "    if near(lvl,1):\n",
    "        outputf1 = methodname+' N = '+str(N)+', t = '+str(t)+\"\\n\"\n",
    "        ffile.write(outputf1)\n",
    "\n",
    "    outputf = '\\nLevel '+str(lvl)+', nx = '+str(nx)+', delta = '+str(delta)+'\\n'\n",
    "    ffile.write(outputf)\n",
    "    w = csv.writer(open(myfile, \"a+\"))\n",
    "    for key, val in errors.items():\n",
    "        w.writerow([key, val])\n",
    "    \n",
    "    print('End of Level '+str(lvl)+\"------------------------------xxx\")\n",
    "    lvl += 1"
   ]
  },
  {
   "cell_type": "code",
   "execution_count": null,
   "metadata": {},
   "outputs": [],
   "source": []
  }
 ],
 "metadata": {
  "kernelspec": {
   "display_name": "Python 2",
   "language": "python",
   "name": "python2"
  },
  "language_info": {
   "codemirror_mode": {
    "name": "ipython",
    "version": 2
   },
   "file_extension": ".py",
   "mimetype": "text/x-python",
   "name": "python",
   "nbconvert_exporter": "python",
   "pygments_lexer": "ipython2",
   "version": "2.7.14"
  }
 },
 "nbformat": 4,
 "nbformat_minor": 2
}
