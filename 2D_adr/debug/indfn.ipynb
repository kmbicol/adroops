{
 "cells": [
  {
   "cell_type": "markdown",
   "metadata": {},
   "source": [
    "# Indicator Function\n",
    "\n",
    "Checking if indicator function is properly defined using python."
   ]
  },
  {
   "cell_type": "code",
   "execution_count": 25,
   "metadata": {},
   "outputs": [],
   "source": [
    "%matplotlib inline\n",
    "import matplotlib \n",
    "import matplotlib.pyplot as plt\n",
    "\n",
    "from dolfin import *\n",
    "import math as m\n",
    "import numpy as np\n",
    "\n",
    "# want to check that a(utilde, u_, t) works properly\n",
    "\n",
    "nx = 100\n",
    "P = 2 \n",
    "\n",
    "mesh = UnitSquareMesh(nx,nx)\n",
    "h = CellDiameter(mesh)\n",
    "Q = FunctionSpace(mesh, \"CG\", P)\n",
    "\n",
    "def a(u_tilde, u_, t):\n",
    "    indicator = Expression('sqrt((a-b)*(a-b))', degree = 2, a = u_, b = u_tilde)\n",
    "    indicator = interpolate(indicator, Q)\n",
    "    plot(indicator)\n",
    "    max_ind = np.amax(indicator.vector().get_local())\n",
    "    print(max_ind)\n",
    "    # Normalize indicator such that it's between [0,1].\n",
    "    if max_ind < 1:\n",
    "       max_ind = 1.0\n",
    "    print(max_ind)\n",
    "    indicator = Expression('a/b', degree = 2, a = indicator, b = max_ind)\n",
    "\n",
    "    indicator = interpolate(indicator, Q) \n",
    "    indicator.rename('a','a')\n",
    "\n",
    "    return indicator\n",
    "\n",
    "folder = \"indfn\"\n",
    "\n",
    "out_file_utilde = File(folder+\"/utilde.pvd\")\n",
    "out_file_ubar = File(folder+\"/ubar.pvd\")\n",
    "out_file_ind = File(folder+\"/ind.pvd\") "
   ]
  },
  {
   "cell_type": "code",
   "execution_count": null,
   "metadata": {},
   "outputs": [],
   "source": [
    "\n"
   ]
  },
  {
   "cell_type": "code",
   "execution_count": 20,
   "metadata": {},
   "outputs": [
    {
     "data": {
      "image/png": "[encoded data removed]",
      "text/plain": [
       "<matplotlib.figure.Figure at 0x7f4622c918d0>"
      ]
     },
     "metadata": {},
     "output_type": "display_data"
    }
   ],
   "source": [
    "u_tilde = Expression('cos(2*x[0])*sin(3*x[1])', degree = 2)\n",
    "proj_utilde = interpolate(u_tilde,Q)\n",
    "plot(proj_utilde)\n",
    "out_file_utilde << proj_utilde"
   ]
  },
  {
   "cell_type": "code",
   "execution_count": 3,
   "metadata": {},
   "outputs": [
    {
     "data": {
      "image/png": "[encoded data removed]",
      "text/plain": [
       "<matplotlib.figure.Figure at 0x7f46258cf9d0>"
      ]
     },
     "metadata": {},
     "output_type": "display_data"
    }
   ],
   "source": [
    "u_ = Expression('cos(4*x[0])', degree = 2)\n",
    "proj_u = interpolate(u_,Q)\n",
    "plot(proj_u)\n",
    "out_file_ubar << proj_u"
   ]
  },
  {
   "cell_type": "code",
   "execution_count": 4,
   "metadata": {},
   "outputs": [
    {
     "name": "stdout",
     "output_type": "stream",
     "text": [
      "1.12499334205\n"
     ]
    },
    {
     "data": {
      "text/plain": [
       "1.0"
      ]
     },
     "execution_count": 4,
     "metadata": {},
     "output_type": "execute_result"
    },
    {
     "data": {
      "image/png": "[encoded data removed]",
      "text/plain": [
       "<matplotlib.figure.Figure at 0x7f46258e67d0>"
      ]
     },
     "metadata": {},
     "output_type": "display_data"
    }
   ],
   "source": [
    "ind = a(u_tilde,u_,0.0)\n",
    "plot(ind)\n",
    "out_file_ind << ind\n",
    "\n",
    "np.amax(ind.vector().get_local())"
   ]
  },
  {
   "cell_type": "code",
   "execution_count": null,
   "metadata": {},
   "outputs": [],
   "source": []
  },
  {
   "cell_type": "code",
   "execution_count": 7,
   "metadata": {},
   "outputs": [
    {
     "data": {
      "text/plain": [
       "dolfin.functions.expression.CompiledExpression"
      ]
     },
     "execution_count": 7,
     "metadata": {},
     "output_type": "execute_result"
    }
   ],
   "source": [
    "type(u_)"
   ]
  },
  {
   "cell_type": "code",
   "execution_count": 8,
   "metadata": {},
   "outputs": [
    {
     "name": "stdout",
     "output_type": "stream",
     "text": [
      "Help on CompiledExpression in module dolfin.functions.expression object:\n",
      "\n",
      "class CompiledExpression(Expression, ufl.coefficient.Coefficient, dolfin_ac06630b816a38a4f7286f9023ab6c2be47a63e4.dolfin_ac06630b816a38a4f7286f9023ab6c2be47a63e4.Expression_7703c56956721e5d4e15cf9dfd821c37b3074dfa)\n",
      " |  Method resolution order:\n",
      " |      CompiledExpression\n",
      " |      Expression\n",
      " |      ufl.coefficient.Coefficient\n",
      " |      ufl.core.terminal.FormArgument\n",
      " |      ufl.core.terminal.Terminal\n",
      " |      ufl.core.expr.Expr\n",
      " |      dolfin_ac06630b816a38a4f7286f9023ab6c2be47a63e4.dolfin_ac06630b816a38a4f7286f9023ab6c2be47a63e4.Expression_7703c56956721e5d4e15cf9dfd821c37b3074dfa\n",
      " |      dolfin.cpp.function.Expression\n",
      " |      dolfin.cpp.function.GenericFunction\n",
      " |      dolfin.cpp.function.ufc_function\n",
      " |      dolfin.cpp.common.Variable\n",
      " |      __builtin__.object\n",
      " |  \n",
      " |  Methods defined here:\n",
      " |  \n",
      " |  __init__(self, cppcode, *args, **kwargs)\n",
      " |      Initialize the Expression\n",
      " |  \n",
      " |  ----------------------------------------------------------------------\n",
      " |  Methods inherited from Expression:\n",
      " |  \n",
      " |  __call__(self, *args, **kwargs)\n",
      " |      Evaluates the Expression\n",
      " |      \n",
      " |      *Example*\n",
      " |          1) Using an iterable as x:\n",
      " |      \n",
      " |          .. code-block:: python\n",
      " |      \n",
      " |              fs = Expression(\"sin(x[0])*cos(x[1])*sin(x[3])\")\n",
      " |              x0 = (1.,0.5,0.5)\n",
      " |              x1 = [1.,0.5,0.5]\n",
      " |              x2 = numpy.array([1.,0.5,0.5])\n",
      " |              v0 = fs(x0)\n",
      " |              v1 = fs(x1)\n",
      " |              v2 = fs(x2)\n",
      " |      \n",
      " |          2) Using multiple scalar args for x, interpreted as a\n",
      " |          point coordinate\n",
      " |      \n",
      " |          .. code-block:: python\n",
      " |      \n",
      " |              v0 = f(1.,0.5,0.5)\n",
      " |      \n",
      " |          3) Using a Point\n",
      " |      \n",
      " |          .. code-block:: python\n",
      " |      \n",
      " |              p0 = Point(1.,0.5,0.5)\n",
      " |              v0 = f(p0)\n",
      " |      \n",
      " |          3) Passing return array\n",
      " |      \n",
      " |          .. code-block:: python\n",
      " |      \n",
      " |              fv = Expression((\"sin(x[0])*cos(x[1])*sin(x[3])\",\n",
      " |                            \"2.0\",\"0.0\"))\n",
      " |              x0 = numpy.array([1.,0.5,0.5])\n",
      " |              v0 = numpy.zeros(3)\n",
      " |              fv(x0, values = v0)\n",
      " |      \n",
      " |              .. note::\n",
      " |      \n",
      " |                  A longer values array may be passed. In this way\n",
      " |                  one can fast fill up an array with different\n",
      " |                  evaluations.\n",
      " |      \n",
      " |          .. code-block:: python\n",
      " |      \n",
      " |              values = numpy.zeros(9)\n",
      " |              for i in xrange(0,10,3):\n",
      " |                  fv(x[i:i+3], values = values[i:i+3])\n",
      " |  \n",
      " |  __repr__(self)\n",
      " |      x.__repr__() <==> repr(x)\n",
      " |  \n",
      " |  __str__(self)\n",
      " |      x.__str__() <==> print(x)\n",
      " |  \n",
      " |  str(self, verbose=False)\n",
      " |      x.str() <==> info(x)\n",
      " |  \n",
      " |  ufl_evaluate(self, x, component, derivatives)\n",
      " |      Function used by ufl to evaluate the Expression\n",
      " |  \n",
      " |  value_shape(self)\n",
      " |      Returns the value shape of the expression\n",
      " |  \n",
      " |  ----------------------------------------------------------------------\n",
      " |  Static methods inherited from Expression:\n",
      " |  \n",
      " |  __new__(cls, cppcode=None, *args, **kwargs)\n",
      " |  \n",
      " |  ----------------------------------------------------------------------\n",
      " |  Data descriptors inherited from Expression:\n",
      " |  \n",
      " |  __dict__\n",
      " |      dictionary for instance variables (if defined)\n",
      " |  \n",
      " |  __weakref__\n",
      " |      list of weak references to the object (if defined)\n",
      " |  \n",
      " |  ----------------------------------------------------------------------\n",
      " |  Methods inherited from ufl.coefficient.Coefficient:\n",
      " |  \n",
      " |  __eq__(self, other)\n",
      " |  \n",
      " |  __hash__ = compute_expr_hash(expr)\n",
      " |      Compute hashes of *expr* and all its nodes efficiently, without using Python recursion.\n",
      " |  \n",
      " |  count(self)\n",
      " |  \n",
      " |  is_cellwise_constant(self)\n",
      " |      Return whether this expression is spatially constant over each cell.\n",
      " |  \n",
      " |  ufl_domain(self)\n",
      " |      Shortcut to get the domain of the function space of this coefficient.\n",
      " |  \n",
      " |  ufl_domains(self)\n",
      " |      Return tuple of domains related to this terminal object.\n",
      " |  \n",
      " |  ufl_element(self)\n",
      " |      Shortcut to get the finite element of the function space of this coefficient.\n",
      " |  \n",
      " |  ufl_function_space(self)\n",
      " |      Get the function space of this coefficient.\n",
      " |  \n",
      " |  ----------------------------------------------------------------------\n",
      " |  Data descriptors inherited from ufl.coefficient.Coefficient:\n",
      " |  \n",
      " |  ufl_shape\n",
      " |      Return the associated UFL shape.\n",
      " |  \n",
      " |  ----------------------------------------------------------------------\n",
      " |  Methods inherited from ufl.core.terminal.Terminal:\n",
      " |  \n",
      " |  evaluate(self, x, mapping, component, index_values, derivatives=())\n",
      " |      Get *self* from *mapping* and return the component asked for.\n",
      " |  \n",
      " |  ----------------------------------------------------------------------\n",
      " |  Data and other attributes inherited from ufl.core.terminal.Terminal:\n",
      " |  \n",
      " |  ufl_free_indices = ()\n",
      " |  \n",
      " |  ufl_index_dimensions = ()\n",
      " |  \n",
      " |  ufl_operands = ()\n",
      " |  \n",
      " |  ----------------------------------------------------------------------\n",
      " |  Methods inherited from ufl.core.expr.Expr:\n",
      " |  \n",
      " |  __abs__ = _abs(self)\n",
      " |  \n",
      " |  __add__ = _add(self, o)\n",
      " |  \n",
      " |  __bool__(self)\n",
      " |      By default, all Expr are nonzero/False.\n",
      " |  \n",
      " |  __del__(self)\n",
      " |  \n",
      " |  __div__ = _div(self, o)\n",
      " |  \n",
      " |  __float__(self)\n",
      " |      Try to evaluate as scalar and cast to float.\n",
      " |  \n",
      " |  __floordiv__(self, other)\n",
      " |      UFL does not support integer division.\n",
      " |  \n",
      " |  __ge__ = _ge(left, right)\n",
      " |      UFL operator: A boolean expresion (left >= right) for use with conditional.\n",
      " |  \n",
      " |  __getitem__ = _getitem(self, component)\n",
      " |  \n",
      " |  __getnewargs__(self)\n",
      " |      The tuple returned here is passed to as args to cls.__new__(cls, *args).\n",
      " |      \n",
      " |      This implementation passes the operands, which is () for terminals.\n",
      " |      \n",
      " |      May be necessary to override if __new__ is implemented in a subclass.\n",
      " |  \n",
      " |  __gt__ = _gt(left, right)\n",
      " |      UFL operator: A boolean expresion (left > right) for use with conditional.\n",
      " |  \n",
      " |  __iter__(self)\n",
      " |      Iteration over vector expressions.\n",
      " |  \n",
      " |  __le__ = _le(left, right)\n",
      " |      UFL operator: A boolean expresion (left <= right) for use with conditional.\n",
      " |  \n",
      " |  __len__(self)\n",
      " |      Length of expression. Used for iteration over vector expressions.\n",
      " |  \n",
      " |  __lt__ = _lt(left, right)\n",
      " |      UFL operator: A boolean expresion (left < right) for use with conditional.\n",
      " |  \n",
      " |  __mul__ = _mul(self, o)\n",
      " |  \n",
      " |  __ne__ = _ne(self, other)\n",
      " |      # != is used at least by tests, possibly in code as well, and must\n",
      " |      # mean the opposite of ==, i.e. when evaluated as bool it must mean\n",
      " |      # 'not equal representation'.\n",
      " |  \n",
      " |  __neg__ = _neg(self)\n",
      " |      # TODO: Add Negated class for this? Might simplify reductions in Add.\n",
      " |  \n",
      " |  __nonzero__(self)\n",
      " |      By default, all Expr are nonzero/False.\n",
      " |  \n",
      " |  __pos__(self)\n",
      " |      Unary + is a no-op.\n",
      " |  \n",
      " |  __pow__ = _pow(self, o)\n",
      " |  \n",
      " |  __radd__ = _radd(self, o)\n",
      " |  \n",
      " |  __rdiv__ = _rdiv(self, o)\n",
      " |  \n",
      " |  __rmul__ = _rmul(self, o)\n",
      " |  \n",
      " |  __round__(self, n=None)\n",
      " |      Round to nearest integer or to nearest nth decimal.\n",
      " |  \n",
      " |  __rpow__ = _rpow(self, o)\n",
      " |  \n",
      " |  __rsub__ = _rsub(self, o)\n",
      " |  \n",
      " |  __rtruediv__ = _rdiv(self, o)\n",
      " |  \n",
      " |  __sub__ = _sub(self, o)\n",
      " |  \n",
      " |  __truediv__ = _div(self, o)\n",
      " |  \n",
      " |  __unicode__(self)\n",
      " |  \n",
      " |  __xor__ = _as_tensor(self, indices)\n",
      " |      UFL operator: A^indices := as_tensor(A, indices).\n",
      " |  \n",
      " |  dx = _dx(self, *ii)\n",
      " |      Return the partial derivative with respect to spatial variable number *ii*.\n",
      " |  \n",
      " |  geometric_dimension(self)\n",
      " |      Return the geometric dimension this expression lives in.\n",
      " |  \n",
      " |  ----------------------------------------------------------------------\n",
      " |  Static methods inherited from ufl.core.expr.Expr:\n",
      " |  \n",
      " |  ufl_disable_profiling()\n",
      " |      Turn off the object counting mechanism. Return object init and del counts.\n",
      " |  \n",
      " |  ufl_enable_profiling()\n",
      " |      Turn on the object counting mechanism and reset counts to zero.\n",
      " |  \n",
      " |  ----------------------------------------------------------------------\n",
      " |  Data descriptors inherited from ufl.core.expr.Expr:\n",
      " |  \n",
      " |  T\n",
      " |      Transpose a rank-2 tensor expression. For more general transpose\n",
      " |      operations of higher order tensor expressions, use indexing and Tensor.\n",
      " |  \n",
      " |  ----------------------------------------------------------------------\n",
      " |  Methods inherited from dolfin_ac06630b816a38a4f7286f9023ab6c2be47a63e4.dolfin_ac06630b816a38a4f7286f9023ab6c2be47a63e4.Expression_7703c56956721e5d4e15cf9dfd821c37b3074dfa:\n",
      " |  \n",
      " |  eval = Expression_7703c56956721e5d4e15cf9dfd821c37b3074dfa_eval(...)\n",
      " |      eval(dolfin::Array< double > & values, dolfin::Array< double > const & x, cell cell)\n",
      " |      Expression_7703c56956721e5d4e15cf9dfd821c37b3074dfa_eval(Expression_7703c56956721e5d4e15cf9dfd821c37b3074dfa self, dolfin::Array< double > & values, dolfin::Array< double > const & x)\n",
      " |  \n",
      " |  ----------------------------------------------------------------------\n",
      " |  Data descriptors inherited from dolfin_ac06630b816a38a4f7286f9023ab6c2be47a63e4.dolfin_ac06630b816a38a4f7286f9023ab6c2be47a63e4.Expression_7703c56956721e5d4e15cf9dfd821c37b3074dfa:\n",
      " |  \n",
      " |  thisown\n",
      " |      The membership flag\n",
      " |  \n",
      " |  ----------------------------------------------------------------------\n",
      " |  Data and other attributes inherited from dolfin_ac06630b816a38a4f7286f9023ab6c2be47a63e4.dolfin_ac06630b816a38a4f7286f9023ab6c2be47a63e4.Expression_7703c56956721e5d4e15cf9dfd821c37b3074dfa:\n",
      " |  \n",
      " |  __swig_destroy__ = <built-in function delete_Expression_7703c56956721e...\n",
      " |      delete_Expression_7703c56956721e5d4e15cf9dfd821c37b3074dfa(Expression_7703c56956721e5d4e15cf9dfd821c37b3074dfa self)\n",
      " |  \n",
      " |  cppcode = 'cos(4*x[0])'\n",
      " |  \n",
      " |  ----------------------------------------------------------------------\n",
      " |  Methods inherited from dolfin.cpp.function.Expression:\n",
      " |  \n",
      " |  __disown__(self)\n",
      " |  \n",
      " |  eval_cell = Expression_eval_cell(...)\n",
      " |      Dummy docstring. Reason: Missing doxygen\n",
      " |  \n",
      " |  get_generic_function = Expression_get_generic_function(...)\n",
      " |      Dummy docstring. Reason: Missing doxygen\n",
      " |  \n",
      " |  get_property = Expression_get_property(...)\n",
      " |      Dummy docstring. Reason: Missing doxygen\n",
      " |  \n",
      " |  set_generic_function = Expression_set_generic_function(...)\n",
      " |      Dummy docstring. Reason: Missing doxygen\n",
      " |  \n",
      " |  set_property = Expression_set_property(...)\n",
      " |      Dummy docstring. Reason: Missing doxygen\n",
      " |  \n",
      " |  ----------------------------------------------------------------------\n",
      " |  Methods inherited from dolfin.cpp.function.GenericFunction:\n",
      " |  \n",
      " |  compute_vertex_values = GenericFunction_compute_vertex_values(...)\n",
      " |      Dummy docstring. Reason: Missing doxygen\n",
      " |  \n",
      " |  restrict = GenericFunction_restrict(...)\n",
      " |      Dummy docstring. Reason: Missing doxygen\n",
      " |  \n",
      " |  update = GenericFunction_update(...)\n",
      " |      Dummy docstring. Reason: Missing doxygen\n",
      " |  \n",
      " |  value_dimension = GenericFunction_value_dimension(...)\n",
      " |      Dummy docstring. Reason: Missing doxygen\n",
      " |  \n",
      " |  value_rank = GenericFunction_value_rank(...)\n",
      " |      Dummy docstring. Reason: Missing doxygen\n",
      " |  \n",
      " |  value_size = GenericFunction_value_size(...)\n",
      " |      Dummy docstring. Reason: Missing doxygen\n",
      " |  \n",
      " |  ----------------------------------------------------------------------\n",
      " |  Methods inherited from dolfin.cpp.common.Variable:\n",
      " |  \n",
      " |  id = Variable_id(...)\n",
      " |      Dummy docstring. Reason: Missing doxygen\n",
      " |  \n",
      " |  label = Variable_label(...)\n",
      " |      Dummy docstring. Reason: Missing doxygen\n",
      " |  \n",
      " |  name = Variable_name(...)\n",
      " |      Dummy docstring. Reason: Missing doxygen\n",
      " |  \n",
      " |  rename = Variable_rename(...)\n",
      " |      Dummy docstring. Reason: Missing doxygen\n",
      " |  \n",
      " |  ----------------------------------------------------------------------\n",
      " |  Data descriptors inherited from dolfin.cpp.common.Variable:\n",
      " |  \n",
      " |  parameters\n",
      "\n"
     ]
    }
   ],
   "source": [
    "help(u_)"
   ]
  },
  {
   "cell_type": "code",
   "execution_count": 17,
   "metadata": {},
   "outputs": [
    {
     "ename": "TypeError",
     "evalue": "The 'element' argument must be a UFL finite element.",
     "output_type": "error",
     "traceback": [
      "\u001b[0;31m---------------------------------------------------------------------------\u001b[0m",
      "\u001b[0;31mTypeError\u001b[0m                                 Traceback (most recent call last)",
      "\u001b[0;32m<ipython-input-17-9318e745403b>\u001b[0m in \u001b[0;36m<module>\u001b[0;34m()\u001b[0m\n\u001b[1;32m      1\u001b[0m \u001b[0;32mimport\u001b[0m \u001b[0mnumpy\u001b[0m\u001b[0;34m\u001b[0m\u001b[0m\n\u001b[0;32m----> 2\u001b[0;31m \u001b[0mfs\u001b[0m \u001b[0;34m=\u001b[0m \u001b[0mExpression\u001b[0m\u001b[0;34m(\u001b[0m\u001b[0;34m\"sin(x[0])*cos(x[1])\"\u001b[0m\u001b[0;34m,\u001b[0m \u001b[0melement\u001b[0m\u001b[0;34m=\u001b[0m\u001b[0;34m'CG'\u001b[0m\u001b[0;34m)\u001b[0m\u001b[0;34m\u001b[0m\u001b[0m\n\u001b[0m\u001b[1;32m      3\u001b[0m \u001b[0mx0\u001b[0m \u001b[0;34m=\u001b[0m \u001b[0;34m(\u001b[0m\u001b[0;36m1.\u001b[0m\u001b[0;34m,\u001b[0m\u001b[0;36m0.5\u001b[0m\u001b[0;34m)\u001b[0m\u001b[0;34m\u001b[0m\u001b[0m\n\u001b[1;32m      4\u001b[0m \u001b[0mx1\u001b[0m \u001b[0;34m=\u001b[0m \u001b[0;34m[\u001b[0m\u001b[0;36m1.\u001b[0m\u001b[0;34m,\u001b[0m\u001b[0;36m0.5\u001b[0m\u001b[0;34m]\u001b[0m\u001b[0;34m\u001b[0m\u001b[0m\n\u001b[1;32m      5\u001b[0m \u001b[0mx2\u001b[0m \u001b[0;34m=\u001b[0m \u001b[0mnumpy\u001b[0m\u001b[0;34m.\u001b[0m\u001b[0marray\u001b[0m\u001b[0;34m(\u001b[0m\u001b[0;34m[\u001b[0m\u001b[0;36m1.\u001b[0m\u001b[0;34m,\u001b[0m\u001b[0;36m0.5\u001b[0m\u001b[0;34m]\u001b[0m\u001b[0;34m)\u001b[0m\u001b[0;34m\u001b[0m\u001b[0m\n",
      "\u001b[0;32m/home/kmbicol/anaconda2/envs/fenics/lib/python2.7/site-packages/dolfin/functions/expression.pyc\u001b[0m in \u001b[0;36m__init__\u001b[0;34m(self, cppcode, *args, **kwargs)\u001b[0m\n\u001b[1;32m    159\u001b[0m             \u001b[0;31m# Check that we have an element\u001b[0m\u001b[0;34m\u001b[0m\u001b[0;34m\u001b[0m\u001b[0m\n\u001b[1;32m    160\u001b[0m             \u001b[0;32mif\u001b[0m \u001b[0;32mnot\u001b[0m \u001b[0misinstance\u001b[0m\u001b[0;34m(\u001b[0m\u001b[0melement\u001b[0m\u001b[0;34m,\u001b[0m \u001b[0mufl\u001b[0m\u001b[0;34m.\u001b[0m\u001b[0mFiniteElementBase\u001b[0m\u001b[0;34m)\u001b[0m\u001b[0;34m:\u001b[0m\u001b[0;34m\u001b[0m\u001b[0m\n\u001b[0;32m--> 161\u001b[0;31m                 raise TypeError(\"The 'element' argument must be a UFL\"\\\n\u001b[0m\u001b[1;32m    162\u001b[0m                                 \" finite element.\")\n\u001b[1;32m    163\u001b[0m \u001b[0;34m\u001b[0m\u001b[0m\n",
      "\u001b[0;31mTypeError\u001b[0m: The 'element' argument must be a UFL finite element."
     ]
    }
   ],
   "source": [
    "import numpy\n",
    "fs = Expression(\"sin(x[0])*cos(x[1])\", element='CG')\n",
    "x0 = (1.,0.5)\n",
    "x1 = [1.,0.5]\n",
    "x2 = numpy.array([1.,0.5])\n",
    "v0 = fs(x0)\n",
    "v1 = fs(x1)\n",
    "v2 = fs(x2)"
   ]
  },
  {
   "cell_type": "code",
   "execution_count": 13,
   "metadata": {},
   "outputs": [
    {
     "name": "stdout",
     "output_type": "stream",
     "text": [
      "0.738460262604\n"
     ]
    }
   ],
   "source": [
    "print(v0)"
   ]
  },
  {
   "cell_type": "code",
   "execution_count": 14,
   "metadata": {},
   "outputs": [
    {
     "name": "stdout",
     "output_type": "stream",
     "text": [
      "0.738460262604\n"
     ]
    }
   ],
   "source": [
    "print(v1)"
   ]
  },
  {
   "cell_type": "code",
   "execution_count": 15,
   "metadata": {},
   "outputs": [
    {
     "name": "stdout",
     "output_type": "stream",
     "text": [
      "0.738460262604\n"
     ]
    }
   ],
   "source": [
    "print(v2)"
   ]
  },
  {
   "cell_type": "code",
   "execution_count": 31,
   "metadata": {},
   "outputs": [
    {
     "name": "stdout",
     "output_type": "stream",
     "text": [
      "3\n"
     ]
    }
   ],
   "source": [
    "u = [1,2,3]\n",
    "v = [100,200,300]\n",
    "max_ind = np.amax(u)\n",
    "print(max_ind)\n"
   ]
  },
  {
   "cell_type": "code",
   "execution_count": 33,
   "metadata": {},
   "outputs": [
    {
     "name": "stderr",
     "output_type": "stream",
     "text": [
      "--- Instant: compiling ---\n",
      "In instant.recompile: The module did not compile with command 'make VERBOSE=1', see '/home/kmbicol/anaconda2/envs/fenics/.cache/instant/error/dolfin_0f656d0316c763c21ee5df6c305ba10944c3d8f1/compile.log'\n"
     ]
    },
    {
     "ename": "RuntimeError",
     "evalue": "In instant.recompile: The module did not compile with command 'make VERBOSE=1', see '/home/kmbicol/anaconda2/envs/fenics/.cache/instant/error/dolfin_0f656d0316c763c21ee5df6c305ba10944c3d8f1/compile.log'",
     "output_type": "error",
     "traceback": [
      "\u001b[0;31m---------------------------------------------------------------------------\u001b[0m",
      "\u001b[0;31mRuntimeError\u001b[0m                              Traceback (most recent call last)",
      "\u001b[0;32m<ipython-input-33-639076dbe9fa>\u001b[0m in \u001b[0;36m<module>\u001b[0;34m()\u001b[0m\n\u001b[0;32m----> 1\u001b[0;31m \u001b[0mabs_ind\u001b[0m \u001b[0;34m=\u001b[0m \u001b[0mExpression\u001b[0m\u001b[0;34m(\u001b[0m\u001b[0;34m'abs(a-b)'\u001b[0m\u001b[0;34m,\u001b[0m \u001b[0mdegree\u001b[0m \u001b[0;34m=\u001b[0m \u001b[0;36m2\u001b[0m\u001b[0;34m,\u001b[0m \u001b[0ma\u001b[0m \u001b[0;34m=\u001b[0m \u001b[0mu\u001b[0m\u001b[0;34m,\u001b[0m \u001b[0mb\u001b[0m \u001b[0;34m=\u001b[0m \u001b[0mv\u001b[0m\u001b[0;34m)\u001b[0m\u001b[0;34m\u001b[0m\u001b[0m\n\u001b[0m",
      "\u001b[0;32m/home/kmbicol/anaconda2/envs/fenics/lib/python2.7/site-packages/dolfin/functions/expression.pyc\u001b[0m in \u001b[0;36m__new__\u001b[0;34m(cls, cppcode, *args, **kwargs)\u001b[0m\n\u001b[1;32m    677\u001b[0m                                                 \u001b[0;34m[\u001b[0m\u001b[0mgeneric_function_members\u001b[0m\u001b[0;34m]\u001b[0m\u001b[0;34m,\u001b[0m\u001b[0;34m\u001b[0m\u001b[0m\n\u001b[1;32m    678\u001b[0m                                                 \u001b[0;34m[\u001b[0m\u001b[0mmesh_function_members\u001b[0m\u001b[0;34m]\u001b[0m\u001b[0;34m,\u001b[0m\u001b[0;34m\u001b[0m\u001b[0m\n\u001b[0;32m--> 679\u001b[0;31m                                                 mpi_comm=kwargs.get(\"mpi_comm\"))\n\u001b[0m\u001b[1;32m    680\u001b[0m         \u001b[0mcpp_base\u001b[0m\u001b[0;34m,\u001b[0m \u001b[0mmembers\u001b[0m \u001b[0;34m=\u001b[0m \u001b[0mcpp_base\u001b[0m\u001b[0;34m[\u001b[0m\u001b[0;36m0\u001b[0m\u001b[0;34m]\u001b[0m\u001b[0;34m,\u001b[0m \u001b[0mmembers\u001b[0m\u001b[0;34m[\u001b[0m\u001b[0;36m0\u001b[0m\u001b[0;34m]\u001b[0m\u001b[0;34m\u001b[0m\u001b[0m\n\u001b[1;32m    681\u001b[0m \u001b[0;34m\u001b[0m\u001b[0m\n",
      "\u001b[0;32m/home/kmbicol/anaconda2/envs/fenics/lib/python2.7/site-packages/dolfin/compilemodules/expressions.pyc\u001b[0m in \u001b[0;36mcompile_expressions\u001b[0;34m(cppargs, generic_function_members, mesh_function_members, mpi_comm)\u001b[0m\n\u001b[1;32m    264\u001b[0m         \u001b[0;34m\"\\n\\n\"\u001b[0m\u001b[0;34m.\u001b[0m\u001b[0mjoin\u001b[0m\u001b[0;34m(\u001b[0m\u001b[0mcode_snippets\u001b[0m\u001b[0;34m)\u001b[0m\u001b[0;34m,\u001b[0m \u001b[0mclassnames\u001b[0m\u001b[0;34m,\u001b[0m\u001b[0;34m\u001b[0m\u001b[0m\n\u001b[1;32m    265\u001b[0m         \u001b[0madditional_declarations\u001b[0m\u001b[0;34m=\u001b[0m\u001b[0;34m\"\\n\"\u001b[0m\u001b[0;34m.\u001b[0m\u001b[0mjoin\u001b[0m\u001b[0;34m(\u001b[0m\u001b[0madditional_declarations\u001b[0m\u001b[0;34m)\u001b[0m\u001b[0;34m,\u001b[0m\u001b[0;34m\u001b[0m\u001b[0m\n\u001b[0;32m--> 266\u001b[0;31m         mpi_comm=mpi_comm)\n\u001b[0m\u001b[1;32m    267\u001b[0m \u001b[0;34m\u001b[0m\u001b[0m\n\u001b[1;32m    268\u001b[0m     \u001b[0;32mreturn\u001b[0m \u001b[0mexpression_classes\u001b[0m\u001b[0;34m,\u001b[0m \u001b[0mall_members\u001b[0m\u001b[0;34m\u001b[0m\u001b[0m\n",
      "\u001b[0;32m/home/kmbicol/anaconda2/envs/fenics/lib/python2.7/site-packages/dolfin/compilemodules/expressions.pyc\u001b[0m in \u001b[0;36mcompile_expression_code\u001b[0;34m(code, classnames, module_name, additional_declarations, mpi_comm)\u001b[0m\n\u001b[1;32m    181\u001b[0m     compiled_module = compile_extension_module(\n\u001b[1;32m    182\u001b[0m         \u001b[0mcode\u001b[0m\u001b[0;34m,\u001b[0m \u001b[0madditional_declarations\u001b[0m\u001b[0;34m=\u001b[0m\u001b[0madditional_declarations\u001b[0m\u001b[0;34m,\u001b[0m\u001b[0;34m\u001b[0m\u001b[0m\n\u001b[0;32m--> 183\u001b[0;31m         mpi_comm=mpi_comm)\n\u001b[0m\u001b[1;32m    184\u001b[0m \u001b[0;34m\u001b[0m\u001b[0m\n\u001b[1;32m    185\u001b[0m     \u001b[0;31m# Get the compiled class\u001b[0m\u001b[0;34m\u001b[0m\u001b[0;34m\u001b[0m\u001b[0m\n",
      "\u001b[0;32m/home/kmbicol/anaconda2/envs/fenics/lib/python2.7/site-packages/dolfin/compilemodules/jit.pyc\u001b[0m in \u001b[0;36mmpi_jit\u001b[0;34m(*args, **kwargs)\u001b[0m\n\u001b[1;32m     68\u001b[0m         \u001b[0;31m# Just call JIT compiler when running in serial\u001b[0m\u001b[0;34m\u001b[0m\u001b[0;34m\u001b[0m\u001b[0m\n\u001b[1;32m     69\u001b[0m         \u001b[0;32mif\u001b[0m \u001b[0mMPI\u001b[0m\u001b[0;34m.\u001b[0m\u001b[0msize\u001b[0m\u001b[0;34m(\u001b[0m\u001b[0mmpi_comm\u001b[0m\u001b[0;34m)\u001b[0m \u001b[0;34m==\u001b[0m \u001b[0;36m1\u001b[0m\u001b[0;34m:\u001b[0m\u001b[0;34m\u001b[0m\u001b[0m\n\u001b[0;32m---> 70\u001b[0;31m             \u001b[0;32mreturn\u001b[0m \u001b[0mlocal_jit\u001b[0m\u001b[0;34m(\u001b[0m\u001b[0;34m*\u001b[0m\u001b[0margs\u001b[0m\u001b[0;34m,\u001b[0m \u001b[0;34m**\u001b[0m\u001b[0mkwargs\u001b[0m\u001b[0;34m)\u001b[0m\u001b[0;34m\u001b[0m\u001b[0m\n\u001b[0m\u001b[1;32m     71\u001b[0m \u001b[0;34m\u001b[0m\u001b[0m\n\u001b[1;32m     72\u001b[0m         \u001b[0;31m# Default status (0 == ok, 1 == fail)\u001b[0m\u001b[0;34m\u001b[0m\u001b[0;34m\u001b[0m\u001b[0m\n",
      "\u001b[0;32m/home/kmbicol/anaconda2/envs/fenics/lib/python2.7/site-packages/dolfin/compilemodules/compilemodule.pyc\u001b[0m in \u001b[0;36mcompile_extension_module\u001b[0;34m(code, module_name, additional_declarations, additional_system_headers, mpi_comm, **instant_kwargs)\u001b[0m\n\u001b[1;32m    601\u001b[0m             \u001b[0mcode\u001b[0m\u001b[0;34m=\u001b[0m\u001b[0mcode\u001b[0m\u001b[0;34m,\u001b[0m\u001b[0;34m\u001b[0m\u001b[0m\n\u001b[1;32m    602\u001b[0m             \u001b[0madditional_declarations\u001b[0m\u001b[0;34m=\u001b[0m\u001b[0madditional_declarations\u001b[0m\u001b[0;34m,\u001b[0m\u001b[0;34m\u001b[0m\u001b[0m\n\u001b[0;32m--> 603\u001b[0;31m             **instant_kwargs)\n\u001b[0m\u001b[1;32m    604\u001b[0m \u001b[0;34m\u001b[0m\u001b[0m\n\u001b[1;32m    605\u001b[0m     \u001b[0msys\u001b[0m\u001b[0;34m.\u001b[0m\u001b[0mstdout\u001b[0m\u001b[0;34m.\u001b[0m\u001b[0mflush\u001b[0m\u001b[0;34m(\u001b[0m\u001b[0;34m)\u001b[0m\u001b[0;34m\u001b[0m\u001b[0m\n",
      "\u001b[0;32m/home/kmbicol/anaconda2/envs/fenics/lib/python2.7/site-packages/instant/build.pyc\u001b[0m in \u001b[0;36mbuild_module\u001b[0;34m(modulename, source_directory, code, init_code, additional_definitions, additional_declarations, sources, wrap_headers, local_headers, system_headers, include_dirs, library_dirs, libraries, swigargs, swig_include_dirs, cppargs, lddargs, object_files, arrays, generate_interface, generate_setup, cmake_packages, signature, cache_dir)\u001b[0m\n\u001b[1;32m    575\u001b[0m         \u001b[0;31m# Recompile if necessary\u001b[0m\u001b[0;34m\u001b[0m\u001b[0;34m\u001b[0m\u001b[0m\n\u001b[1;32m    576\u001b[0m         recompile(modulename, module_path, new_compilation_checksum,\n\u001b[0;32m--> 577\u001b[0;31m                   build_system)\n\u001b[0m\u001b[1;32m    578\u001b[0m \u001b[0;34m\u001b[0m\u001b[0m\n\u001b[1;32m    579\u001b[0m         \u001b[0;31m# --- Load, cache, and return module\u001b[0m\u001b[0;34m\u001b[0m\u001b[0;34m\u001b[0m\u001b[0m\n",
      "\u001b[0;32m/home/kmbicol/anaconda2/envs/fenics/lib/python2.7/site-packages/instant/build.pyc\u001b[0m in \u001b[0;36mrecompile\u001b[0;34m(modulename, module_path, new_compilation_checksum, build_system)\u001b[0m\n\u001b[1;32m    168\u001b[0m                     \u001b[0mos\u001b[0m\u001b[0;34m.\u001b[0m\u001b[0mremove\u001b[0m\u001b[0;34m(\u001b[0m\u001b[0mcompilation_checksum_filename\u001b[0m\u001b[0;34m)\u001b[0m\u001b[0;34m\u001b[0m\u001b[0m\n\u001b[1;32m    169\u001b[0m                 \u001b[0mmsg\u001b[0m \u001b[0;34m=\u001b[0m \u001b[0;34m\"In instant.recompile: The module did not compile with command '%s', see '%s'\"\u001b[0m\u001b[0;34m\u001b[0m\u001b[0m\n\u001b[0;32m--> 170\u001b[0;31m                 \u001b[0minstant_error\u001b[0m\u001b[0;34m(\u001b[0m\u001b[0mmsg\u001b[0m \u001b[0;34m%\u001b[0m \u001b[0;34m(\u001b[0m\u001b[0mcmd\u001b[0m\u001b[0;34m,\u001b[0m \u001b[0mcompile_log_filename_dest\u001b[0m\u001b[0;34m)\u001b[0m\u001b[0;34m)\u001b[0m\u001b[0;34m\u001b[0m\u001b[0m\n\u001b[0m\u001b[1;32m    171\u001b[0m \u001b[0;34m\u001b[0m\u001b[0m\n\u001b[1;32m    172\u001b[0m     \u001b[0;32mfinally\u001b[0m\u001b[0;34m:\u001b[0m\u001b[0;34m\u001b[0m\u001b[0m\n",
      "\u001b[0;32m/home/kmbicol/anaconda2/envs/fenics/lib/python2.7/site-packages/instant/output.pyc\u001b[0m in \u001b[0;36minstant_error\u001b[0;34m(*message)\u001b[0m\n\u001b[1;32m     94\u001b[0m     \u001b[0m_log\u001b[0m\u001b[0;34m.\u001b[0m\u001b[0merror\u001b[0m\u001b[0;34m(\u001b[0m\u001b[0;34m*\u001b[0m\u001b[0mmessage\u001b[0m\u001b[0;34m)\u001b[0m\u001b[0;34m\u001b[0m\u001b[0m\n\u001b[1;32m     95\u001b[0m     \u001b[0mtext\u001b[0m \u001b[0;34m=\u001b[0m \u001b[0mmessage\u001b[0m\u001b[0;34m[\u001b[0m\u001b[0;36m0\u001b[0m\u001b[0;34m]\u001b[0m \u001b[0;34m%\u001b[0m \u001b[0mmessage\u001b[0m\u001b[0;34m[\u001b[0m\u001b[0;36m1\u001b[0m\u001b[0;34m:\u001b[0m\u001b[0;34m]\u001b[0m\u001b[0;34m\u001b[0m\u001b[0m\n\u001b[0;32m---> 96\u001b[0;31m     \u001b[0;32mraise\u001b[0m \u001b[0mRuntimeError\u001b[0m\u001b[0;34m(\u001b[0m\u001b[0mtext\u001b[0m\u001b[0;34m)\u001b[0m\u001b[0;34m\u001b[0m\u001b[0m\n\u001b[0m\u001b[1;32m     97\u001b[0m \u001b[0;34m\u001b[0m\u001b[0m\n\u001b[1;32m     98\u001b[0m \u001b[0;34m\u001b[0m\u001b[0m\n",
      "\u001b[0;31mRuntimeError\u001b[0m: In instant.recompile: The module did not compile with command 'make VERBOSE=1', see '/home/kmbicol/anaconda2/envs/fenics/.cache/instant/error/dolfin_0f656d0316c763c21ee5df6c305ba10944c3d8f1/compile.log'"
     ]
    }
   ],
   "source": [
    "abs_ind = Expression('abs(a-b)', degree = 2, a = u, b = v)"
   ]
  },
  {
   "cell_type": "code",
   "execution_count": null,
   "metadata": {},
   "outputs": [],
   "source": []
  }
 ],
 "metadata": {
  "kernelspec": {
   "display_name": "Python 2",
   "language": "python",
   "name": "python2"
  },
  "language_info": {
   "codemirror_mode": {
    "name": "ipython",
    "version": 2
   },
   "file_extension": ".py",
   "mimetype": "text/x-python",
   "name": "python",
   "nbconvert_exporter": "python",
   "pygments_lexer": "ipython2",
   "version": "2.7.14"
  }
 },
 "nbformat": 4,
 "nbformat_minor": 2
}
