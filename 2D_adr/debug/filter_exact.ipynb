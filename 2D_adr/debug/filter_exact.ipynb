{
 "cells": [
  {
   "cell_type": "code",
   "execution_count": 31,
   "metadata": {},
   "outputs": [
    {
     "name": "stdout",
     "output_type": "stream",
     "text": [
      "u_exact = sin(DOLFIN_PI*x[0])*cos(DOLFIN_PI*x[1])\n",
      "u_ = sin(DOLFIN_PI*x[0])*cos(DOLFIN_PI*x[1]) + 2*pow(DOLFIN_PI, 2)*sin(DOLFIN_PI*x[0])*cos(DOLFIN_PI*x[1])\n"
     ]
    }
   ],
   "source": [
    "%matplotlib inline\n",
    "import matplotlib \n",
    "import matplotlib.pyplot as plt\n",
    "\n",
    "from __future__ import print_function\n",
    "import sympy as sym\n",
    "x, y = sym.symbols('x[0], x[1]')\n",
    "ue = sym.sin(sym.pi*x)*sym.cos(sym.pi*y)\n",
    "\n",
    "# Exact Solution\n",
    "ue = sym.simplify(ue)\n",
    "u_code = sym.printing.ccode(ue)\n",
    "u_code = u_code.replace('M_PI','DOLFIN_PI')\n",
    "print('u_exact = ' + u_code)\n",
    "\n",
    "# du/dt - mu*Laplace(u) + div(bu) + sigma*u = f\n",
    "fe = ue - (sym.diff(sym.diff(ue,x),x) + sym.diff(sym.diff(ue,y),y))\n",
    "\n",
    "f_code = sym.printing.ccode(fe)\n",
    "f_code = f_code.replace('M_PI','DOLFIN_PI')\n",
    "\n",
    "print('u_ = '+ f_code)\n"
   ]
  },
  {
   "cell_type": "code",
   "execution_count": 32,
   "metadata": {},
   "outputs": [],
   "source": [
    "from dolfin import *\n",
    "import math as m\n",
    "import numpy as np\n",
    "import csv\n",
    "\n",
    "u_code\n",
    "u_exact = Expression(u_code, degree = 1)\n",
    "u_ = Expression(f_code, degree = 1)"
   ]
  },
  {
   "cell_type": "code",
   "execution_count": 33,
   "metadata": {},
   "outputs": [],
   "source": [
    "def compute_errors(u_e, u):\n",
    "    \"\"\"Compute various measures of the error u - u_e, where\n",
    "    u is a finite element Function and u_e is an Expression.\"\"\"\n",
    "\n",
    "    # L2 norm\n",
    "    E5 = errornorm(u_e, u, norm_type='L2', degree_rise=3)\n",
    "\n",
    "    # H1 seminorm\n",
    "    E6 = errornorm(u_e, u, norm_type='H10', degree_rise=3)\n",
    "\n",
    "    # Collect error measures in a dictionary with self-explanatory keys\n",
    "    errors = {'L2 norm': E5,\n",
    "              'H10 seminorm': E6}\n",
    "\n",
    "    return errors\n",
    "\n",
    "\n",
    "myfile = 'error_filter.csv'\n"
   ]
  },
  {
   "cell_type": "code",
   "execution_count": 34,
   "metadata": {},
   "outputs": [],
   "source": [
    "def testfilter(nx, u_exact, u_):\n",
    "    S = 1.0 #scale such that delta = S*h\n",
    "    P = 1    # polynomial degree of FE\n",
    "    R = P\n",
    "\n",
    "    mesh = UnitSquareMesh(nx,nx)\n",
    "    h = CellDiameter(mesh)\n",
    "    Q = FunctionSpace(mesh, \"CG\", P)\n",
    "    \n",
    "    # Set up boundary condition\n",
    "    def boundary(x, on_boundary):\n",
    "        return on_boundary\n",
    "    u_D = Expression(u_exact.cppcode, degree = R)\n",
    "    bc = DirichletBC(Q, u_D, boundary)\n",
    "\n",
    "    # Test and trial functions\n",
    "    u, v = TrialFunction(Q), TestFunction(Q)\n",
    "    u_ = Function(Q)\n",
    "\n",
    "    #delta = S*1.0/nx\n",
    "    delta = 1.0\n",
    "    \n",
    "    u_tilde0 = Function(Q)\n",
    "\n",
    "    # Define variational problem for step 2a (apply Helmholz filter)\n",
    "    # Note: only RHS changes, so we can keep the same a2 throughout\n",
    "\n",
    "    a2 = v*u*dx + delta*delta*dot(grad(v), grad(u))*dx #lhs(F_Hfilter)\n",
    "    A2 = assemble(a2)\n",
    "\n",
    "    def L2(u_): # input is intermediate velocity OR previous u_tilde solution\n",
    "        L2 = v*u_*dx\n",
    "        return L2\n",
    "\n",
    "    # Step 2a Solve Helmholtz filter\n",
    "    # N=0\n",
    "    \n",
    "    b2_0 = assemble(L2(u_))\n",
    "    bc_0 = DirichletBC(Q, u_D, boundary)\n",
    "    bc_0.apply(b2_0)\n",
    "    bc_0.apply(A2)\n",
    "    solve(A2, u_tilde0.vector(), b2_0)\n",
    "\n",
    "    L2 = errornorm(u_exact, u_tilde0, norm_type='L2', degree_rise=3)\n",
    "\n",
    "    # H1 seminorm\n",
    "    H1_0 = errornorm(u_exact, u_tilde0, norm_type='H10', degree_rise=3)\n",
    "    H1 = np.sqrt(L2**2 + H1_0**2) \n",
    "    print('nx =',nx,', L2norm = ', L2, ', H1norm = ', H1)\n"
   ]
  },
  {
   "cell_type": "code",
   "execution_count": 35,
   "metadata": {},
   "outputs": [
    {
     "name": "stdout",
     "output_type": "stream",
     "text": [
      "nx = 25 , L2norm =  0.176022189228 , H1norm =  1.27935939844\n",
      "nx = 50 , L2norm =  0.176154300281 , H1norm =  1.27871424243\n",
      "nx = 100 , L2norm =  0.176187803659 , H1norm =  1.27855498637\n",
      "nx = 200 , L2norm =  0.1761962092 , H1norm =  1.27851529993\n"
     ]
    }
   ],
   "source": [
    "for nx in [25,50,100,200]:#400,800]:\n",
    "    testfilter(nx, u_exact, u_)\n",
    "    np.array"
   ]
  },
  {
   "cell_type": "code",
   "execution_count": 30,
   "metadata": {},
   "outputs": [
    {
     "name": "stdout",
     "output_type": "stream",
     "text": [
      "nx = 40 , L2norm =  0.176129297521 , H1norm =  1.27883421946\n"
     ]
    }
   ],
   "source": [
    "testfilter(40,u_exact,u_)"
   ]
  },
  {
   "cell_type": "code",
   "execution_count": 41,
   "metadata": {},
   "outputs": [
    {
     "data": {
      "image/png": "[encoded data removed]",
      "text/plain": [
       "<matplotlib.figure.Figure at 0x7faffb832a90>"
      ]
     },
     "metadata": {},
     "output_type": "display_data"
    }
   ],
   "source": [
    "# log y axis\n",
    "t = np.array([1, 2, 3, 4, 5])\n",
    "plt.semilogy(t, np.exp(-t))\n",
    "plt.title('semilogy')\n",
    "plt.grid(True)"
   ]
  },
  {
   "cell_type": "code",
   "execution_count": null,
   "metadata": {},
   "outputs": [],
   "source": [
    "    \n",
    "    # Define indicator function to evaluate current time step\n",
    "    def a(u_tilde, u_, t):\n",
    "        indicator = Expression('sqrt((a-b)*(a-b))', degree = 2, a = u_, b = u_tilde)\n",
    "        indicator = interpolate(indicator, Q)\n",
    "        max_ind = np.amax(indicator.vector().get_local())#.vector().array())\n",
    "\n",
    "        # Normalize indicator such that it's between [0,1].\n",
    "        if max_ind < 1:\n",
    "           max_ind = 1.0\n",
    "\n",
    "        indicator = Expression('a/b', degree = 2, a = indicator, b = max_ind)\n",
    "        indicator = interpolate(indicator, Q) \n",
    "        indicator.rename('a','a')\n",
    "        #out_file_ind << (indicator, float(t))\n",
    "        return indicator\n",
    "    \n",
    "    # Define variational problem for step 2b (evaluate indicator and find filtered solution)\n",
    "    def a3(ind):\n",
    "        a3 = v*u*dx + delta*delta*dot(grad(v), ind*grad(u))*dx\n",
    "        return a3\n",
    "    L3 = v*u_*dx\n",
    "\n",
    "    \n",
    "            DF = Expression('a', degree = R, a=u_tilde0)\n",
    "\n",
    "        # Step 2b Calculate Indicator and solve Ind Problem\n",
    "        ind = a(DF, u_, float(t))\n",
    "\n",
    "        A3 = assemble(a3(ind))\n",
    "        bc.apply(A3)\n",
    "\n",
    "        b3 = assemble(L3)\n",
    "        bc.apply(b3)\n",
    "\n",
    "        solve(A3, u_bar.vector(), b3, \"gmres\")"
   ]
  },
  {
   "cell_type": "code",
   "execution_count": null,
   "metadata": {},
   "outputs": [],
   "source": [
    "\n",
    "    ffile = open(myfile,\"a+\")\n",
    "    if near(lvl, 1):\n",
    "        outputf1 = methodname+' N = '+str(N)+', t = '+str(t)+\"\\n\"\n",
    "        ffile.write(outputf1)\n",
    "\n",
    "    outputf = '\\nLevel '+str(lvl)+', nx = '+str(nx)+'\\n'\n",
    "    ffile.write(outputf)\n",
    "\n",
    "    w = csv.writer(open(myfile, \"a+\"))\n",
    "    for key, val in errors.items():\n",
    "        w.writerow([key, val])\n",
    "\n",
    "    lvl += 1"
   ]
  }
 ],
 "metadata": {
  "kernelspec": {
   "display_name": "Python 2",
   "language": "python",
   "name": "python2"
  },
  "language_info": {
   "codemirror_mode": {
    "name": "ipython",
    "version": 2
   },
   "file_extension": ".py",
   "mimetype": "text/x-python",
   "name": "python",
   "nbconvert_exporter": "python",
   "pygments_lexer": "ipython2",
   "version": "2.7.14"
  }
 },
 "nbformat": 4,
 "nbformat_minor": 2
}
