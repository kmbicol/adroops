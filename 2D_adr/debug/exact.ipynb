{
 "cells": [
  {
   "cell_type": "code",
   "execution_count": 3,
   "metadata": {},
   "outputs": [],
   "source": [
    "%matplotlib inline\n",
    "from dolfin import *\n",
    "import math as m\n",
    "import numpy as np\n",
    "import matplotlib as cm\n",
    "import numpy as np\n",
    "import matplotlib.pyplot as plt\n"
   ]
  },
  {
   "cell_type": "markdown",
   "metadata": {},
   "source": [
    "# Exact Solution\n",
    "\n",
    "Calculates manufactured solutions for ADR equation"
   ]
  },
  {
   "cell_type": "code",
   "execution_count": 4,
   "metadata": {},
   "outputs": [
    {
     "name": "stdout",
     "output_type": "stream",
     "text": [
      "-16.0*x[0]*x[1]*(x[0] - 1)*(x[1] - 1)*(atan(2000.0*pow(x[0] - 0.5, 2) + 2000.0*pow(x[1] - 0.5, 2) - 125.0) - 0.5*M_PI)*sin(M_PI*t)/M_PI\n",
      "-16.0*x[0]*x[1]*(x[0] - 1)*(x[1] - 1)*(atan(2000.0*pow(x[0] - 0.5, 2) + 2000.0*pow(x[1] - 0.5, 2) - 125.0) - 0.5*DOLFIN_PI)*sin(DOLFIN_PI*t)/DOLFIN_PI\n"
     ]
    }
   ],
   "source": [
    "from __future__ import print_function\n",
    "import sympy as sym\n",
    "x, y, t = sym.symbols('x[0], x[1], t')\n",
    "sigma = 1.0\n",
    "mu = 10**(-6)\n",
    "velocity = as_vector([2.0, 3.0])\n",
    "a = velocity[0]\n",
    "b = velocity[1]\n",
    "\n",
    "c = 16.0*sym.sin(sym.pi*t)\n",
    "h = x*(1-x)*y*(1-y)\n",
    "g = 2*mu**(-0.5)*(0.25**2 - (x - 0.5)**2 - (y - 0.5)**2 )\n",
    "\n",
    "ue = c*h*(0.5+sym.atan(g)/sym.pi)\n",
    "\n",
    "# Exact Solution\n",
    "ue = sym.simplify(ue)\n",
    "u_code = sym.printing.ccode(ue)\n",
    "print(u_code)\n",
    "\n",
    "u_code = u_code.replace('M_PI','DOLFIN_PI')\n",
    "\n",
    "print(u_code)\n"
   ]
  },
  {
   "cell_type": "code",
   "execution_count": 5,
   "metadata": {},
   "outputs": [
    {
     "name": "stdout",
     "output_type": "stream",
     "text": [
      "-1.6e-5*x[0]*x[1]*(x[0] - 1)*(4000.0*x[0] - 2000.0)*(8000.0*x[0] - 4000.0)*(x[1] - 1)*(2000.0*pow(x[0] - 0.5, 2) + 2000.0*pow(x[1] - 0.5, 2) - 125.0)*sin(DOLFIN_PI*t)/(DOLFIN_PI*pow(pow(2000.0*pow(x[0] - 0.5, 2) + 2000.0*pow(x[1] - 0.5, 2) - 125.0, 2) + 1, 2)) - 32.0*x[0]*x[1]*(x[0] - 1)*(4000.0*x[0] - 2000.0)*(x[1] - 1)*sin(DOLFIN_PI*t)/(DOLFIN_PI*(pow(2000.0*pow(x[0] - 0.5, 2) + 2000.0*pow(x[1] - 0.5, 2) - 125.0, 2) + 1)) - 1.6e-5*x[0]*x[1]*(x[0] - 1)*(x[1] - 1)*(4000.0*x[1] - 2000.0)*(8000.0*x[1] - 4000.0)*(2000.0*pow(x[0] - 0.5, 2) + 2000.0*pow(x[1] - 0.5, 2) - 125.0)*sin(DOLFIN_PI*t)/(DOLFIN_PI*pow(pow(2000.0*pow(x[0] - 0.5, 2) + 2000.0*pow(x[1] - 0.5, 2) - 125.0, 2) + 1, 2)) - 48.0*x[0]*x[1]*(x[0] - 1)*(x[1] - 1)*(4000.0*x[1] - 2000.0)*sin(DOLFIN_PI*t)/(DOLFIN_PI*(pow(2000.0*pow(x[0] - 0.5, 2) + 2000.0*pow(x[1] - 0.5, 2) - 125.0, 2) + 1)) - 16.0*x[0]*x[1]*(x[0] - 1)*(x[1] - 1)*(atan(2000.0*pow(x[0] - 0.5, 2) + 2000.0*pow(x[1] - 0.5, 2) - 125.0) - 0.5*DOLFIN_PI)*sin(DOLFIN_PI*t)/DOLFIN_PI - 16.0*x[0]*x[1]*(x[0] - 1)*(x[1] - 1)*(atan(2000.0*pow(x[0] - 0.5, 2) + 2000.0*pow(x[1] - 0.5, 2) - 125.0) - 0.5*DOLFIN_PI)*cos(DOLFIN_PI*t) + 0.128*x[0]*x[1]*(x[0] - 1)*(x[1] - 1)*sin(DOLFIN_PI*t)/(DOLFIN_PI*(pow(2000.0*pow(x[0] - 0.5, 2) + 2000.0*pow(x[1] - 0.5, 2) - 125.0, 2) + 1)) + 3.2e-5*x[0]*x[1]*(x[0] - 1)*(4000.0*x[1] - 2000.0)*sin(DOLFIN_PI*t)/(DOLFIN_PI*(pow(2000.0*pow(x[0] - 0.5, 2) + 2000.0*pow(x[1] - 0.5, 2) - 125.0, 2) + 1)) - 48.0*x[0]*x[1]*(x[0] - 1)*(atan(2000.0*pow(x[0] - 0.5, 2) + 2000.0*pow(x[1] - 0.5, 2) - 125.0) - 0.5*DOLFIN_PI)*sin(DOLFIN_PI*t)/DOLFIN_PI + 3.2e-5*x[0]*x[1]*(4000.0*x[0] - 2000.0)*(x[1] - 1)*sin(DOLFIN_PI*t)/(DOLFIN_PI*(pow(2000.0*pow(x[0] - 0.5, 2) + 2000.0*pow(x[1] - 0.5, 2) - 125.0, 2) + 1)) - 32.0*x[0]*x[1]*(x[1] - 1)*(atan(2000.0*pow(x[0] - 0.5, 2) + 2000.0*pow(x[1] - 0.5, 2) - 125.0) - 0.5*DOLFIN_PI)*sin(DOLFIN_PI*t)/DOLFIN_PI + 3.2e-5*x[0]*(x[0] - 1)*(x[1] - 1)*(4000.0*x[1] - 2000.0)*sin(DOLFIN_PI*t)/(DOLFIN_PI*(pow(2000.0*pow(x[0] - 0.5, 2) + 2000.0*pow(x[1] - 0.5, 2) - 125.0, 2) + 1)) - 48.0*x[0]*(x[0] - 1)*(x[1] - 1)*(atan(2000.0*pow(x[0] - 0.5, 2) + 2000.0*pow(x[1] - 0.5, 2) - 125.0) - 0.5*DOLFIN_PI)*sin(DOLFIN_PI*t)/DOLFIN_PI + 3.2e-5*x[0]*(x[0] - 1)*(atan(2000.0*pow(x[0] - 0.5, 2) + 2000.0*pow(x[1] - 0.5, 2) - 125.0) - 0.5*DOLFIN_PI)*sin(DOLFIN_PI*t)/DOLFIN_PI + 3.2e-5*x[1]*(x[0] - 1)*(4000.0*x[0] - 2000.0)*(x[1] - 1)*sin(DOLFIN_PI*t)/(DOLFIN_PI*(pow(2000.0*pow(x[0] - 0.5, 2) + 2000.0*pow(x[1] - 0.5, 2) - 125.0, 2) + 1)) - 32.0*x[1]*(x[0] - 1)*(x[1] - 1)*(atan(2000.0*pow(x[0] - 0.5, 2) + 2000.0*pow(x[1] - 0.5, 2) - 125.0) - 0.5*DOLFIN_PI)*sin(DOLFIN_PI*t)/DOLFIN_PI + 3.2e-5*x[1]*(x[1] - 1)*(atan(2000.0*pow(x[0] - 0.5, 2) + 2000.0*pow(x[1] - 0.5, 2) - 125.0) - 0.5*DOLFIN_PI)*sin(DOLFIN_PI*t)/DOLFIN_PI\n"
     ]
    }
   ],
   "source": [
    "\n",
    "# du/dt - mu*Laplace(u) + div(bu) + sigma*u = f\n",
    "fe = sym.diff(ue,t) - mu*(sym.diff(sym.diff(ue,x),x) + sym.diff(sym.diff(ue,y),y))\n",
    "fe += a*sym.diff(ue,x) + b*sym.diff(ue,y)\n",
    "fe += sigma*ue\n",
    "\n",
    "f_code = sym.printing.ccode(fe)\n",
    "f_code = f_code.replace('M_PI','DOLFIN_PI')\n",
    "print(f_code)\n"
   ]
  },
  {
   "cell_type": "code",
   "execution_count": null,
   "metadata": {},
   "outputs": [],
   "source": [
    "%matplotlib inline\n",
    "\n",
    "import matplotlib\n",
    "import numpy as np\n",
    "import matplotlib.pyplot as plt"
   ]
  },
  {
   "cell_type": "code",
   "execution_count": null,
   "metadata": {},
   "outputs": [],
   "source": [
    "plot(ind)"
   ]
  },
  {
   "cell_type": "code",
   "execution_count": null,
   "metadata": {},
   "outputs": [],
   "source": []
  }
 ],
 "metadata": {
  "kernelspec": {
   "display_name": "Python 2",
   "language": "python",
   "name": "python2"
  },
  "language_info": {
   "codemirror_mode": {
    "name": "ipython",
    "version": 2
   },
   "file_extension": ".py",
   "mimetype": "text/x-python",
   "name": "python",
   "nbconvert_exporter": "python",
   "pygments_lexer": "ipython2",
   "version": "2.7.14"
  }
 },
 "nbformat": 4,
 "nbformat_minor": 2
}
