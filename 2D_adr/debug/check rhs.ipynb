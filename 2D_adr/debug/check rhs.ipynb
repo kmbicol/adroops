{
 "cells": [
  {
   "cell_type": "markdown",
   "metadata": {},
   "source": [
    "# Boundary Conditions\n",
    "\n",
    "Checking if boundary conditions are properly added."
   ]
  },
  {
   "cell_type": "code",
   "execution_count": 1,
   "metadata": {},
   "outputs": [],
   "source": [
    "%matplotlib inline\n",
    "\n",
    "from dolfin import *\n",
    "import math as m\n",
    "import numpy as np\n",
    "import matplotlib \n",
    "import matplotlib.pyplot as plt\n",
    "\n",
    "nx = 20\n",
    "P = 1\n",
    "\n",
    "mesh = UnitSquareMesh(nx,nx)\n",
    "h = CellDiameter(mesh)\n",
    "Q = FunctionSpace(mesh, \"CG\", P)"
   ]
  },
  {
   "cell_type": "code",
   "execution_count": 3,
   "metadata": {},
   "outputs": [
    {
     "name": "stdout",
     "output_type": "stream",
     "text": [
      "pow(t, 2) + x[0] + x[1]\n",
      "1.0*pow(t, 2) + 2*t + 1.0*x[0] + 1.0*x[1] + 2.0\n"
     ]
    }
   ],
   "source": [
    "from __future__ import print_function\n",
    "import sympy as sym\n",
    "x, y, t = sym.symbols('x[0], x[1], t')\n",
    "sigma = 1.0\n",
    "mu = 10**(-6)\n",
    "velocity = as_vector([1.0, 1.0])\n",
    "a = velocity[0]\n",
    "b = velocity[1]\n",
    "\n",
    "ue = x + y + t**2\n",
    "\n",
    "# Exact Solution\n",
    "ue = sym.simplify(ue)\n",
    "u_code = sym.printing.ccode(ue)\n",
    "u_code = u_code.replace('M_PI','DOLFIN_PI')\n",
    "\n",
    "print(u_code)\n",
    "\n",
    "# du/dt - mu*Laplace(u) + div(bu) + sigma*u = f\n",
    "fe = sym.diff(ue,t) - mu*(sym.diff(sym.diff(ue,x),x) + sym.diff(sym.diff(ue,y),y))\n",
    "fe += a*sym.diff(ue,x) + b*sym.diff(ue,y)\n",
    "fe += sigma*ue\n",
    "\n",
    "f_code = sym.printing.ccode(fe)\n",
    "f_code = f_code.replace('M_PI','DOLFIN_PI')\n",
    "print(f_code)\n"
   ]
  },
  {
   "cell_type": "code",
   "execution_count": 4,
   "metadata": {},
   "outputs": [
    {
     "name": "stderr",
     "output_type": "stream",
     "text": [
      "--- Instant: compiling ---\n"
     ]
    }
   ],
   "source": [
    "f = Expression(f_code, degree = P, t=0.0)\n",
    "u_n = Function(Q)\n",
    "u_D = Constant(0.0)\n",
    "dt = 0.001\n",
    "S = 1.0\n",
    "T = 1.0\n",
    "\n",
    "# Set up boundary condition\n",
    "def boundary(x, on_boundary):\n",
    "    return on_boundary\n",
    "bc = DirichletBC(Q, u_D, boundary)\n",
    "\n",
    "\n",
    "# Don't Modify Below This! -----------#\n",
    "\n",
    "# Test and trial functions\n",
    "u, v = TrialFunction(Q), TestFunction(Q)\n",
    "u_ = Function(Q)\n",
    "u_bar = Function(Q)\n",
    "\n",
    "# Galerkin variational problem\n",
    "# Backward Euler\n",
    "F = v*(u - u_n)*dx + dt*(mu*dot(grad(v), grad(u))*dx \\\n",
    "                        + v*dot(velocity, grad(u))*dx \\\n",
    "                        + sigma*v*u*dx \\\n",
    "                        - f*v*dx)\n",
    "\n",
    "# --- Begin EFR --- #\n",
    "delta = S*1.0/nx\n",
    "\n",
    "u_tilde0 = Function(Q)\n",
    "\n",
    "\n",
    "# Define indicator function to evaluate current time step\n",
    "def a(u_tilde, u_, t):\n",
    "    indicator = Expression('sqrt((a-b)*(a-b))', degree = 2, a = u_, b = u_tilde)\n",
    "    indicator = interpolate(indicator, Q)\n",
    "    max_ind = np.amax(indicator.vector().get_local())#.vector().array())\n",
    "\n",
    "    # Normalize indicator such that it's between [0,1].\n",
    "    if max_ind < 1:\n",
    "       max_ind = 1.0\n",
    "\n",
    "    indicator = Expression('a/b', degree = 2, a = indicator, b = max_ind)\n",
    "    indicator = interpolate(indicator, Q) \n",
    "    indicator.rename('a','a')\n",
    "    #out_file_ind << (indicator, float(t))\n",
    "    return indicator\n"
   ]
  },
  {
   "cell_type": "code",
   "execution_count": 27,
   "metadata": {},
   "outputs": [
    {
     "name": "stdout",
     "output_type": "stream",
     "text": [
      "Calling FFC just-in-time (JIT) compiler, this may take some time.\n"
     ]
    }
   ],
   "source": [
    "# Define variational problem for step 2a (apply Helmholz filter)\n",
    "# Note: only RHS changes, so we can keep the same a2 throughout\n",
    "\n",
    "a2 = v*u*dx + delta*delta*dot(grad(v), grad(u))*dx #lhs(F_Hfilter)\n",
    "A2 = assemble(a2)\n",
    "\n",
    "def L2(u_): # input is intermediate velocity OR previous u_tilde solution\n",
    "    L2 = v*u_*dx\n",
    "    return L2\n",
    "\n",
    "# Define variational problem for step 2b (evaluate indicator and find filtered solution)\n",
    "def a3(ind):\n",
    "    a3 = v*u*dx + delta*delta*dot(grad(v), ind*grad(u))*dx\n",
    "    return a3\n",
    "\n",
    "L3 = v*u_*dx\n",
    "\n",
    "# --- End EFR --- #\n",
    "\n",
    "num_steps = int(round(T / dt, 0)) \n",
    "\n",
    "# Create bilinear and linear forms\n",
    "a1 = lhs(F)\n",
    "L = rhs(F)"
   ]
  },
  {
   "cell_type": "code",
   "execution_count": 30,
   "metadata": {},
   "outputs": [
    {
     "name": "stdout",
     "output_type": "stream",
     "text": [
      "<Matrix wrapper of <PETScMatrix of size 441 x 441>>\n"
     ]
    }
   ],
   "source": [
    "# Assemble matrices\n",
    "A1 = assemble(a1)\n",
    "bc.apply(A1)"
   ]
  },
  {
   "cell_type": "code",
   "execution_count": null,
   "metadata": {},
   "outputs": [],
   "source": [
    "# Step 1 Solve on Coarse Grid\n",
    "#b = assemble(L)\n",
    "#bc.apply(b)\n",
    "#solve(A1, u_.vector(), b, \"gmres\")\n",
    "\n",
    "# Step 2a Solve Helmholtz filter\n",
    "# N=0\n",
    "b2_0 = assemble(L2(u_))\n",
    "bc_0 = DirichletBC(Q, u_, boundary)\n",
    "bc_0.apply(b2_0)\n",
    "bc_0.apply(A2)\n",
    "solve(A2, u_tilde0.vector(), b2_0, \"cg\")\n",
    "DF = Expression('a', degree = R, a=u_tilde0)\n",
    "\n",
    "# Step 2b Calculate Indicator and solve Ind Problem\n",
    "ind = a(DF, u_, float(t))\n",
    "\n",
    "A3 = assemble(a3(ind))\n",
    "bc.apply(A3)\n",
    "\n",
    "b3 = assemble(L3)\n",
    "bc.apply(b3)\n",
    "\n",
    "solve(A3, u_bar.vector(), b3, \"gmres\")\n",
    "\n",
    "progress.update(t / T)\n",
    "\n",
    "# Update previous solution and source term\n",
    "u_n.assign(u_bar)\n",
    "# Update current time\n",
    "t += dt\n",
    "f.t += dt"
   ]
  }
 ],
 "metadata": {
  "kernelspec": {
   "display_name": "Python 2",
   "language": "python",
   "name": "python2"
  },
  "language_info": {
   "codemirror_mode": {
    "name": "ipython",
    "version": 2
   },
   "file_extension": ".py",
   "mimetype": "text/x-python",
   "name": "python",
   "nbconvert_exporter": "python",
   "pygments_lexer": "ipython2",
   "version": "2.7.14"
  }
 },
 "nbformat": 4,
 "nbformat_minor": 2
}
