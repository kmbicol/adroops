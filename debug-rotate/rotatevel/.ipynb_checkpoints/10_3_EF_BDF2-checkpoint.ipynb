{
 "cells": [
  {
   "cell_type": "markdown",
   "metadata": {},
   "source": [
    "# Evolve-Filter, time dep, N varies\n",
    "\n",
    "* $\\delta = 1/nx$\n",
    "* $a = a_D$"
   ]
  },
  {
   "cell_type": "code",
   "execution_count": null,
   "metadata": {
    "scrolled": true
   },
   "outputs": [],
   "source": [
    "notes = \"\\n Evolve then Filter: BDF2 using P2 and halving timestep at each refinement level \\n\\n\"\n",
    "\n",
    "from dolfin import *\n",
    "from __future__ import print_function\n",
    "import numpy as np\n",
    "import sympy as sym\n",
    "import csv\n",
    "\n",
    "def compute_errors(u_e, u, t, mesh):\n",
    "\tL2n = errornorm(u_e, u, norm_type='L2', degree_rise=3, mesh=mesh)\n",
    "\tH1n = errornorm(u_e, u, norm_type='H1', degree_rise=3, mesh=mesh)\n",
    "\treturn L2n, H1n\n",
    "\n",
    "def compute_extrema(u, t):\n",
    "    maxval = np.amax(u.vector().get_local())\n",
    "    minval = np.amin(u.vector().get_local())\n",
    "    return maxval, minval\n",
    "\n",
    "# filter solving\n",
    "\n",
    "def deconv_filter(u_, delta, Q, boundary):\n",
    "    u_tilde = TrialFunction(Q)\n",
    "    v = TestFunction(Q)\n",
    "\n",
    "    F_Hfilter = v*u_tilde*dx + delta*delta*dot(grad(v), grad(u_tilde))*dx - v*u_*dx \n",
    "\n",
    "    a_Hfilter = lhs(F_Hfilter)\n",
    "    L_Hfilter = rhs(F_Hfilter)\n",
    "    \n",
    "    bc = DirichletBC(Q, u_, boundary)\n",
    "    \n",
    "    A_Hfilter = assemble(a_Hfilter)\n",
    "    bc.apply(A_Hfilter)\n",
    "\n",
    "    b_Hfilter = assemble(L_Hfilter)\n",
    "    bc.apply(b_Hfilter)\n",
    "\n",
    "    solver = LUSolver(A_Hfilter)\n",
    "    u_tilde = Function(Q)\n",
    "    solver.solve(u_tilde.vector(), b_Hfilter)\n",
    "    \n",
    "    return u_tilde\n",
    "\n",
    "def EF_t(folder, remark, N, delta, nx, dt, T, u_code, f_code, sigma, mu, velocity, chi):\n",
    "    degree = 2\n",
    "    \n",
    "    t = 0.0\n",
    "    u_exact = Expression(u_code, degree = degree+1, t = t)\n",
    "    f = Expression(f_code, degree = degree+1, t = t)\n",
    "\n",
    "    mesh = UnitSquareMesh(nx,nx)\n",
    "    Q = FunctionSpace(mesh, \"CG\", degree)\n",
    "\n",
    "    # Set up boundary condition\n",
    "    u_D = Expression(u_exact.cppcode, degree = degree+1, t = t)\n",
    "    \n",
    "    def boundary(x, on_boundary):\n",
    "        return on_boundary\n",
    "\n",
    "    \n",
    "# ------------ STEP 1: Solve on coarse grid ----------------------#\n",
    "\n",
    "    # Test and trial functions\n",
    "    u, v = TrialFunction(Q), TestFunction(Q)\n",
    "    u_n0 = interpolate(u_D, Q)\n",
    "    u_n1 = Function(Q)\n",
    "    u_ = Function(Q)\n",
    "    \n",
    "\n",
    "    \n",
    "    # Galerkin variational problem (BDF2)\n",
    "    F = (1.5*u - 2.0*u_n1 + 0.5*u_n0)*v*dx\n",
    "    F += dt*(mu*dot(grad(v), grad(u))*dx + v*dot(velocity, grad(u))*dx + sigma*v*u*dx - f*v*dx)\n",
    "    \n",
    "\n",
    "    # Create bilinear and linear forms\n",
    "    a1 = lhs(F)\n",
    "    L = rhs(F)\n",
    "\n",
    "\n",
    "    # Create progress bar\n",
    "    progress = Progress('Time-stepping')\n",
    "    set_log_level(PROGRESS)\n",
    "\n",
    "    # Outputting files\n",
    "    #out_file_uexact = File(folder+\"evolve_u_exact_\"+str(nx)+\".pvd\") \n",
    "    #out_file_ubar = File(folder+str(mu)+\"evolve_u_\"+str(nx)+\".pvd\") \n",
    "    ue = interpolate(u_exact, Q)\n",
    "    out_file_ind = File(folder+\"EF_aD\"+str(nx)+'_N'+str(N)+\".pvd\")\n",
    "    out_file_ufilter = File(folder+\"EF_u_\"+str(nx)+'_N'+str(N)+\".pvd\") \n",
    "\n",
    "    # Save t = 0.0\n",
    "    #out_file_uexact << (ue, float(t))\n",
    "    \n",
    "    \n",
    "    u_.rename('u','u')\n",
    "    indicator = Expression('0.0', degree=2, t=0.0)\n",
    "    indicator = interpolate(indicator, Q)\n",
    "    indicator.rename('a','a')\n",
    "    \n",
    "    #out_file_ufilter << (u_, float(t))\n",
    "    #out_file_ind << (indicator, float(t))\n",
    "    \n",
    "    while t - T + dt < DOLFIN_EPS:\n",
    "        # Step 1 Solve on Coarse Grid\n",
    "        t += dt\n",
    "\n",
    "        u_D.t = t\n",
    "        f.t = t\n",
    "        u_exact.t = t\n",
    "        velocity.t = t    \n",
    "        \n",
    "        # Assemble matrices\n",
    "        A1 = assemble(a1)\n",
    "\n",
    "        b = assemble(L)\n",
    "#         bc = DirichletBC(Q, u_D, boundary)\n",
    "#         bc.apply(A1)\n",
    "#         bc.apply(b)\n",
    "        \n",
    "        solve(A1, u_.vector(), b)#, 'gmres')\n",
    "        progress.update(t / T)\n",
    "        \n",
    "#         if near(t,0.5):\n",
    "#             errors = compute_errors(u_exact, u_, t, mesh)\n",
    "#             print(\"Before Filter \\n\" + errors)\n",
    "\n",
    "        #out_file_uexact << (ue, float(t))\n",
    "        #out_file_ubar << (u_, float(t))\n",
    "        \n",
    "# ------------ STEP 2: Helmholtz filter ----------------------#\n",
    "    \n",
    "        if N == 0:\n",
    "            u_tilde0 = deconv_filter(u_, delta, Q, boundary)\n",
    "            DF = Expression('u_tilde0', degree = degree, u_tilde0 = u_tilde0)\n",
    "\n",
    "        if N == 1:\n",
    "            u_tilde0 = deconv_filter(u_, delta, Q, boundary)\n",
    "            u_tilde1 = deconv_filter(u_tilde0, delta, Q, boundary)\n",
    "            DF = Expression('2.0*u_tilde0 - u_tilde1', degree = degree, u_tilde0 = u_tilde0, u_tilde1 = u_tilde1)\n",
    "\n",
    "        if N == 2:\n",
    "            u_tilde1 = deconv_filter(u_, delta, Q, boundary)\n",
    "            u_tilde2 = deconv_filter(u_tilde1, delta, Q, boundary)\n",
    "            u_tilde3 = deconv_filter(u_tilde2, delta, Q, boundary)\n",
    "            DF = Expression('3.0*u_tilde1 - 3.0*u_tilde2 + u_tilde3', degree = degree, u_tilde1 = u_tilde1, u_tilde2 = u_tilde2, u_tilde3 = u_tilde3)\n",
    "\n",
    "        if N == 3:\n",
    "            u_tilde1 = deconv_filter(u_, delta, Q, boundary)\n",
    "            u_tilde2 = deconv_filter(u_tilde1, delta, Q, boundary)\n",
    "            u_tilde3 = deconv_filter(u_tilde2, delta, Q, boundary)\n",
    "            u_tilde4 = deconv_filter(u_tilde3, delta, Q, boundary)\n",
    "            DF = Expression('3.0*u_tilde1 - 3.0*u_tilde2 + u_tilde3 + u_tilde1 - 3.0*u_tilde2 + 3.0*u_tilde3 - u_tilde4', degree = degree, u_tilde1 = u_tilde1, u_tilde2 = u_tilde2, u_tilde3 = u_tilde3, u_tilde4 = u_tilde4)\n",
    "            \n",
    "        # Compute the indicator function N = 0\n",
    "        indicator = Expression('sqrt((a-b)*(a-b))', degree = 2, a = u_, b = DF)\n",
    "        indicator = interpolate(indicator, Q)\n",
    "        max_ind = np.amax(indicator.vector().get_local())\n",
    "\n",
    "        if max_ind < 1:\n",
    "            max_ind = 1.0\n",
    "\n",
    "        indicator = Expression('a/b', degree = 2, a = indicator, b = max_ind)\n",
    "        indicator = interpolate(indicator, Q)\n",
    "\n",
    "        indicator.rename('a','a')\n",
    "        out_file_ind << (indicator, t)\n",
    "\n",
    "        # Apply the filter\n",
    "        u_bar = TrialFunction(Q)\n",
    "        F_filter = v*u_bar*dx + delta*delta*dot(grad(v), indicator*grad(u_bar))*dx - v*u_*dx \n",
    "\n",
    "        a_filter = lhs(F_filter)\n",
    "        L_filter = rhs(F_filter)\n",
    "\n",
    "        A_filter = assemble(a_filter)\n",
    "#         bc.apply(A_filter)\n",
    "\n",
    "        b_filter = assemble(L_filter)\n",
    "#         bc.apply(b_filter)\n",
    "\n",
    "        solver = LUSolver(A_filter)\n",
    "        u_bar = Function(Q)\n",
    "        solver.solve(u_bar.vector(), b_filter)\n",
    "\n",
    "\n",
    "#         out_file_ufilter << (u_bar, float(t))\n",
    "\n",
    "        u_n0.assign(u_n1)\n",
    "        u_n1.assign((1 - chi)*u_+ chi*u_bar)\n",
    "        u_n1.rename('u','u')\n",
    "        out_file_ufilter << (u_n1, float(t))\n",
    "        \n",
    "    out_file_ind << (indicator, float(t))\n",
    "    out_file_ufilter << (u_bar, float(t))   \n",
    "    L2, H1 = compute_errors(u_exact, u_n1, t, mesh)\n",
    "    maxval, minval = compute_extrema(u_n1, t)\n",
    "    \n",
    "    print(nx,\",\",L2,\",\",H1,\",\",maxval,\",\",minval)\n",
    "    return str(L2)+','+str(H1)+','+str(maxval)+','+str(minval)\n",
    "    \n",
    "# ------------------------------------------ #\n",
    "\n",
    "from datetime import datetime, date\n",
    "\n",
    "def run(nx,chi,dt,N,sigma,mu):\n",
    "    delta = 1.0/nx;\n",
    "    d_date = datetime.now()\n",
    "    today = d_date.strftime('%Y-%m-%d')\n",
    "    f = open(today+'_log_EFR_un1.txt',\"a+\")\n",
    "\n",
    "\n",
    "    T = 6\n",
    "    degree = 2\n",
    "    velocity = Expression(('cos(t)','sin(t)'), degree = degree, t = 0)\n",
    "    adr_f = Expression('exp(-(pow(x[0]-0.5,2)+pow(x[1]-0.5,2))/pow(0.07,2))', degree = degree)\n",
    "    folder = 'results_EFR_1/sigma'+str(sigma)+'_mu'+str(mu)\n",
    "    sim_data = 'EFR, dt='+str(dt)+', T='+str(T)+', P'+str(degree)\n",
    "    f.write(sim_data+'\\n')\n",
    "\n",
    "\n",
    "    now = d_date.strftime(\"%I:%M:%S %p\")\n",
    "    f.write('start: '+now+'\\n\\n')\n",
    "\n",
    "    remark = ''\n",
    "    output = EF_t(folder,remark, N, delta, nx, dt, T, '0', adr_f.cppcode, sigma, mu, velocity, chi)\n",
    "    f.write(str(nx)+','+str(dt)+','+output+'\\n')\n",
    "\n",
    "    d_date = datetime.now()\n",
    "    now = d_date.strftime(\"%I:%M:%S %p\")\n",
    "    f.write('\\nend: '+now+'\\n\\n')\n",
    "    f.write(notes)\n",
    "\n",
    "    f.close()"
   ]
  },
  {
   "cell_type": "code",
   "execution_count": 8,
   "metadata": {},
   "outputs": [
    {
     "name": "stdout",
     "output_type": "stream",
     "text": [
      "25 , 0.0259209971873 , 0.638527999574 , 0.11605136605 , -0.0228256004829\n",
      "50 , 0.0268632854416 , 1.80250287815 , 0.122888818895 , -0.0563357805503\n",
      "100 , 0.0269608468746 , 2.89091204758 , 0.136038269091 , -0.0441546332029\n",
      "200 , 0.0268391440106 , 3.52380191975 , 0.146651016884 , -0.0162889022075\n",
      "400 , 0.0267737160535 , 3.67971344299 , 0.134616352704 , -0.0145880763137\n"
     ]
    }
   ],
   "source": [
    "dt = 0.1\n",
    "N = 0\n",
    "sigma = 0.1\n",
    "mu = 0.00005\n",
    "# nx,chi,dt,N\n",
    "run(25,1,dt,N,sigma,mu)\n",
    "# dt = dt/2\n",
    "run(50,0.5,dt,N,sigma,mu)\n",
    "# dt = dt/2\n",
    "run(100,0.25,dt,N,sigma,mu)\n",
    "# dt = dt/2\n",
    "run(200,1.0/16,dt,N,sigma,mu)\n",
    "# dt = dt/2\n",
    "run(400,1.0/256,dt,N,sigma,mu)"
   ]
  },
  {
   "cell_type": "code",
   "execution_count": null,
   "metadata": {
    "collapsed": true
   },
   "outputs": [],
   "source": [
    "dt = 0.1\n",
    "N = 0\n",
    "sigma = 0.1\n",
    "mu = 0.00005\n",
    "# nx,chi,dt,N\n",
    "run(25,1,dt,N,sigma,mu)\n",
    "# dt = dt/2\n",
    "run(50,0.5,dt,N,sigma,mu)\n",
    "# dt = dt/2\n",
    "run(100,0.25,dt,N,sigma,mu)\n",
    "# dt = dt/2\n",
    "run(200,1.0/16,dt,N,sigma,mu)\n",
    "# dt = dt/2\n",
    "run(400,1.0/256,dt,N,sigma,mu)"
   ]
  },
  {
   "cell_type": "code",
   "execution_count": 4,
   "metadata": {},
   "outputs": [
    {
     "name": "stdout",
     "output_type": "stream",
     "text": [
      "25 , 0.0992136281565 , 7.09263764612 , 1.17359034632 , -0.319738465283\n",
      "50 , 0.0455134738954 , 9.49026248511 , 1.09054104878 , -0.185207132572\n",
      "100 , 0.0177959946694 , 8.25601128362 , 1.08149238247 , -0.0839099045343\n",
      "200 , 0.00248092823804 , 2.8624518475 , 1.0035274113 , -0.0176039681169\n",
      "400 , 0.000126707695433 , 0.473841415472 , 0.991998576779 , -0.000208450099164\n"
     ]
    }
   ],
   "source": [
    "dt = 0.1\n",
    "N = 2\n",
    "# nx,chi,dt,N\n",
    "run(25,1,dt,N)\n",
    "dt = dt/2\n",
    "run(50,0.5,dt,N)\n",
    "dt = dt/2\n",
    "run(100,0.25,dt,N)\n",
    "dt = dt/2\n",
    "run(200,1.0/16,dt,N)\n",
    "dt = dt/2\n",
    "run(400,1.0/256,dt,N)"
   ]
  },
  {
   "cell_type": "code",
   "execution_count": 5,
   "metadata": {},
   "outputs": [
    {
     "name": "stdout",
     "output_type": "stream",
     "text": [
      "25 , 0.0993324418151 , 7.10123005056 , 1.17594618116 , -0.324078513498\n",
      "50 , 0.0457847097184 , 9.55062467417 , 1.09128647795 , -0.186355757831\n",
      "100 , 0.0178615276074 , 8.29042153973 , 1.08202171904 , -0.0848187190433\n",
      "200 , 0.00248339242483 , 2.86598991586 , 1.00354430244 , -0.0176257531052\n",
      "400 , 0.000126730515832 , 0.473935556708 , 0.991998588178 , -0.000208417630397\n"
     ]
    }
   ],
   "source": [
    "dt = 0.1\n",
    "N = 3\n",
    "# nx,chi,dt,N\n",
    "run(25,1,dt,N)\n",
    "dt = dt/2\n",
    "run(50,0.5,dt,N)\n",
    "dt = dt/2\n",
    "run(100,0.25,dt,N)\n",
    "dt = dt/2\n",
    "run(200,1.0/16,dt,N)\n",
    "dt = dt/2\n",
    "run(400,1.0/256,dt,N)"
   ]
  },
  {
   "cell_type": "code",
   "execution_count": 6,
   "metadata": {},
   "outputs": [
    {
     "name": "stdout",
     "output_type": "stream",
     "text": [
      "25 , 0.0967695962319 , 6.98826342185 , 1.17293195068 , -0.307101222929\n",
      "50 , 0.0388348219071 , 8.12780348381 , 1.06155448995 , -0.153957070001\n",
      "100 , 0.0155495130101 , 7.21412834206 , 1.06856307488 , -0.0713941555961\n",
      "200 , 0.0023472649085 , 2.78939980465 , 1.00275059824 , -0.0165745798254\n",
      "400 , 0.000126393218908 , 0.47380514298 , 0.991998941233 , -0.000187853440034\n"
     ]
    }
   ],
   "source": [
    "dt = 0.05\n",
    "N = 3\n",
    "# nx,chi,dt,N\n",
    "run(25,1,dt,N)\n",
    "dt = dt/2\n",
    "run(50,0.5,dt,N)\n",
    "dt = dt/2\n",
    "run(100,0.25,dt,N)\n",
    "dt = dt/2\n",
    "run(200,1.0/16,dt,N)\n",
    "dt = dt/2\n",
    "run(400,1.0/256,dt,N)"
   ]
  },
  {
   "cell_type": "code",
   "execution_count": 7,
   "metadata": {},
   "outputs": [
    {
     "name": "stdout",
     "output_type": "stream",
     "text": [
      "25 , 0.101533868554 , 6.96052130653 , 1.07588295455 , -0.296560091426\n",
      "50 , 0.0352074587185 , 5.69331321615 , 0.99977462567 , -0.107535131015\n",
      "100 , 0.0127998027087 , 4.66959337629 , 1.02791645059 , -0.0481688026067\n",
      "200 , 0.00217124731802 , 2.41298107105 , 0.999947295886 , -0.0106904312555\n",
      "400 , 0.000126346635761 , 0.473063907657 , 0.991999042483 , -0.000178070107281\n"
     ]
    }
   ],
   "source": [
    "dt = 0.01\n",
    "N = 3\n",
    "# nx,chi,dt,N\n",
    "run(25,1,dt,N)\n",
    "dt = dt/2\n",
    "run(50,0.5,dt,N)\n",
    "dt = dt/2\n",
    "run(100,0.25,dt,N)\n",
    "dt = dt/2\n",
    "run(200,1.0/16,dt,N)\n",
    "dt = dt/2\n",
    "run(400,1.0/256,dt,N)"
   ]
  },
  {
   "cell_type": "code",
   "execution_count": 8,
   "metadata": {},
   "outputs": [
    {
     "name": "stdout",
     "output_type": "stream",
     "text": [
      "25 , 0.0966628584554 , 6.98023583386 , 1.16877907049 , -0.303751973048\n",
      "50 , 0.0386498834931 , 8.0746086165 , 1.06084807318 , -0.152518903594\n",
      "100 , 0.0154836486458 , 7.1763666006 , 1.06787559184 , -0.0702039139925\n",
      "200 , 0.00234482329335 , 2.78438822807 , 1.00272182247 , -0.0165372177867\n",
      "400 , 0.000126371188443 , 0.473691845534 , 0.991998918995 , -0.000187931124333\n"
     ]
    }
   ],
   "source": [
    "dt = 0.05\n",
    "N = 2\n",
    "# nx,chi,dt,N\n",
    "run(25,1,dt,N)\n",
    "dt = dt/2\n",
    "run(50,0.5,dt,N)\n",
    "dt = dt/2\n",
    "run(100,0.25,dt,N)\n",
    "dt = dt/2\n",
    "run(200,1.0/16,dt,N)\n",
    "dt = dt/2\n",
    "run(400,1.0/256,dt,N)"
   ]
  },
  {
   "cell_type": "code",
   "execution_count": 9,
   "metadata": {},
   "outputs": [
    {
     "name": "stdout",
     "output_type": "stream",
     "text": [
      "25 , 0.102444294308 , 6.96588960206 , 1.06897101776 , -0.295739249489\n",
      "50 , 0.0361362533066 , 5.67186576435 , 0.99648900327 , -0.108284878128\n",
      "100 , 0.0131123086326 , 4.63795896915 , 1.02688992627 , -0.0488946780544\n",
      "200 , 0.00220911163946 , 2.40624895974 , 0.999881640546 , -0.0106589001863\n",
      "400 , 0.000126493034027 , 0.472822888453 , 0.991998931438 , -0.000178472474448\n"
     ]
    }
   ],
   "source": [
    "dt = 0.01\n",
    "N = 2\n",
    "# nx,chi,dt,N\n",
    "run(25,1,dt,N)\n",
    "dt = dt/2\n",
    "run(50,0.5,dt,N)\n",
    "dt = dt/2\n",
    "run(100,0.25,dt,N)\n",
    "dt = dt/2\n",
    "run(200,1.0/16,dt,N)\n",
    "dt = dt/2\n",
    "run(400,1.0/256,dt,N)"
   ]
  },
  {
   "cell_type": "code",
   "execution_count": 10,
   "metadata": {},
   "outputs": [
    {
     "name": "stdout",
     "output_type": "stream",
     "text": [
      "25 , 0.0963123978457 , 6.96303922116 , 1.16635057075 , -0.298998063916\n",
      "50 , 0.0384408366754 , 8.00952233488 , 1.06001869056 , -0.150442643955\n",
      "100 , 0.015387538471 , 7.12281595329 , 1.06680513522 , -0.0684972688423\n",
      "200 , 0.00234184834315 , 2.7765167702 , 1.0026790809 , -0.0164707179865\n",
      "400 , 0.000126349333825 , 0.473526372421 , 0.991998866674 , -0.000188103922793\n"
     ]
    }
   ],
   "source": [
    "dt = 0.05\n",
    "N = 1\n",
    "# nx,chi,dt,N\n",
    "run(25,1,dt,N)\n",
    "dt = dt/2\n",
    "run(50,0.5,dt,N)\n",
    "dt = dt/2\n",
    "run(100,0.25,dt,N)\n",
    "dt = dt/2\n",
    "run(200,1.0/16,dt,N)\n",
    "dt = dt/2\n",
    "run(400,1.0/256,dt,N)"
   ]
  },
  {
   "cell_type": "code",
   "execution_count": 11,
   "metadata": {},
   "outputs": [
    {
     "name": "stdout",
     "output_type": "stream",
     "text": [
      "25 , 0.10347415723 , 6.96046299014 , 1.05870924802 , -0.29270805635\n",
      "50 , 0.0375342540895 , 5.63863665411 , 0.993657368858 , -0.104743565307\n",
      "100 , 0.0136190446688 , 4.59146489363 , 1.02524377768 , -0.0489697740412\n",
      "200 , 0.00228230119692 , 2.39612107489 , 0.999783748208 , -0.0132100265884\n",
      "400 , 0.000127011058593 , 0.472466739496 , 0.991998669523 , -0.000179355979994\n"
     ]
    }
   ],
   "source": [
    "dt = 0.01\n",
    "N = 1\n",
    "# nx,chi,dt,N\n",
    "run(25,1,dt,N)\n",
    "dt = dt/2\n",
    "run(50,0.5,dt,N)\n",
    "dt = dt/2\n",
    "run(100,0.25,dt,N)\n",
    "dt = dt/2\n",
    "run(200,1.0/16,dt,N)\n",
    "dt = dt/2\n",
    "run(400,1.0/256,dt,N)"
   ]
  },
  {
   "cell_type": "code",
   "execution_count": 12,
   "metadata": {},
   "outputs": [
    {
     "name": "stdout",
     "output_type": "stream",
     "text": [
      "25 , 0.0955240562373 , 6.90563385081 , 1.15045465842 , -0.287506239492\n",
      "50 , 0.0378558628321 , 7.87002160452 , 1.05711865467 , -0.145262937442\n",
      "100 , 0.0151387779168 , 7.00040063393 , 1.06415264973 , -0.065268907745\n",
      "200 , 0.00233003304503 , 2.75282154451 , 1.00253932606 , -0.0163233708041\n",
      "400 , 0.000126357113571 , 0.473167393245 , 0.991998649379 , -0.000188708857363\n"
     ]
    }
   ],
   "source": [
    "dt = 0.05\n",
    "N = 0\n",
    "# nx,chi,dt,N\n",
    "run(25,1,dt,N)\n",
    "dt = dt/2\n",
    "run(50,0.5,dt,N)\n",
    "dt = dt/2\n",
    "run(100,0.25,dt,N)\n",
    "dt = dt/2\n",
    "run(200,1.0/16,dt,N)\n",
    "dt = dt/2\n",
    "run(400,1.0/256,dt,N)"
   ]
  },
  {
   "cell_type": "code",
   "execution_count": null,
   "metadata": {},
   "outputs": [
    {
     "name": "stdout",
     "output_type": "stream",
     "text": [
      "25 , 0.106326187325 , 6.96481214846 , 1.01957800181 , -0.26428986554\n",
      "50 , 0.0397970719079 , 5.54077942919 , 0.988699287797 , -0.098423259741\n",
      "100 , 0.0143923852824 , 4.45735199187 , 1.02025380411 , -0.0450100502725\n",
      "200 , 0.00243294556521 , 2.35361457508 , 0.999385572328 , -0.0160589754973\n"
     ]
    }
   ],
   "source": [
    "dt = 0.01\n",
    "N = 0\n",
    "# nx,chi,dt,N\n",
    "run(25,1,dt,N)\n",
    "dt = dt/2\n",
    "run(50,0.5,dt,N)\n",
    "dt = dt/2\n",
    "run(100,0.25,dt,N)\n",
    "dt = dt/2\n",
    "run(200,1.0/16,dt,N)\n",
    "dt = dt/2\n",
    "run(400,1.0/256,dt,N)"
   ]
  },
  {
   "cell_type": "code",
   "execution_count": 15,
   "metadata": {},
   "outputs": [
    {
     "name": "stdout",
     "output_type": "stream",
     "text": [
      "400 , 0.000129401020472 , 0.471653863735 , 0.991997587222 , -0.000303949168307\n"
     ]
    }
   ],
   "source": [
    "dt = 0.01/2/2/2/2\n",
    "N = 0\n",
    "run(400,1.0/256,dt,N)"
   ]
  },
  {
   "cell_type": "code",
   "execution_count": null,
   "metadata": {
    "collapsed": true
   },
   "outputs": [],
   "source": []
  }
 ],
 "metadata": {
  "kernelspec": {
   "display_name": "Python 2",
   "language": "python",
   "name": "python2"
  },
  "language_info": {
   "codemirror_mode": {
    "name": "ipython",
    "version": 2
   },
   "file_extension": ".py",
   "mimetype": "text/x-python",
   "name": "python",
   "nbconvert_exporter": "python",
   "pygments_lexer": "ipython2",
   "version": "2.7.13"
  }
 },
 "nbformat": 4,
 "nbformat_minor": 2
}
