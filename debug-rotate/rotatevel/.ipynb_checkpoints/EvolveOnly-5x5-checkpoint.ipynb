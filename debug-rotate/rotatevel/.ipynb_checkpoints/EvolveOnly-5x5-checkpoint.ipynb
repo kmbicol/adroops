{
 "cells": [
  {
   "cell_type": "code",
   "execution_count": 1,
   "metadata": {},
   "outputs": [],
   "source": [
    "notes = ''\n",
    "\n",
    "from dolfin import *\n",
    "from __future__ import print_function\n",
    "import numpy as np\n",
    "import sympy as sym\n",
    "import csv\n",
    "\n",
    "# ------------------------------------------ #\n",
    "\n",
    "def compute_errors(u_e, u, t, mesh):\n",
    "\tL2n = errornorm(u_e, u, norm_type='L2', degree_rise=3, mesh=mesh)\n",
    "\tH1n = errornorm(u_e, u, norm_type='H1', degree_rise=3, mesh=mesh)\n",
    "\treturn L2n, H1n\n",
    "\n",
    "def compute_extrema(u, t):\n",
    "    maxval = np.amax(u.vector().get_local())\n",
    "    minval = np.amin(u.vector().get_local())\n",
    "    return maxval, minval\n",
    "\n",
    "def evolve_t(folder, nx, dt, T, degree, u_code, f_code, sigma, mu, velocity):\n",
    "    t = 0.0\n",
    "    u_exact = Expression(u_code, degree = degree+1, t = t)\n",
    "    f = Expression(f_code, degree = degree+1, t = t)\n",
    "\n",
    "#     mesh = UnitSquareMesh(nx,nx)\n",
    "    mesh = RectangleMesh(Point(-2.0,-2.0), Point(2.0,2.0), 2*nx, 2*nx)\n",
    "    Q = FunctionSpace(mesh, \"CG\", degree)\n",
    "\n",
    "    # Set up boundary condition\n",
    "    u_D = Expression(u_exact.cppcode, degree = degree+1, t = t)\n",
    "    \n",
    "    def boundary(x, on_boundary):\n",
    "        return on_boundary\n",
    "\n",
    "    # Test and trial functions\n",
    "    u, v = TrialFunction(Q), TestFunction(Q)\n",
    "    u_n0 = interpolate(u_D, Q)\n",
    "    u_n1 = Function(Q)\n",
    "    u_ = Function(Q)\n",
    "\n",
    "        # Create progress bar\n",
    "    progress = Progress('Time-stepping')\n",
    "    set_log_level(PROGRESS)\n",
    "    \n",
    "# -------need u_n1------------------------------- #\n",
    "\n",
    "    # Galerkin variational problem\n",
    "    F = (u - u_n0)*v*dx\n",
    "    F += dt*(mu*dot(grad(v), grad(u))*dx + v*dot(velocity, grad(u))*dx + sigma*v*u*dx - f*v*dx)\n",
    "    \n",
    "#     # SUPG stabilization terms\n",
    "#     h = CellDiameter(mesh)\n",
    "\n",
    "#     # based on paper's definition of residual and stabilization term\n",
    "#     Lt = -mu*div(grad(u)) + dot(velocity, grad(u)) + (sigma+1.0/dt)*u \n",
    "#     ft = u_n0/dt + f\n",
    "#     r = ft - Lt\n",
    "#     vnorm = sqrt(dot(velocity, velocity))\n",
    "#     F -= dt*(h/(2.0*vnorm))*dot(velocity, grad(v))*r*dx    \n",
    "    \n",
    "    \n",
    "    # Create bilinear and linear forms\n",
    "    a1 = lhs(F)\n",
    "    L = rhs(F)\n",
    "\n",
    "    t += dt\n",
    "\n",
    "    # Assemble matrices\n",
    "    A1 = assemble(a1)\n",
    "\n",
    "    u_.rename('u','u')\n",
    "    \n",
    "    u_D.t = t\n",
    "    f.t = t\n",
    "    u_exact.t = t\n",
    "    velocity.t = t\n",
    "\n",
    "    b = assemble(L)\n",
    "    bc = DirichletBC(Q, u_D, boundary)\n",
    "    bc.apply(A1)\n",
    "    bc.apply(b)\n",
    "    \n",
    "    solve(A1, u_n1.vector(), b)#, 'gmres')\n",
    "    progress.update(t / T)\n",
    "\n",
    "    \n",
    "    # -------------------------------------- #\n",
    "\n",
    "    # Galerkin variational problem\n",
    "    F = (1.5*u - 2.0*u_n1 + 0.5*u_n0)*v*dx\n",
    "    F += dt*(mu*dot(grad(v), grad(u))*dx + v*dot(velocity, grad(u))*dx + sigma*v*u*dx - f*v*dx)\n",
    "    \n",
    "#     # based on paper's definition of residual and stabilization term\n",
    "#     Lt = -mu*div(grad(u)) + dot(velocity, grad(u)) + (sigma+1.5/dt)*u \n",
    "#     ft = 2.0*u_n1/dt - 0.5*u_n0/dt + f\n",
    "#     r = ft - Lt\n",
    "#     vnorm = sqrt(dot(velocity, velocity))\n",
    "#     F -= dt*(h/(2.0*vnorm))*dot(velocity, grad(v))*r*dx    \n",
    "\n",
    "    # Create bilinear and linear forms\n",
    "    a1 = lhs(F)\n",
    "    L = rhs(F)\n",
    "\n",
    "\n",
    "    \n",
    "    # Outputting files\n",
    "    out_file_uexact = File(folder+\"evolve_u_exact_\"+str(nx)+\".pvd\") \n",
    "    out_file_ubar = File(folder+\"E_u_\"+str(nx)+\".pvd\") \n",
    "    ue = interpolate(u_exact, Q)\n",
    "    \n",
    "    u_.rename('u','u')\n",
    "    \n",
    "    # Save t = 0.0\n",
    "#     out_file_uexact << (ue, float(t))\n",
    "#     out_file_ubar << (u_, float(t))\n",
    "\n",
    "    while t - T + dt < DOLFIN_EPS:\n",
    "        # Step 1 Solve on Coarse Grid\n",
    "        t += dt\n",
    "        \n",
    "        u_.rename('u','u')\n",
    "        u_exact.rename('u','u')\n",
    "        \n",
    "        u_D.t = t\n",
    "        f.t = t\n",
    "        u_exact.t = t\n",
    "        velocity.t = t\n",
    "        # Assemble matrices\n",
    "        \n",
    "        A1 = assemble(a1)\n",
    "        b = assemble(L)\n",
    "        bc = DirichletBC(Q, u_D, boundary)\n",
    "        bc.apply(A1)\n",
    "        bc.apply(b)\n",
    "        \n",
    "        solve(A1, u_.vector(), b)#, 'gmres')\n",
    "        progress.update(t / T)\n",
    "        \n",
    "        out_file_ubar << (u_, float(t)) \n",
    "        \n",
    "        u_n0.assign(u_n1)\n",
    "        u_n1.assign(u_)\n",
    "\n",
    "    L2, H1 = compute_errors(u_exact, u_, t, mesh)\n",
    "    maxval, minval = compute_extrema(u_, t)\n",
    "    \n",
    "    print(nx,\",\",L2,\",\",H1,\",\",maxval,\",\",minval)\n",
    "    return str(L2)+','+str(H1)+','+str(maxval)+','+str(minval)\n",
    "\n",
    "# ------------------------------------------ #\n",
    "\n",
    "from datetime import datetime, date\n",
    "\n",
    "def run(nx,dt,sigma,mu):\n",
    "    d_date = datetime.now()\n",
    "    today = d_date.strftime('%Y-%m-%d')\n",
    "    f = open(today+'_log_SUPG.txt',\"a+\")\n",
    "    \n",
    "    T = 3\n",
    "    degree = 2\n",
    "\n",
    "    folder = 'EvolveOnly/sigma'+str(sigma)+'_mu'+str(mu)\n",
    "    velocity = Expression(('cos(t)','sin(t)'), degree = degree, t = 0)\n",
    "    adr_f = Expression('exp(-(pow(x[0]-0.5,2)+pow(x[1]-0.5,2))/pow(0.07,2))', degree = degree)\n",
    "\n",
    "\n",
    "    sim_data = 'SUPG, dt='+str(dt)+', T='+str(T)+', P'+str(degree)\n",
    "    f.write(sim_data+'\\n')\n",
    "\n",
    "\n",
    "    now = d_date.strftime(\"%I:%M:%S %p\")\n",
    "    f.write('start: '+now+'\\n\\n')\n",
    "\n",
    "    output = evolve_t(folder, nx, dt, T, degree, '0', adr_f.cppcode, sigma, mu, velocity)\n",
    "    f.write(str(nx)+','+str(dt)+','+output+'\\n')\n",
    "\n",
    "\n",
    "    d_date = datetime.now()\n",
    "    now = d_date.strftime(\"%I:%M:%S %p\")\n",
    "    f.write('\\nend: '+now+'\\n\\n')\n",
    "    f.write(notes)\n",
    "\n",
    "    f.close()"
   ]
  },
  {
   "cell_type": "code",
   "execution_count": 2,
   "metadata": {},
   "outputs": [
    {
     "name": "stdout",
     "output_type": "stream",
     "text": [
      "100 , 6.80546414688e+37 , 1.05694215724e+40 , 2.24756200886e+39 , -3.004112636e+39\n",
      "200 , 2.13897603358e+15 , 6.3180577019e+17 , 1.34489520585e+17 , -4.26396927658e+16\n",
      "400 , 0.0264024630596 , 0.356934075414 , 0.121577251898 , -0.0112647851648\n"
     ]
    }
   ],
   "source": [
    "dt=0.1\n",
    "sigma = 0.1\n",
    "mu = 0.00005\n",
    "# run(25,dt,sigma,mu)\n",
    "# run(50,dt,sigma,mu)\n",
    "run(100,dt,sigma,mu)\n",
    "run(200,dt,sigma,mu)\n",
    "run(400,dt,sigma,mu)"
   ]
  },
  {
   "cell_type": "code",
   "execution_count": 3,
   "metadata": {
    "scrolled": true
   },
   "outputs": [
    {
     "ename": "RuntimeError",
     "evalue": "\n\n*** -------------------------------------------------------------------------\n*** DOLFIN encountered an error. If you are not able to resolve this issue\n*** using the information listed below, you can ask for help at\n***\n***     fenics-support@googlegroups.com\n***\n*** Remember to include the error message listed below and, if possible,\n*** include a *minimal* running example to reproduce the error.\n***\n*** -------------------------------------------------------------------------\n*** Error:   Unable to successfully call PETSc function 'KSPSolve'.\n*** Reason:  PETSc error code is: 76 (Error in external library).\n*** Where:   This error was encountered inside /feedstock_root/build_artefacts/fenics_1514906081531/work/dolfin-2017.2.0.post0/dolfin/la/PETScKrylovSolver.cpp.\n*** Process: 0\n*** \n*** DOLFIN version: 2017.2.0\n*** Git changeset:  eff8a933c8ffe6b1204735d58ff25c5b75741fbe\n*** -------------------------------------------------------------------------\n",
     "output_type": "error",
     "traceback": [
      "\u001b[0;31m---------------------------------------------------------------------------\u001b[0m",
      "\u001b[0;31mRuntimeError\u001b[0m                              Traceback (most recent call last)",
      "\u001b[0;32m<ipython-input-3-705f2b96bf7c>\u001b[0m in \u001b[0;36m<module>\u001b[0;34m()\u001b[0m\n\u001b[0;32m----> 1\u001b[0;31m \u001b[0mrun\u001b[0m\u001b[0;34m(\u001b[0m\u001b[0;36m600\u001b[0m\u001b[0;34m,\u001b[0m\u001b[0mdt\u001b[0m\u001b[0;34m,\u001b[0m\u001b[0msigma\u001b[0m\u001b[0;34m,\u001b[0m\u001b[0mmu\u001b[0m\u001b[0;34m)\u001b[0m\u001b[0;34m\u001b[0m\u001b[0m\n\u001b[0m",
      "\u001b[0;32m<ipython-input-1-a32083018f73>\u001b[0m in \u001b[0;36mrun\u001b[0;34m(nx, dt, sigma, mu)\u001b[0m\n\u001b[1;32m    173\u001b[0m     \u001b[0mf\u001b[0m\u001b[0;34m.\u001b[0m\u001b[0mwrite\u001b[0m\u001b[0;34m(\u001b[0m\u001b[0;34m'start: '\u001b[0m\u001b[0;34m+\u001b[0m\u001b[0mnow\u001b[0m\u001b[0;34m+\u001b[0m\u001b[0;34m'\\n\\n'\u001b[0m\u001b[0;34m)\u001b[0m\u001b[0;34m\u001b[0m\u001b[0m\n\u001b[1;32m    174\u001b[0m \u001b[0;34m\u001b[0m\u001b[0m\n\u001b[0;32m--> 175\u001b[0;31m     \u001b[0moutput\u001b[0m \u001b[0;34m=\u001b[0m \u001b[0mevolve_t\u001b[0m\u001b[0;34m(\u001b[0m\u001b[0mfolder\u001b[0m\u001b[0;34m,\u001b[0m \u001b[0mnx\u001b[0m\u001b[0;34m,\u001b[0m \u001b[0mdt\u001b[0m\u001b[0;34m,\u001b[0m \u001b[0mT\u001b[0m\u001b[0;34m,\u001b[0m \u001b[0mdegree\u001b[0m\u001b[0;34m,\u001b[0m \u001b[0;34m'0'\u001b[0m\u001b[0;34m,\u001b[0m \u001b[0madr_f\u001b[0m\u001b[0;34m.\u001b[0m\u001b[0mcppcode\u001b[0m\u001b[0;34m,\u001b[0m \u001b[0msigma\u001b[0m\u001b[0;34m,\u001b[0m \u001b[0mmu\u001b[0m\u001b[0;34m,\u001b[0m \u001b[0mvelocity\u001b[0m\u001b[0;34m)\u001b[0m\u001b[0;34m\u001b[0m\u001b[0m\n\u001b[0m\u001b[1;32m    176\u001b[0m     \u001b[0mf\u001b[0m\u001b[0;34m.\u001b[0m\u001b[0mwrite\u001b[0m\u001b[0;34m(\u001b[0m\u001b[0mstr\u001b[0m\u001b[0;34m(\u001b[0m\u001b[0mnx\u001b[0m\u001b[0;34m)\u001b[0m\u001b[0;34m+\u001b[0m\u001b[0;34m','\u001b[0m\u001b[0;34m+\u001b[0m\u001b[0mstr\u001b[0m\u001b[0;34m(\u001b[0m\u001b[0mdt\u001b[0m\u001b[0;34m)\u001b[0m\u001b[0;34m+\u001b[0m\u001b[0;34m','\u001b[0m\u001b[0;34m+\u001b[0m\u001b[0moutput\u001b[0m\u001b[0;34m+\u001b[0m\u001b[0;34m'\\n'\u001b[0m\u001b[0;34m)\u001b[0m\u001b[0;34m\u001b[0m\u001b[0m\n\u001b[1;32m    177\u001b[0m \u001b[0;34m\u001b[0m\u001b[0m\n",
      "\u001b[0;32m<ipython-input-1-a32083018f73>\u001b[0m in \u001b[0;36mevolve_t\u001b[0;34m(folder, nx, dt, T, degree, u_code, f_code, sigma, mu, velocity)\u001b[0m\n\u001b[1;32m    135\u001b[0m \u001b[0;31m#         bc.apply(b)\u001b[0m\u001b[0;34m\u001b[0m\u001b[0;34m\u001b[0m\u001b[0m\n\u001b[1;32m    136\u001b[0m \u001b[0;34m\u001b[0m\u001b[0m\n\u001b[0;32m--> 137\u001b[0;31m         \u001b[0msolve\u001b[0m\u001b[0;34m(\u001b[0m\u001b[0mA1\u001b[0m\u001b[0;34m,\u001b[0m \u001b[0mu_\u001b[0m\u001b[0;34m.\u001b[0m\u001b[0mvector\u001b[0m\u001b[0;34m(\u001b[0m\u001b[0;34m)\u001b[0m\u001b[0;34m,\u001b[0m \u001b[0mb\u001b[0m\u001b[0;34m)\u001b[0m\u001b[0;31m#, 'gmres')\u001b[0m\u001b[0;34m\u001b[0m\u001b[0m\n\u001b[0m\u001b[1;32m    138\u001b[0m         \u001b[0mprogress\u001b[0m\u001b[0;34m.\u001b[0m\u001b[0mupdate\u001b[0m\u001b[0;34m(\u001b[0m\u001b[0mt\u001b[0m \u001b[0;34m/\u001b[0m \u001b[0mT\u001b[0m\u001b[0;34m)\u001b[0m\u001b[0;34m\u001b[0m\u001b[0m\n\u001b[1;32m    139\u001b[0m \u001b[0;34m\u001b[0m\u001b[0m\n",
      "\u001b[0;32m/home/kmbicol/anaconda2/envs/fenics/lib/python2.7/site-packages/dolfin/fem/solving.pyc\u001b[0m in \u001b[0;36msolve\u001b[0;34m(*args, **kwargs)\u001b[0m\n\u001b[1;32m    308\u001b[0m                              \"linear algebra problem\")\n\u001b[1;32m    309\u001b[0m \u001b[0;34m\u001b[0m\u001b[0m\n\u001b[0;32m--> 310\u001b[0;31m         \u001b[0;32mreturn\u001b[0m \u001b[0mcpp\u001b[0m\u001b[0;34m.\u001b[0m\u001b[0mla_solve\u001b[0m\u001b[0;34m(\u001b[0m\u001b[0;34m*\u001b[0m\u001b[0margs\u001b[0m\u001b[0;34m)\u001b[0m\u001b[0;34m\u001b[0m\u001b[0m\n\u001b[0m\u001b[1;32m    311\u001b[0m \u001b[0;34m\u001b[0m\u001b[0m\n\u001b[1;32m    312\u001b[0m \u001b[0;34m\u001b[0m\u001b[0m\n",
      "\u001b[0;32m/home/kmbicol/anaconda2/envs/fenics/lib/python2.7/site-packages/dolfin/cpp/la.pyc\u001b[0m in \u001b[0;36mla_solve\u001b[0;34m(*args)\u001b[0m\n\u001b[1;32m   4138\u001b[0m \u001b[0;34m\u001b[0m\u001b[0m\n\u001b[1;32m   4139\u001b[0m     \"\"\"\n\u001b[0;32m-> 4140\u001b[0;31m     \u001b[0;32mreturn\u001b[0m \u001b[0m_la\u001b[0m\u001b[0;34m.\u001b[0m\u001b[0mla_solve\u001b[0m\u001b[0;34m(\u001b[0m\u001b[0;34m*\u001b[0m\u001b[0margs\u001b[0m\u001b[0;34m)\u001b[0m\u001b[0;34m\u001b[0m\u001b[0m\n\u001b[0m\u001b[1;32m   4141\u001b[0m \u001b[0;34m\u001b[0m\u001b[0m\n\u001b[1;32m   4142\u001b[0m \u001b[0;32mdef\u001b[0m \u001b[0mlist_linear_algebra_backends\u001b[0m\u001b[0;34m(\u001b[0m\u001b[0;34m)\u001b[0m\u001b[0;34m:\u001b[0m\u001b[0;34m\u001b[0m\u001b[0m\n",
      "\u001b[0;31mRuntimeError\u001b[0m: \n\n*** -------------------------------------------------------------------------\n*** DOLFIN encountered an error. If you are not able to resolve this issue\n*** using the information listed below, you can ask for help at\n***\n***     fenics-support@googlegroups.com\n***\n*** Remember to include the error message listed below and, if possible,\n*** include a *minimal* running example to reproduce the error.\n***\n*** -------------------------------------------------------------------------\n*** Error:   Unable to successfully call PETSc function 'KSPSolve'.\n*** Reason:  PETSc error code is: 76 (Error in external library).\n*** Where:   This error was encountered inside /feedstock_root/build_artefacts/fenics_1514906081531/work/dolfin-2017.2.0.post0/dolfin/la/PETScKrylovSolver.cpp.\n*** Process: 0\n*** \n*** DOLFIN version: 2017.2.0\n*** Git changeset:  eff8a933c8ffe6b1204735d58ff25c5b75741fbe\n*** -------------------------------------------------------------------------\n"
     ]
    }
   ],
   "source": [
    "run(600,dt,sigma,mu)"
   ]
  },
  {
   "cell_type": "code",
   "execution_count": 4,
   "metadata": {},
   "outputs": [
    {
     "name": "stdout",
     "output_type": "stream",
     "text": [
      "100 , 0.0258661422324 , 0.339183121216 , 0.118770355478 , -0.00983448923713\n",
      "200 , 0.0258661544779 , 0.339179209059 , 0.118758356417 , -0.00983872503865\n"
     ]
    }
   ],
   "source": [
    "dt=0.1\n",
    "sigma = 0.1\n",
    "mu = 0.0005\n",
    "# run(25,dt,sigma,mu)\n",
    "# run(50,dt,sigma,mu)\n",
    "run(100,dt,sigma,mu)\n",
    "run(200,dt,sigma,mu)\n",
    "# run(400,dt,sigma,mu)"
   ]
  },
  {
   "cell_type": "code",
   "execution_count": 5,
   "metadata": {},
   "outputs": [
    {
     "name": "stdout",
     "output_type": "stream",
     "text": [
      "25 , 0.0256459972692 , 0.339533534429 , 0.119083673726 , -0.0114309666584\n",
      "50 , 0.02586580471 , 0.339249708608 , 0.118974844965 , -0.00985827268232\n"
     ]
    }
   ],
   "source": [
    "run(25,dt,sigma,mu)\n",
    "run(50,dt,sigma,mu)"
   ]
  },
  {
   "cell_type": "code",
   "execution_count": 6,
   "metadata": {},
   "outputs": [
    {
     "name": "stdout",
     "output_type": "stream",
     "text": [
      "400 , 0.0258661546169 , 0.33917911525 , 0.118765712548 , -0.00984127817874\n"
     ]
    }
   ],
   "source": [
    "run(400,dt,sigma,mu)"
   ]
  },
  {
   "cell_type": "code",
   "execution_count": 7,
   "metadata": {},
   "outputs": [
    {
     "name": "stdout",
     "output_type": "stream",
     "text": [
      "25 , 1.24722202843e+15 , 2.01873752953e+16 , 5.4998133295e+14 , -1.89524619123e+16\n",
      "50 , 1.56239861534e+34 , 3.08919281669e+35 , 3.44986797588e+33 , -2.94920480299e+35\n"
     ]
    }
   ],
   "source": [
    "dt=0.1\n",
    "sigma = 0.1\n",
    "mu = 0.00005\n",
    "run(25,dt,sigma,mu)\n",
    "run(50,dt,sigma,mu)"
   ]
  },
  {
   "cell_type": "code",
   "execution_count": null,
   "metadata": {},
   "outputs": [],
   "source": []
  }
 ],
 "metadata": {
  "kernelspec": {
   "display_name": "Python 2",
   "language": "python",
   "name": "python2"
  },
  "language_info": {
   "codemirror_mode": {
    "name": "ipython",
    "version": 2
   },
   "file_extension": ".py",
   "mimetype": "text/x-python",
   "name": "python",
   "nbconvert_exporter": "python",
   "pygments_lexer": "ipython2",
   "version": "2.7.14"
  }
 },
 "nbformat": 4,
 "nbformat_minor": 2
}
