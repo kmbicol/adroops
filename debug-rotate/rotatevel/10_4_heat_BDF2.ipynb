{
 "cells": [
  {
   "cell_type": "markdown",
   "metadata": {},
   "source": [
    "## FEniCS Heat Example (example of unsteady simulation)\n",
    "Observations:\n",
    "* As nx increases, the errors decrease according to their respective convergence rates.\n",
    "* This code uses its exact solution as its initial condition. (I'll try to use this in my code as well)"
   ]
  },
  {
   "cell_type": "code",
   "execution_count": 31,
   "metadata": {},
   "outputs": [],
   "source": [
    "from __future__ import print_function\n",
    "from fenics import *\n",
    "import numpy as np\n",
    "\n",
    "def compute_errors(u_e, u, t, mesh):\n",
    "    u_e.t = t\n",
    "    L2n = errornorm(u_e, u, norm_type='L2', degree_rise=3, mesh=mesh)\n",
    "    H1n = errornorm(u_e, u, norm_type='H1', degree_rise=3, mesh=mesh)\n",
    "    errors = {'L2 norm': L2n, 'H1 norm': H1n}\n",
    "    return 'L2, ' + str(L2n) +', H1, '+ str(H1n) +', t, '+ str(t) +'\\n'\n",
    "\n",
    "def heat(N):\n",
    "    T = 2.0            # final time\n",
    "#     num_steps = 10     # number of time steps\n",
    "    dt = 0.1 # time step size\n",
    "    alpha = 3          # parameter alpha\n",
    "    beta = 1.2         # parameter beta\n",
    "\n",
    "    # Create mesh and define function space\n",
    "    nx = ny = N\n",
    "    mesh = UnitSquareMesh(nx, ny)\n",
    "    V = FunctionSpace(mesh, 'P', 1)\n",
    "\n",
    "    # Define boundary condition\n",
    "    u_D = Expression('1 + x[0]*x[0] + alpha*x[1]*x[1] + beta*t',\n",
    "                     degree=2, alpha=alpha, beta=beta, t=0)\n",
    "\n",
    "    def boundary(x, on_boundary):\n",
    "        return on_boundary\n",
    "\n",
    "    bc = DirichletBC(V, u_D, boundary)\n",
    "\n",
    "    # Define initial value\n",
    "    u_n0 = interpolate(u_D, V)\n",
    "    u_D.t += dt\n",
    "    u_n1 = interpolate(u_D, V)\n",
    "    #u_n = project(u_D, V)\n",
    "\n",
    "    # Define variational problem\n",
    "    u = TrialFunction(V)\n",
    "    v = TestFunction(V)\n",
    "    f = Constant(beta - 2 - 2*alpha)\n",
    "\n",
    "    # Backward Euler\n",
    "#     F = (u-u_n)*v*dx \n",
    "#     F += dt*dot(grad(u), grad(v))*dx - dt*f*v*dx\n",
    "    \n",
    "    # BDF2\n",
    "    F = (1.5*u - 2.0*u_n1 + 0.5*u_n0)*v*dx \n",
    "    F += dt*dot(grad(u), grad(v))*dx - dt*f*v*dx\n",
    "\n",
    "    a, L = lhs(F), rhs(F)\n",
    "\n",
    "    # Time-stepping\n",
    "    u = Function(V)\n",
    "    t = dt\n",
    "#     for n in range(num_steps):\n",
    "    while t - T < DOLFIN_EPS:\n",
    "        # Update current time\n",
    "        t += dt\n",
    "        u_D.t = t\n",
    "\n",
    "        # Compute solution\n",
    "        solve(a == L, u, bc)\n",
    "\n",
    "        # Plot solution\n",
    "#         plot(u)\n",
    "\n",
    "        # Compute error at vertices\n",
    "#         u_e = interpolate(u_D, V)\n",
    "#         error = np.abs(u_e.vector().array() - u.vector().array()).max()\n",
    "#         print('t = %.2f: error = %.3g' % (t, error))\n",
    "\n",
    "        # Update previous solution\n",
    "        u_n0.assign(u_n1)\n",
    "        u_n1.assign(u)\n",
    "        \n",
    "    errors = compute_errors(u_D, u, t, mesh)\n",
    "    print(errors)"
   ]
  },
  {
   "cell_type": "code",
   "execution_count": 32,
   "metadata": {},
   "outputs": [
    {
     "name": "stdout",
     "output_type": "stream",
     "text": [
      "N = 8\n",
      "\n",
      "L2, 0.011048543456, H1, 0.228485018428, t, 2.0\n",
      "\n",
      "N = 16\n",
      "\n",
      "L2, 0.002762135864, H1, 0.114142291583, t, 2.0\n",
      "\n",
      "N = 32\n",
      "\n",
      "L2, 0.000690533966028, H1, 0.0570586117119, t, 2.0\n",
      "\n",
      "N = 64\n",
      "\n",
      "L2, 0.000172633491718, H1, 0.0285277388809, t, 2.0\n",
      "\n"
     ]
    }
   ],
   "source": [
    "for N in [8, 16, 32, 64]:\n",
    "    print(\"N = \"+str(N)+\"\\n\")\n",
    "    heat(N)"
   ]
  },
  {
   "cell_type": "code",
   "execution_count": null,
   "metadata": {},
   "outputs": [],
   "source": []
  }
 ],
 "metadata": {
  "kernelspec": {
   "display_name": "Python 2",
   "language": "python",
   "name": "python2"
  },
  "language_info": {
   "codemirror_mode": {
    "name": "ipython",
    "version": 2
   },
   "file_extension": ".py",
   "mimetype": "text/x-python",
   "name": "python",
   "nbconvert_exporter": "python",
   "pygments_lexer": "ipython2",
   "version": "2.7.14"
  }
 },
 "nbformat": 4,
 "nbformat_minor": 2
}
