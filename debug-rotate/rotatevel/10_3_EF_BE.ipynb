{
 "cells": [
  {
   "cell_type": "markdown",
   "metadata": {},
   "source": [
    "# Evolve-Filter, time dep, N varies\n",
    "\n",
    "* $\\delta = 1/nx$\n",
    "* $a = a_D$"
   ]
  },
  {
   "cell_type": "code",
   "execution_count": 1,
   "metadata": {
    "scrolled": true
   },
   "outputs": [],
   "source": [
    "notes = \"\\n Evolve then Filter: BE using P2 and halving timestep at each refinement level \\n\\n\"\n",
    "\n",
    "from dolfin import *\n",
    "from __future__ import print_function\n",
    "import numpy as np\n",
    "import sympy as sym\n",
    "import csv\n",
    "\n",
    "x, y, t = sym.symbols('x[0], x[1], t')\n",
    "sigma = 1.0\n",
    "mu = 10**(-5) \n",
    "b=as_vector([2.0, 3.0])\n",
    "\n",
    "# Iliescu Exact Solution\n",
    "c = 16.0*sym.sin(sym.pi*t)\n",
    "h = x*(1-x)*y*(1-y)\n",
    "g = 2*mu**(-0.5)*(0.25**2 - (x - 0.5)**2 - (y - 0.5)**2 )\n",
    "ue = c*h*(0.5+sym.atan(g)/sym.pi)\n",
    "\n",
    "# ------------------------------------------ #\n",
    "\n",
    "ue = sym.simplify(ue)\n",
    "u_code = sym.printing.ccode(ue)\n",
    "u_code = u_code.replace('M_PI','DOLFIN_PI')\n",
    "\n",
    "# du/dt - mu*Laplace(u) + div(bu) + sigma*u = f\n",
    "fe = sym.diff(ue,t)\n",
    "fe += - mu*(sym.diff(sym.diff(ue,x),x) + sym.diff(sym.diff(ue,y),y))\n",
    "fe += b[0]*sym.diff(ue,x) + b[1]*sym.diff(ue,y)\n",
    "fe += sigma*ue\n",
    "\n",
    "f_code = sym.printing.ccode(fe)\n",
    "f_code = f_code.replace('M_PI','DOLFIN_PI')\n",
    "\n",
    "# print('u_code = ' + u_code + '\\n')\n",
    "# print('f_code = ' + f_code)\n",
    "\n",
    "def compute_errors(u_e, u, t, mesh):\n",
    "\tL2n = errornorm(u_e, u, norm_type='L2', degree_rise=3, mesh=mesh)\n",
    "\tH1n = errornorm(u_e, u, norm_type='H1', degree_rise=3, mesh=mesh)\n",
    "\treturn L2n, H1n\n",
    "\n",
    "def compute_extrema(u, t):\n",
    "    maxval = np.amax(u.vector().get_local())\n",
    "    minval = np.amin(u.vector().get_local())\n",
    "    return maxval, minval\n",
    "\n",
    "# filter solving\n",
    "\n",
    "def deconv_filter(u_, delta, Q, boundary):\n",
    "    u_tilde = TrialFunction(Q)\n",
    "    v = TestFunction(Q)\n",
    "\n",
    "    F_Hfilter = v*u_tilde*dx + delta*delta*dot(grad(v), grad(u_tilde))*dx - v*u_*dx \n",
    "\n",
    "    a_Hfilter = lhs(F_Hfilter)\n",
    "    L_Hfilter = rhs(F_Hfilter)\n",
    "    \n",
    "    bc = DirichletBC(Q, u_, boundary)\n",
    "    \n",
    "    A_Hfilter = assemble(a_Hfilter)\n",
    "    bc.apply(A_Hfilter)\n",
    "\n",
    "    b_Hfilter = assemble(L_Hfilter)\n",
    "    bc.apply(b_Hfilter)\n",
    "\n",
    "    solver = LUSolver(A_Hfilter)\n",
    "    u_tilde = Function(Q)\n",
    "    solver.solve(u_tilde.vector(), b_Hfilter)\n",
    "    \n",
    "    return u_tilde\n",
    "\n",
    "def EF_t(remark, N, delta, nx, dt, T, u_code, f_code, sigma, mu, velocity, chi):\n",
    "    degree = 2\n",
    "    folder = 'FEF_BQ/'\n",
    "\n",
    "    \n",
    "    t = 0.0\n",
    "    u_exact = Expression(u_code, degree = degree+1, t = t)\n",
    "    f = Expression(f_code, degree = degree+1, t = t)\n",
    "\n",
    "    mesh = UnitSquareMesh(nx,nx)\n",
    "    Q = FunctionSpace(mesh, \"CG\", degree)\n",
    "\n",
    "    # Set up boundary condition\n",
    "    u_D = Expression(u_exact.cppcode, degree = degree+1, t = t)\n",
    "    \n",
    "    def boundary(x, on_boundary):\n",
    "        return on_boundary\n",
    "\n",
    "    \n",
    "# ------------ STEP 1: Solve on coarse grid ----------------------#\n",
    "\n",
    "    # Test and trial functions\n",
    "    u, v = TrialFunction(Q), TestFunction(Q)\n",
    "#     u_n = Function(Q)\n",
    "    u_n = interpolate(u_D, Q)\n",
    "    u_ = Function(Q)\n",
    "    \n",
    "\n",
    "    # Galerkin variational problem\n",
    "    F = (u - u_n)*v*dx\n",
    "    F += dt*(mu*dot(grad(v), grad(u))*dx + v*dot(velocity, grad(u))*dx + sigma*v*u*dx - f*v*dx)\n",
    "\n",
    "    # Create bilinear and linear forms\n",
    "    a1 = lhs(F)\n",
    "    L = rhs(F)\n",
    "\n",
    "    # Assemble matrices\n",
    "    A1 = assemble(a1)\n",
    "\n",
    "    # Create progress bar\n",
    "    progress = Progress('Time-stepping')\n",
    "    set_log_level(PROGRESS)\n",
    "\n",
    "    # Outputting files\n",
    "    #out_file_uexact = File(folder+\"evolve_u_exact_\"+str(nx)+\".pvd\") \n",
    "    #out_file_ubar = File(folder+str(mu)+\"evolve_u_\"+str(nx)+\".pvd\") \n",
    "    ue = interpolate(u_exact, Q)\n",
    "    out_file_ind = File(folder+\"EF_aD\"+str(nx)+'_N'+str(N)+\".pvd\")\n",
    "    out_file_ufilter = File(folder+\"EF_u_\"+str(nx)+'_N'+str(N)+\".pvd\") \n",
    "\n",
    "    # Save t = 0.0\n",
    "    #out_file_uexact << (ue, float(t))\n",
    "    \n",
    "    \n",
    "    u_.rename('u','u')\n",
    "    indicator = Expression('0.0', degree=2, t=0.0)\n",
    "    indicator = interpolate(indicator, Q)\n",
    "    indicator.rename('a','a')\n",
    "    \n",
    "    #out_file_ufilter << (u_, float(t))\n",
    "    #out_file_ind << (indicator, float(t))\n",
    "    \n",
    "    while t - T + dt < DOLFIN_EPS:\n",
    "        # Step 1 Solve on Coarse Grid\n",
    "        t += dt\n",
    "\n",
    "        u_D.t = t\n",
    "        f.t = t\n",
    "        u_exact.t = t\n",
    "        \n",
    "        b = assemble(L)\n",
    "        bc = DirichletBC(Q, u_D, boundary)\n",
    "        bc.apply(A1)\n",
    "        bc.apply(b)\n",
    "        \n",
    "        solve(A1, u_.vector(), b)#, 'gmres')\n",
    "        progress.update(t / T)\n",
    "        \n",
    "#         if near(t,0.5):\n",
    "#             errors = compute_errors(u_exact, u_, t, mesh)\n",
    "#             print(\"Before Filter \\n\" + errors)\n",
    "\n",
    "        #out_file_uexact << (ue, float(t))\n",
    "        #out_file_ubar << (u_, float(t))\n",
    "        \n",
    "# ------------ STEP 2: Helmholtz filter ----------------------#\n",
    "    \n",
    "        if N == 0:\n",
    "            u_tilde0 = deconv_filter(u_, delta, Q, boundary)\n",
    "            DF = Expression('u_tilde0', degree = degree, u_tilde0 = u_tilde0)\n",
    "\n",
    "        if N == 1:\n",
    "            u_tilde0 = deconv_filter(u_, delta, Q, boundary)\n",
    "            u_tilde1 = deconv_filter(u_tilde0, delta, Q, boundary)\n",
    "            DF = Expression('2.0*u_tilde0 - u_tilde1', degree = degree, u_tilde0 = u_tilde0, u_tilde1 = u_tilde1)\n",
    "\n",
    "        if N == 2:\n",
    "            u_tilde1 = deconv_filter(u_, delta, Q, boundary)\n",
    "            u_tilde2 = deconv_filter(u_tilde1, delta, Q, boundary)\n",
    "            u_tilde3 = deconv_filter(u_tilde2, delta, Q, boundary)\n",
    "            DF = Expression('3.0*u_tilde1 - 3.0*u_tilde2 + u_tilde3', degree = degree, u_tilde1 = u_tilde1, u_tilde2 = u_tilde2, u_tilde3 = u_tilde3)\n",
    "\n",
    "        if N == 3:\n",
    "            u_tilde1 = deconv_filter(u_, delta, Q, boundary)\n",
    "            u_tilde2 = deconv_filter(u_tilde1, delta, Q, boundary)\n",
    "            u_tilde3 = deconv_filter(u_tilde2, delta, Q, boundary)\n",
    "            u_tilde4 = deconv_filter(u_tilde3, delta, Q, boundary)\n",
    "            DF = Expression('3.0*u_tilde1 - 3.0*u_tilde2 + u_tilde3 + u_tilde1 - 3.0*u_tilde2 + 3.0*u_tilde3 - u_tilde4', degree = degree, u_tilde1 = u_tilde1, u_tilde2 = u_tilde2, u_tilde3 = u_tilde3, u_tilde4 = u_tilde4)\n",
    "            \n",
    "        # Compute the indicator function N = 0\n",
    "        indicator = Expression('sqrt((a-b)*(a-b))', degree = 2, a = u_, b = DF)\n",
    "        indicator = interpolate(indicator, Q)\n",
    "        max_ind = np.amax(indicator.vector().get_local())\n",
    "\n",
    "        if max_ind < 1:\n",
    "            max_ind = 1.0\n",
    "\n",
    "        indicator = Expression('a/b', degree = 2, a = indicator, b = max_ind)\n",
    "        indicator = interpolate(indicator, Q)\n",
    "\n",
    "        indicator.rename('a','a')\n",
    "        #out_file_ind << (indicator, t)\n",
    "\n",
    "        # Apply the filter\n",
    "        u_bar = TrialFunction(Q)\n",
    "        F_filter = v*u_bar*dx + delta*delta*dot(grad(v), indicator*grad(u_bar))*dx - v*u_*dx \n",
    "\n",
    "        a_filter = lhs(F_filter)\n",
    "        L_filter = rhs(F_filter)\n",
    "\n",
    "        A_filter = assemble(a_filter)\n",
    "        bc.apply(A_filter)\n",
    "\n",
    "        b_filter = assemble(L_filter)\n",
    "        bc.apply(b_filter)\n",
    "\n",
    "        solver = LUSolver(A_filter)\n",
    "        u_bar = Function(Q)\n",
    "        solver.solve(u_bar.vector(), b_filter)\n",
    "\n",
    "        u_bar.rename('u','u')\n",
    "#         out_file_ufilter << (u_bar, float(t))\n",
    "\n",
    "        \n",
    "        u_n.assign((1 - chi)*u_+ chi*u_bar)\n",
    "        \n",
    "    out_file_ind << (indicator, float(t))\n",
    "    out_file_ufilter << (u_bar, float(t))   \n",
    "    L2, H1 = compute_errors(u_exact, u_n, t, mesh)\n",
    "    maxval, minval = compute_extrema(u_n, t)\n",
    "    \n",
    "    print(nx,\",\",L2,\",\",H1,\",\",maxval,\",\",minval)\n",
    "    return str(L2)+','+str(H1)+','+str(maxval)+','+str(minval)\n",
    "    \n",
    "# ------------------------------------------ #\n",
    "\n",
    "from datetime import datetime, date\n",
    "\n",
    "def run(nx,chi,dt,N):\n",
    "    delta = 1.0/nx;\n",
    "    d_date = datetime.now()\n",
    "    today = d_date.strftime('%Y-%m-%d')\n",
    "    f = open(today+'_log_EFR.txt',\"a+\")\n",
    "\n",
    "\n",
    "    T = 0.5\n",
    "    degree = 2\n",
    "\n",
    "    sim_data = 'EFR, dt='+str(dt)+', T='+str(T)+', P'+str(degree)\n",
    "    f.write(sim_data+'\\n')\n",
    "\n",
    "\n",
    "    now = d_date.strftime(\"%I:%M:%S %p\")\n",
    "    f.write('start: '+now+'\\n\\n')\n",
    "\n",
    "    remark = ''\n",
    "    output = EF_t(remark, N, delta, nx, dt, T, u_code, f_code, sigma, mu, b, chi)\n",
    "    f.write(str(nx)+','+str(dt)+','+output+'\\n')\n",
    "\n",
    "\n",
    "    d_date = datetime.now()\n",
    "    now = d_date.strftime(\"%I:%M:%S %p\")\n",
    "    f.write('\\nend: '+now+'\\n\\n')\n",
    "    f.write(notes)\n",
    "\n",
    "    f.close()"
   ]
  },
  {
   "cell_type": "code",
   "execution_count": 2,
   "metadata": {},
   "outputs": [
    {
     "name": "stdout",
     "output_type": "stream",
     "text": [
      "25 , 0.101644454499 , 7.11646285792 , 1.14335835147 , -0.325484898114\n",
      "50 , 0.0502750153797 , 10.1177091045 , 1.10109750818 , -0.21010603197\n",
      "100 , 0.0191676896858 , 8.66135384127 , 1.08311299003 , -0.0976072708457\n",
      "200 , 0.00376883513513 , 3.08442698565 , 1.0015173753 , -0.018750656366\n",
      "400 , 0.00136814395663 , 0.813711694729 , 0.990251110774 , -0.00518403910566\n"
     ]
    }
   ],
   "source": [
    "dt = 0.1\n",
    "N = 0\n",
    "# nx,chi,dt,N\n",
    "run(25,1,dt,N)\n",
    "dt = dt/2\n",
    "run(50,0.5,dt,N)\n",
    "dt = dt/2\n",
    "run(100,0.25,dt,N)\n",
    "dt = dt/2\n",
    "run(200,1.0/16,dt,N)\n",
    "dt = dt/2\n",
    "run(400,1.0/256,dt,N)"
   ]
  },
  {
   "cell_type": "code",
   "execution_count": 3,
   "metadata": {},
   "outputs": [
    {
     "name": "stdout",
     "output_type": "stream",
     "text": [
      "25 , 0.102119537721 , 7.15293291842 , 1.14487679373 , -0.347378716601\n",
      "50 , 0.0464783464538 , 6.09192693364 , 1.02870388218 , -0.144570356624\n",
      "100 , 0.0178457985483 , 4.57493554413 , 1.04544454922 , -0.0669257032661\n",
      "200 , 0.00374445786511 , 2.27458220756 , 0.99822765621 , -0.015116371739\n",
      "400 , 0.0013827156859 , 0.801814646286 , 0.990250055899 , -0.00486892815668\n"
     ]
    }
   ],
   "source": [
    "dt = 0.1\n",
    "N = 1\n",
    "# nx,chi,dt,N\n",
    "run(25,1,dt,N)\n",
    "dt = dt/2\n",
    "run(50,0.5,dt,N)\n",
    "dt = dt/2\n",
    "run(100,0.25,dt,N)\n",
    "dt = dt/2\n",
    "run(200,1.0/16,dt,N)\n",
    "dt = dt/2\n",
    "run(400,1.0/256,dt,N)"
   ]
  },
  {
   "cell_type": "code",
   "execution_count": 4,
   "metadata": {},
   "outputs": [
    {
     "name": "stdout",
     "output_type": "stream",
     "text": [
      "25 , 0.102231745362 , 7.15773287544 , 1.14345362481 , -0.355078904732\n",
      "50 , 0.0465815240431 , 6.16708237005 , 1.03150271491 , -0.146812341539\n",
      "100 , 0.0178094826995 , 4.64651800513 , 1.04660901315 , -0.0685466039256\n",
      "200 , 0.00371032444576 , 2.29156552423 , 0.998299737706 , -0.0151994027019\n",
      "400 , 0.00137323378281 , 0.777418157328 , 0.990250104136 , -0.0048835335912\n"
     ]
    }
   ],
   "source": [
    "dt = 0.1\n",
    "N = 2\n",
    "# nx,chi,dt,N\n",
    "run(25,1,dt,N)\n",
    "dt = dt/2\n",
    "run(50,0.5,dt,N)\n",
    "dt = dt/2\n",
    "run(100,0.25,dt,N)\n",
    "dt = dt/2\n",
    "run(200,1.0/16,dt,N)\n",
    "dt = dt/2\n",
    "run(400,1.0/256,dt,N)"
   ]
  },
  {
   "cell_type": "code",
   "execution_count": 5,
   "metadata": {},
   "outputs": [
    {
     "name": "stdout",
     "output_type": "stream",
     "text": [
      "25 , 0.102277825225 , 7.16713516004 , 1.14523067146 , -0.36030503622\n",
      "50 , 0.0466774204674 , 6.22605046432 , 1.03441131425 , -0.148388758563\n",
      "100 , 0.017769392088 , 4.69392929983 , 1.04745455677 , -0.0696024117064\n",
      "200 , 0.00368994746152 , 2.30499109931 , 0.998365374756 , -0.0152577255162\n",
      "400 , 0.00136956936154 , 0.770475464263 , 0.990250136419 , -0.00489327705034\n"
     ]
    }
   ],
   "source": [
    "dt = 0.1\n",
    "N = 3\n",
    "# nx,chi,dt,N\n",
    "run(25,1,dt,N)\n",
    "dt = dt/2\n",
    "run(50,0.5,dt,N)\n",
    "dt = dt/2\n",
    "run(100,0.25,dt,N)\n",
    "dt = dt/2\n",
    "run(200,1.0/16,dt,N)\n",
    "dt = dt/2\n",
    "run(400,1.0/256,dt,N)"
   ]
  },
  {
   "cell_type": "code",
   "execution_count": 6,
   "metadata": {},
   "outputs": [
    {
     "name": "stdout",
     "output_type": "stream",
     "text": [
      "25 , 0.098041046975 , 7.03659821951 , 1.17060827 , -0.330009806246\n",
      "50 , 0.0408284833069 , 5.80358562722 , 1.02638245472 , -0.1313289547\n",
      "100 , 0.0157853636451 , 4.38245777155 , 1.04442112872 , -0.0600755945281\n",
      "200 , 0.00271338556835 , 2.14593778909 , 0.999478770609 , -0.0117512589845\n",
      "400 , 0.00070110239031 , 0.559146153499 , 0.991124344793 , -0.00259002385853\n"
     ]
    }
   ],
   "source": [
    "dt = 0.05\n",
    "N = 3\n",
    "# nx,chi,dt,N\n",
    "run(25,1,dt,N)\n",
    "dt = dt/2\n",
    "run(50,0.5,dt,N)\n",
    "dt = dt/2\n",
    "run(100,0.25,dt,N)\n",
    "dt = dt/2\n",
    "run(200,1.0/16,dt,N)\n",
    "dt = dt/2\n",
    "run(400,1.0/256,dt,N)"
   ]
  },
  {
   "cell_type": "code",
   "execution_count": 7,
   "metadata": {},
   "outputs": [
    {
     "name": "stdout",
     "output_type": "stream",
     "text": [
      "25 , 0.0977218205311 , 6.92748030358 , 1.10629039331 , -0.297447903134\n",
      "50 , 0.0353500631391 , 5.19036479927 , 1.00091140221 , -0.105583128981\n",
      "100 , 0.013128227199 , 3.60329864608 , 1.02649779969 , -0.0402344886448\n",
      "200 , 0.00221450340804 , 1.94306477512 , 0.999292809638 , -0.00862977066395\n",
      "400 , 0.000210987824156 , 0.462462906361 , 0.991823997103 , -0.000638926977138\n"
     ]
    }
   ],
   "source": [
    "dt = 0.01\n",
    "N = 3\n",
    "# nx,chi,dt,N\n",
    "run(25,1,dt,N)\n",
    "dt = dt/2\n",
    "run(50,0.5,dt,N)\n",
    "dt = dt/2\n",
    "run(100,0.25,dt,N)\n",
    "dt = dt/2\n",
    "run(200,1.0/16,dt,N)\n",
    "dt = dt/2\n",
    "run(400,1.0/256,dt,N)"
   ]
  },
  {
   "cell_type": "code",
   "execution_count": 8,
   "metadata": {},
   "outputs": [
    {
     "name": "stdout",
     "output_type": "stream",
     "text": [
      "25 , 0.0979907904393 , 7.03085563211 , 1.16700451567 , -0.326438175463\n",
      "50 , 0.0408245024651 , 5.75841621535 , 1.02328155719 , -0.129836787826\n",
      "100 , 0.0158342518114 , 4.33666397624 , 1.04364110733 , -0.0589362734199\n",
      "200 , 0.00274142259994 , 2.13262151424 , 0.999416600261 , -0.0117373135606\n",
      "400 , 0.000708204491794 , 0.569286169269 , 0.991124316058 , -0.00258690727223\n"
     ]
    }
   ],
   "source": [
    "dt = 0.05\n",
    "N = 2\n",
    "# nx,chi,dt,N\n",
    "run(25,1,dt,N)\n",
    "dt = dt/2\n",
    "run(50,0.5,dt,N)\n",
    "dt = dt/2\n",
    "run(100,0.25,dt,N)\n",
    "dt = dt/2\n",
    "run(200,1.0/16,dt,N)\n",
    "dt = dt/2\n",
    "run(400,1.0/256,dt,N)"
   ]
  },
  {
   "cell_type": "code",
   "execution_count": 9,
   "metadata": {},
   "outputs": [
    {
     "name": "stdout",
     "output_type": "stream",
     "text": [
      "25 , 0.0981503015328 , 6.92061303111 , 1.10075795866 , -0.297221779469\n",
      "50 , 0.0360894574575 , 5.17902449929 , 0.996782919159 , -0.105553587711\n",
      "100 , 0.0134052939904 , 3.56753888425 , 1.02551762076 , -0.0382530473193\n",
      "200 , 0.00226843607399 , 1.92980042364 , 0.999215769955 , -0.00859647515042\n",
      "400 , 0.000233440073069 , 0.474742397549 , 0.991823910267 , -0.000638995713215\n"
     ]
    }
   ],
   "source": [
    "dt = 0.01\n",
    "N = 2\n",
    "# nx,chi,dt,N\n",
    "run(25,1,dt,N)\n",
    "dt = dt/2\n",
    "run(50,0.5,dt,N)\n",
    "dt = dt/2\n",
    "run(100,0.25,dt,N)\n",
    "dt = dt/2\n",
    "run(200,1.0/16,dt,N)\n",
    "dt = dt/2\n",
    "run(400,1.0/256,dt,N)"
   ]
  },
  {
   "cell_type": "code",
   "execution_count": 10,
   "metadata": {},
   "outputs": [
    {
     "name": "stdout",
     "output_type": "stream",
     "text": [
      "25 , 0.0976925107096 , 7.01653874265 , 1.16530645102 , -0.32141150826\n",
      "50 , 0.0408437682842 , 5.69895446425 , 1.02008246217 , -0.127971675906\n",
      "100 , 0.015878273991 , 4.26495672473 , 1.04248542658 , -0.0571585278331\n",
      "200 , 0.00278807297222 , 2.11566875225 , 0.999350127489 , -0.0117384593934\n",
      "400 , 0.000726299589738 , 0.602842436974 , 0.991124260968 , -0.00258263384607\n"
     ]
    }
   ],
   "source": [
    "dt = 0.05\n",
    "N = 1\n",
    "# nx,chi,dt,N\n",
    "run(25,1,dt,N)\n",
    "dt = dt/2\n",
    "run(50,0.5,dt,N)\n",
    "dt = dt/2\n",
    "run(100,0.25,dt,N)\n",
    "dt = dt/2\n",
    "run(200,1.0/16,dt,N)\n",
    "dt = dt/2\n",
    "run(400,1.0/256,dt,N)"
   ]
  },
  {
   "cell_type": "code",
   "execution_count": 11,
   "metadata": {},
   "outputs": [
    {
     "name": "stdout",
     "output_type": "stream",
     "text": [
      "25 , 0.0987410976511 , 6.9066919818 , 1.09107367773 , -0.296629815575\n",
      "50 , 0.0371746522025 , 5.1571411354 , 0.994741782732 , -0.103697080431\n",
      "100 , 0.0138100055043 , 3.50881756328 , 1.02405038442 , -0.0357443232471\n",
      "200 , 0.00236142188029 , 1.91322656533 , 0.999117856529 , -0.00856595902489\n",
      "400 , 0.000283578853244 , 0.514664109563 , 0.991823716208 , -0.000639107430288\n"
     ]
    }
   ],
   "source": [
    "dt = 0.01\n",
    "N = 1\n",
    "# nx,chi,dt,N\n",
    "run(25,1,dt,N)\n",
    "dt = dt/2\n",
    "run(50,0.5,dt,N)\n",
    "dt = dt/2\n",
    "run(100,0.25,dt,N)\n",
    "dt = dt/2\n",
    "run(200,1.0/16,dt,N)\n",
    "dt = dt/2\n",
    "run(400,1.0/256,dt,N)"
   ]
  },
  {
   "cell_type": "code",
   "execution_count": 12,
   "metadata": {},
   "outputs": [
    {
     "name": "stdout",
     "output_type": "stream",
     "text": [
      "25 , 0.0970391726477 , 6.96714467677 , 1.15397913842 , -0.308335430484\n",
      "50 , 0.0406453258565 , 5.56977742134 , 1.0141133774 , -0.124640923352\n",
      "100 , 0.0158473198451 , 4.10707358966 , 1.03984611105 , -0.054521349367\n",
      "200 , 0.00287273843978 , 2.06715929327 , 0.9991773173 , -0.0117741651093\n",
      "400 , 0.000787433076104 , 0.706725066234 , 0.991123604711 , -0.00257495385563\n"
     ]
    }
   ],
   "source": [
    "dt = 0.05\n",
    "N = 0\n",
    "# nx,chi,dt,N\n",
    "run(25,1,dt,N)\n",
    "dt = dt/2\n",
    "run(50,0.5,dt,N)\n",
    "dt = dt/2\n",
    "run(100,0.25,dt,N)\n",
    "dt = dt/2\n",
    "run(200,1.0/16,dt,N)\n",
    "dt = dt/2\n",
    "run(400,1.0/256,dt,N)"
   ]
  },
  {
   "cell_type": "code",
   "execution_count": 13,
   "metadata": {},
   "outputs": [
    {
     "name": "stdout",
     "output_type": "stream",
     "text": [
      "25 , 0.0995468866622 , 6.87791216655 , 1.04590951257 , -0.273544672495\n",
      "50 , 0.0387092138865 , 5.07127946639 , 0.989641191412 , -0.0901757345626\n",
      "100 , 0.0143665578461 , 3.35308379005 , 1.01986239936 , -0.0352645938854\n",
      "200 , 0.00253781746279 , 1.85926063107 , 0.998779445927 , -0.00917650988178\n",
      "400 , 0.000415920966288 , 0.633763178961 , 0.99182264811 , -0.000640531728557\n"
     ]
    }
   ],
   "source": [
    "dt = 0.01\n",
    "N = 0\n",
    "# nx,chi,dt,N\n",
    "run(25,1,dt,N)\n",
    "dt = dt/2\n",
    "run(50,0.5,dt,N)\n",
    "dt = dt/2\n",
    "run(100,0.25,dt,N)\n",
    "dt = dt/2\n",
    "run(200,1.0/16,dt,N)\n",
    "dt = dt/2\n",
    "run(400,1.0/256,dt,N)"
   ]
  },
  {
   "cell_type": "code",
   "execution_count": null,
   "metadata": {},
   "outputs": [],
   "source": []
  }
 ],
 "metadata": {
  "kernelspec": {
   "display_name": "Python 2",
   "language": "python",
   "name": "python2"
  },
  "language_info": {
   "codemirror_mode": {
    "name": "ipython",
    "version": 2
   },
   "file_extension": ".py",
   "mimetype": "text/x-python",
   "name": "python",
   "nbconvert_exporter": "python",
   "pygments_lexer": "ipython2",
   "version": "2.7.14"
  }
 },
 "nbformat": 4,
 "nbformat_minor": 2
}
