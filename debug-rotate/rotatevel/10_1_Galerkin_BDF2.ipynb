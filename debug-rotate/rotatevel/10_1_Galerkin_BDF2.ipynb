{
 "cells": [
  {
   "cell_type": "markdown",
   "metadata": {},
   "source": [
    "# Galerkin, BDF2"
   ]
  },
  {
   "cell_type": "code",
   "execution_count": 4,
   "metadata": {
    "scrolled": true
   },
   "outputs": [],
   "source": [
    "from dolfin import *\n",
    "import numpy as np\n",
    "import sympy as sym\n",
    "import csv\n",
    "\n",
    "# ------------------------------------------ #\n",
    "\n",
    "def compute_errors(u_e, u, t, mesh):\n",
    "    L2n = errornorm(u_e, u, norm_type='L2', degree_rise=3, mesh=mesh)\n",
    "    H1n = errornorm(u_e, u, norm_type='H1', degree_rise=3, mesh=mesh)\n",
    "    return L2n, H1n\n",
    "\n",
    "def compute_extrema(u, t):\n",
    "    maxval = np.amax(u.vector().get_local())\n",
    "    minval = np.amin(u.vector().get_local())\n",
    "    return maxval, minval\n",
    "\n",
    "def evolve_t(folder, nx, dt, T, degree, u_code, f_code, sigma, mu, velocity):\n",
    "    t = 0.0\n",
    "    u_exact = Expression(u_code, degree = degree+1, t = t)\n",
    "    f = Expression(f_code, degree = degree+1, t = t)\n",
    "\n",
    "    mesh = UnitSquareMesh(nx,nx)\n",
    "    Q = FunctionSpace(mesh, \"CG\", degree)\n",
    "\n",
    "    # Set up boundary condition\n",
    "    u_D = Expression(u_exact.cppcode, degree = degree+1, t = t)\n",
    "    \n",
    "    def boundary(x, on_boundary):\n",
    "        return on_boundary\n",
    "\n",
    "    # Test and trial functions\n",
    "    u, v = TrialFunction(Q), TestFunction(Q)\n",
    "    u_n0 = interpolate(u_D, Q)\n",
    "    u_n1 = Function(Q)\n",
    "    u_ = Function(Q)\n",
    "\n",
    "        # Create progress bar\n",
    "    progress = Progress('Time-stepping')\n",
    "    set_log_level(PROGRESS)\n",
    "    \n",
    "# -------need u_n1------------------------------- #\n",
    "\n",
    "    # Galerkin variational problem\n",
    "    F = (u - u_n0)*v*dx\n",
    "    F += dt*(mu*dot(grad(v), grad(u))*dx + v*dot(velocity, grad(u))*dx + sigma*v*u*dx - f*v*dx)\n",
    "\n",
    "    # Create bilinear and linear forms\n",
    "    a1 = lhs(F)\n",
    "    L = rhs(F)\n",
    "\n",
    "    # Assemble matrices\n",
    "    A1 = assemble(a1)\n",
    "\n",
    "    t += dt\n",
    "    \n",
    "    u_.rename('u','u')\n",
    "    \n",
    "    u_D.t = t\n",
    "    f.t = t\n",
    "    velocity.t = t \n",
    "    u_exact.t = t\n",
    "    \n",
    "\n",
    "    b = assemble(L)\n",
    "#     bc = DirichletBC(Q, u_D, boundary)\n",
    "#     bc.apply(A1)\n",
    "#     bc.apply(b)\n",
    "    \n",
    "    solve(A1, u_n1.vector(), b)#, 'gmres')\n",
    "    progress.update(t / T)\n",
    "\n",
    "# -------------------------------------- #\n",
    "\n",
    "    # Galerkin variational problem\n",
    "    F = (1.5*u - 2.0*u_n1 + 0.5*u_n0)*v*dx\n",
    "    F += dt*(mu*dot(grad(v), grad(u))*dx + v*dot(velocity, grad(u))*dx + sigma*v*u*dx - f*v*dx)\n",
    "\n",
    "    # Create bilinear and linear forms\n",
    "    a1 = lhs(F)\n",
    "    L = rhs(F)\n",
    "\n",
    "\n",
    "\n",
    "    # Outputting files\n",
    "    out_file_uexact = File(folder+\"Exact_u_\"+str(nx)+\".pvd\") \n",
    "    out_file_ubar = File(folder+\"Galerk_u_\"+str(nx)+\".pvd\") \n",
    "    ue = interpolate(u_exact, Q)\n",
    "    \n",
    "    u_.rename('u','u')\n",
    "    \n",
    "    # Save t = 0.0\n",
    "    # #out_file_uexact << (ue, float(t))\n",
    "    # out_file_ubar << (u_, float(t))\n",
    "\n",
    "    while t - T + dt < DOLFIN_EPS:\n",
    "        # Step 1 Solve on Coarse Grid\n",
    "        t += dt\n",
    "        \n",
    "        u_.rename('u','u')\n",
    "        \n",
    "        u_D.t = t\n",
    "        f.t = t\n",
    "        u_exact.t = t\n",
    "        velocity.t = t\n",
    "        \n",
    "        # Assemble matrices\n",
    "        A1 = assemble(a1)\n",
    "\n",
    "        b = assemble(L)\n",
    "#         bc = DirichletBC(Q, u_D, boundary)\n",
    "#         bc.apply(A1)\n",
    "#         bc.apply(b)\n",
    "        \n",
    "        solve(A1, u_.vector(), b)#, 'gmres')\n",
    "        progress.update(t / T)\n",
    "\n",
    "        out_file_ubar << (u_, float(t))\n",
    "        u_n0.assign(u_n1)\n",
    "        u_n1.assign(u_)\n",
    "\n",
    "    #out_file_ubar << (u_, float(t))\n",
    "    L2, H1 = compute_errors(u_exact, u_, t, mesh)\n",
    "    maxval, minval = compute_extrema(u_, t)\n",
    "    \n",
    "    print nx, L2, H1,maxval,minval\n",
    "    return str(L2)+','+str(H1)+','+str(maxval)+','+str(minval)\n",
    "\n",
    "\n",
    "# ------------------------------------------ #\n",
    "\n",
    "from datetime import datetime, date\n",
    "\n",
    "def run(nx,dt,sigma,mu):\n",
    "    d_date = datetime.now()\n",
    "    today = d_date.strftime('%Y-%m-%d')\n",
    "    f = open(today+'_log.txt',\"a+\")\n",
    "\n",
    "\n",
    "    T = 6.0\n",
    "    degree = 2\n",
    "\n",
    "\n",
    "    #sigma = 0.1\n",
    "    #mu = 0.005\n",
    "    \n",
    "    folder = 'Galerkin/sigma'+str(sigma)+'_mu'+str(mu)\n",
    "    velocity = Expression(('cos(t)','sin(t)'), degree = degree, t = 0)\n",
    "    adr_f = Expression('exp(-(pow(x[0]-0.5,2)+pow(x[1]-0.5,2))/pow(0.07,2))', degree = degree)\n",
    "    \n",
    "    sim_data = 'E, dt='+str(dt)+', T='+str(T)+', P'+str(degree)\n",
    "    f.write(sim_data+'\\n')\n",
    "\n",
    "\n",
    "    now = d_date.strftime(\"%I:%M:%S %p\")\n",
    "    f.write('start: '+now+'\\n\\n')\n",
    "    \n",
    "    output = evolve_t(folder, nx, dt, T, degree, '0', adr_f.cppcode, sigma, mu, velocity)\n",
    "    f.write(str(nx)+','+str(dt)+','+output+'\\n')\n",
    "\n",
    "\n",
    "    d_date = datetime.now()\n",
    "    now = d_date.strftime(\"%I:%M:%S %p\")\n",
    "    f.write('\\nend: '+now+'\\n\\n')\n",
    "    f.write(notes)\n",
    "\n",
    "    f.close()"
   ]
  },
  {
   "cell_type": "code",
   "execution_count": 24,
   "metadata": {},
   "outputs": [
    {
     "name": "stdout",
     "output_type": "stream",
     "text": [
      "100 0.0224556047838 0.377730061343 0.101166293744 -0.00187857853312\n",
      "100 0.0262106653817 1.17764966335 0.118766919246 -0.0103466612513\n",
      "100 0.0270994865303 3.56846973947 0.161511167385 -0.0549452635698\n"
     ]
    }
   ],
   "source": [
    "dt = 0.1\n",
    "nx = 100\n",
    "sigma = 0.1\n",
    "mu = 0.005\n",
    "run(nx,dt,sigma,mu)\n",
    "sigma = 0.1\n",
    "mu = 0.0005\n",
    "run(nx,dt,sigma,mu)\n",
    "sigma = 0.1\n",
    "mu = 0.00005\n",
    "run(nx,dt,sigma,mu)"
   ]
  },
  {
   "cell_type": "code",
   "execution_count": 25,
   "metadata": {},
   "outputs": [
    {
     "name": "stdout",
     "output_type": "stream",
     "text": [
      "100 0.0286860184442 10.017557806 0.172332049644 -0.128969829502\n"
     ]
    }
   ],
   "source": [
    "sigma = 0.1\n",
    "mu = 0.000005\n",
    "run(nx,dt,sigma,mu)"
   ]
  },
  {
   "cell_type": "code",
   "execution_count": 5,
   "metadata": {},
   "outputs": [
    {
     "name": "stdout",
     "output_type": "stream",
     "text": [
      "25 5.00471459475e+35 8.20899497021e+36 3.70465381237e+35 -7.41624278401e+36\n",
      "50 7.84019439091e+77 1.5434054514e+79 4.08602027008e+77 -1.44054845955e+79\n",
      "100 1.95300866111e+81 2.40981384215e+83 6.62224745077e+82 -8.64234342698e+82\n"
     ]
    },
    {
     "ename": "KeyboardInterrupt",
     "evalue": "",
     "output_type": "error",
     "traceback": [
      "\u001b[0;31m---------------------------------------------------------------------------\u001b[0m",
      "\u001b[0;31mKeyboardInterrupt\u001b[0m                         Traceback (most recent call last)",
      "\u001b[0;32m<ipython-input-5-4ddd2c203fda>\u001b[0m in \u001b[0;36m<module>\u001b[0;34m()\u001b[0m\n\u001b[1;32m      5\u001b[0m \u001b[0mrun\u001b[0m\u001b[0;34m(\u001b[0m\u001b[0;36m50\u001b[0m\u001b[0;34m,\u001b[0m\u001b[0mdt\u001b[0m\u001b[0;34m,\u001b[0m\u001b[0msigma\u001b[0m\u001b[0;34m,\u001b[0m\u001b[0mmu\u001b[0m\u001b[0;34m)\u001b[0m\u001b[0;34m\u001b[0m\u001b[0m\n\u001b[1;32m      6\u001b[0m \u001b[0mrun\u001b[0m\u001b[0;34m(\u001b[0m\u001b[0;36m100\u001b[0m\u001b[0;34m,\u001b[0m\u001b[0mdt\u001b[0m\u001b[0;34m,\u001b[0m\u001b[0msigma\u001b[0m\u001b[0;34m,\u001b[0m\u001b[0mmu\u001b[0m\u001b[0;34m)\u001b[0m\u001b[0;34m\u001b[0m\u001b[0m\n\u001b[0;32m----> 7\u001b[0;31m \u001b[0mrun\u001b[0m\u001b[0;34m(\u001b[0m\u001b[0;36m200\u001b[0m\u001b[0;34m,\u001b[0m\u001b[0mdt\u001b[0m\u001b[0;34m,\u001b[0m\u001b[0msigma\u001b[0m\u001b[0;34m,\u001b[0m\u001b[0mmu\u001b[0m\u001b[0;34m)\u001b[0m\u001b[0;34m\u001b[0m\u001b[0m\n\u001b[0m\u001b[1;32m      8\u001b[0m \u001b[0mrun\u001b[0m\u001b[0;34m(\u001b[0m\u001b[0;36m400\u001b[0m\u001b[0;34m,\u001b[0m\u001b[0mdt\u001b[0m\u001b[0;34m,\u001b[0m\u001b[0msigma\u001b[0m\u001b[0;34m,\u001b[0m\u001b[0mmu\u001b[0m\u001b[0;34m)\u001b[0m\u001b[0;34m\u001b[0m\u001b[0m\n",
      "\u001b[0;32m<ipython-input-4-97ecee81ddbe>\u001b[0m in \u001b[0;36mrun\u001b[0;34m(nx, dt, sigma, mu)\u001b[0m\n\u001b[1;32m    158\u001b[0m     \u001b[0mf\u001b[0m\u001b[0;34m.\u001b[0m\u001b[0mwrite\u001b[0m\u001b[0;34m(\u001b[0m\u001b[0;34m'start: '\u001b[0m\u001b[0;34m+\u001b[0m\u001b[0mnow\u001b[0m\u001b[0;34m+\u001b[0m\u001b[0;34m'\\n\\n'\u001b[0m\u001b[0;34m)\u001b[0m\u001b[0;34m\u001b[0m\u001b[0m\n\u001b[1;32m    159\u001b[0m \u001b[0;34m\u001b[0m\u001b[0m\n\u001b[0;32m--> 160\u001b[0;31m     \u001b[0moutput\u001b[0m \u001b[0;34m=\u001b[0m \u001b[0mevolve_t\u001b[0m\u001b[0;34m(\u001b[0m\u001b[0mfolder\u001b[0m\u001b[0;34m,\u001b[0m \u001b[0mnx\u001b[0m\u001b[0;34m,\u001b[0m \u001b[0mdt\u001b[0m\u001b[0;34m,\u001b[0m \u001b[0mT\u001b[0m\u001b[0;34m,\u001b[0m \u001b[0mdegree\u001b[0m\u001b[0;34m,\u001b[0m \u001b[0;34m'0'\u001b[0m\u001b[0;34m,\u001b[0m \u001b[0madr_f\u001b[0m\u001b[0;34m.\u001b[0m\u001b[0mcppcode\u001b[0m\u001b[0;34m,\u001b[0m \u001b[0msigma\u001b[0m\u001b[0;34m,\u001b[0m \u001b[0mmu\u001b[0m\u001b[0;34m,\u001b[0m \u001b[0mvelocity\u001b[0m\u001b[0;34m)\u001b[0m\u001b[0;34m\u001b[0m\u001b[0m\n\u001b[0m\u001b[1;32m    161\u001b[0m     \u001b[0mf\u001b[0m\u001b[0;34m.\u001b[0m\u001b[0mwrite\u001b[0m\u001b[0;34m(\u001b[0m\u001b[0mstr\u001b[0m\u001b[0;34m(\u001b[0m\u001b[0mnx\u001b[0m\u001b[0;34m)\u001b[0m\u001b[0;34m+\u001b[0m\u001b[0;34m','\u001b[0m\u001b[0;34m+\u001b[0m\u001b[0mstr\u001b[0m\u001b[0;34m(\u001b[0m\u001b[0mdt\u001b[0m\u001b[0;34m)\u001b[0m\u001b[0;34m+\u001b[0m\u001b[0;34m','\u001b[0m\u001b[0;34m+\u001b[0m\u001b[0moutput\u001b[0m\u001b[0;34m+\u001b[0m\u001b[0;34m'\\n'\u001b[0m\u001b[0;34m)\u001b[0m\u001b[0;34m\u001b[0m\u001b[0m\n\u001b[1;32m    162\u001b[0m \u001b[0;34m\u001b[0m\u001b[0m\n",
      "\u001b[0;32m<ipython-input-4-97ecee81ddbe>\u001b[0m in \u001b[0;36mevolve_t\u001b[0;34m(folder, nx, dt, T, degree, u_code, f_code, sigma, mu, velocity)\u001b[0m\n\u001b[1;32m    115\u001b[0m \u001b[0;31m#         bc.apply(b)\u001b[0m\u001b[0;34m\u001b[0m\u001b[0;34m\u001b[0m\u001b[0m\n\u001b[1;32m    116\u001b[0m \u001b[0;34m\u001b[0m\u001b[0m\n\u001b[0;32m--> 117\u001b[0;31m         \u001b[0msolve\u001b[0m\u001b[0;34m(\u001b[0m\u001b[0mA1\u001b[0m\u001b[0;34m,\u001b[0m \u001b[0mu_\u001b[0m\u001b[0;34m.\u001b[0m\u001b[0mvector\u001b[0m\u001b[0;34m(\u001b[0m\u001b[0;34m)\u001b[0m\u001b[0;34m,\u001b[0m \u001b[0mb\u001b[0m\u001b[0;34m)\u001b[0m\u001b[0;31m#, 'gmres')\u001b[0m\u001b[0;34m\u001b[0m\u001b[0m\n\u001b[0m\u001b[1;32m    118\u001b[0m         \u001b[0mprogress\u001b[0m\u001b[0;34m.\u001b[0m\u001b[0mupdate\u001b[0m\u001b[0;34m(\u001b[0m\u001b[0mt\u001b[0m \u001b[0;34m/\u001b[0m \u001b[0mT\u001b[0m\u001b[0;34m)\u001b[0m\u001b[0;34m\u001b[0m\u001b[0m\n\u001b[1;32m    119\u001b[0m \u001b[0;34m\u001b[0m\u001b[0m\n",
      "\u001b[0;32m/home/kmbicol/anaconda2/envs/fenics/lib/python2.7/site-packages/dolfin/fem/solving.pyc\u001b[0m in \u001b[0;36msolve\u001b[0;34m(*args, **kwargs)\u001b[0m\n\u001b[1;32m    308\u001b[0m                              \"linear algebra problem\")\n\u001b[1;32m    309\u001b[0m \u001b[0;34m\u001b[0m\u001b[0m\n\u001b[0;32m--> 310\u001b[0;31m         \u001b[0;32mreturn\u001b[0m \u001b[0mcpp\u001b[0m\u001b[0;34m.\u001b[0m\u001b[0mla_solve\u001b[0m\u001b[0;34m(\u001b[0m\u001b[0;34m*\u001b[0m\u001b[0margs\u001b[0m\u001b[0;34m)\u001b[0m\u001b[0;34m\u001b[0m\u001b[0m\n\u001b[0m\u001b[1;32m    311\u001b[0m \u001b[0;34m\u001b[0m\u001b[0m\n\u001b[1;32m    312\u001b[0m \u001b[0;34m\u001b[0m\u001b[0m\n",
      "\u001b[0;32m/home/kmbicol/anaconda2/envs/fenics/lib/python2.7/site-packages/dolfin/cpp/la.pyc\u001b[0m in \u001b[0;36mla_solve\u001b[0;34m(*args)\u001b[0m\n\u001b[1;32m   4138\u001b[0m \u001b[0;34m\u001b[0m\u001b[0m\n\u001b[1;32m   4139\u001b[0m     \"\"\"\n\u001b[0;32m-> 4140\u001b[0;31m     \u001b[0;32mreturn\u001b[0m \u001b[0m_la\u001b[0m\u001b[0;34m.\u001b[0m\u001b[0mla_solve\u001b[0m\u001b[0;34m(\u001b[0m\u001b[0;34m*\u001b[0m\u001b[0margs\u001b[0m\u001b[0;34m)\u001b[0m\u001b[0;34m\u001b[0m\u001b[0m\n\u001b[0m\u001b[1;32m   4141\u001b[0m \u001b[0;34m\u001b[0m\u001b[0m\n\u001b[1;32m   4142\u001b[0m \u001b[0;32mdef\u001b[0m \u001b[0mlist_linear_algebra_backends\u001b[0m\u001b[0;34m(\u001b[0m\u001b[0;34m)\u001b[0m\u001b[0;34m:\u001b[0m\u001b[0;34m\u001b[0m\u001b[0m\n",
      "\u001b[0;31mKeyboardInterrupt\u001b[0m: "
     ]
    }
   ],
   "source": [
    "dt = 0.1\n",
    "sigma = 0.1\n",
    "mu = 0.00005\n",
    "run(25,dt,sigma,mu)\n",
    "run(50,dt,sigma,mu)\n",
    "run(100,dt,sigma,mu)\n",
    "run(200,dt,sigma,mu)\n",
    "run(400,dt,sigma,mu)"
   ]
  },
  {
   "cell_type": "code",
   "execution_count": 27,
   "metadata": {},
   "outputs": [
    {
     "name": "stdout",
     "output_type": "stream",
     "text": [
      "400 0.0270457625692 11.4126414057 0.168801097185 -0.0370192307478\n"
     ]
    }
   ],
   "source": []
  },
  {
   "cell_type": "code",
   "execution_count": null,
   "metadata": {},
   "outputs": [],
   "source": []
  }
 ],
 "metadata": {
  "kernelspec": {
   "display_name": "Python 2",
   "language": "python",
   "name": "python2"
  },
  "language_info": {
   "codemirror_mode": {
    "name": "ipython",
    "version": 2
   },
   "file_extension": ".py",
   "mimetype": "text/x-python",
   "name": "python",
   "nbconvert_exporter": "python",
   "pygments_lexer": "ipython2",
   "version": "2.7.14"
  }
 },
 "nbformat": 4,
 "nbformat_minor": 2
}
