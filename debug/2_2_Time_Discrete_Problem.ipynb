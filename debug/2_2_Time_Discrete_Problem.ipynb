{
 "cells": [
  {
   "cell_type": "markdown",
   "metadata": {},
   "source": [
    "## Case: Discrete Time Problem\n",
    "\n",
    "Consider quasi-steady state (to march one time step):\n",
    "$$\\frac{1}{dt} u - \\frac{1}{dt} u_n - \\mu \\Delta u + b \\cdot \\nabla u + \\sigma u = f$$\n",
    "\n",
    "Let $u_n = 0$, then we get\n",
    "$$\\frac{1}{dt} u - \\mu \\Delta u + b \\cdot \\nabla u + \\sigma u = f$$\n",
    "\n",
    "Use the following to get an exact solution:\n",
    "$$- \\mu \\Delta u + b \\cdot \\nabla u + (\\sigma + \\frac{1}{dt}) u = f$$\n",
    "\n",
    "\n",
    "Observations:\n",
    "* I didn't notice that my boundary condition started at the previous time value. So I've changed u_D to start at t=dt.\n",
    "\n",
    "L2 = [0.00184787979202, 0.00105810225271,0.000276831534501,4.64777180384e-05,4.12684044107e-06,6.41631919236e-07];\n",
    "\n",
    "H1 = [0.312366263529,0.332888814706,0.195881509539,0.0568651780157,0.0124115103279,0.00438898711996];\n"
   ]
  },
  {
   "cell_type": "code",
   "execution_count": 11,
   "metadata": {},
   "outputs": [],
   "source": [
    "%matplotlib inline \n",
    "import matplotlib\n",
    "from dolfin import *\n",
    "from __future__ import print_function\n",
    "import math as m\n",
    "import sympy as sym\n",
    "import csv\n",
    "\n",
    "x, y, t = sym.symbols('x[0], x[1], t')\n",
    "sigma = 1.0\n",
    "mu = 10**(-5) \n",
    "b=as_vector([2.0, 3.0])\n",
    "\n",
    "# Iliescu Exact Solution\n",
    "c = 16.0*sym.sin(sym.pi*t)\n",
    "h = x*(1-x)*y*(1-y)\n",
    "g = 2*mu**(-0.5)*(0.25**2 - (x - 0.5)**2 - (y - 0.5)**2 )\n",
    "ue = c*h*(0.5+sym.atan(g)/sym.pi)\n",
    "\n",
    "dt = 0.01\n",
    "\n",
    "ue = sym.simplify(ue)\n",
    "u_code = sym.printing.ccode(ue)\n",
    "u_code = u_code.replace('M_PI','DOLFIN_PI')\n",
    "\n",
    "fe = - mu*(sym.diff(sym.diff(ue,x),x) + sym.diff(sym.diff(ue,y),y))\n",
    "fe += b[0]*sym.diff(ue,x) + b[1]*sym.diff(ue,y)\n",
    "fe += (sigma + 1/dt)*ue\n",
    "\n",
    "f_code = sym.printing.ccode(fe)\n",
    "f_code = f_code.replace('M_PI','DOLFIN_PI')"
   ]
  },
  {
   "cell_type": "code",
   "execution_count": 12,
   "metadata": {},
   "outputs": [],
   "source": [
    "def compute_errors(u_e, u, t, mesh):\n",
    "\tL2n = errornorm(u_e, u, norm_type='L2', degree_rise=3, mesh=mesh)\n",
    "\tH1n = errornorm(u_e, u, norm_type='H1', degree_rise=3, mesh=mesh)\n",
    "\terrors = {'L2 norm': L2n, 'H1 norm': H1n}\n",
    "\treturn 'L2, ' + str(L2n) +', H1, '+ str(H1n) +', t, '+ str(t) +'\\n'"
   ]
  },
  {
   "cell_type": "code",
   "execution_count": 15,
   "metadata": {},
   "outputs": [],
   "source": [
    "def evolve(nx, u_code, f_code, sigma, mu, velocity):\n",
    "    degree = 2\n",
    "    \n",
    "    u_exact = Expression(u_code, degree = degree, t=0.0)\n",
    "    \n",
    "    f = Expression(f_code, degree = degree, t=dt)\n",
    "\n",
    "    mesh = UnitSquareMesh(nx,nx)\n",
    "\n",
    "    Q = FunctionSpace(mesh, \"CG\", degree)\n",
    "\n",
    "    # Set up boundary condition\n",
    "    u_D = Expression(u_exact.cppcode, degree = degree, t=dt)\n",
    "    \n",
    "    def boundary(x, on_boundary):\n",
    "        return on_boundary\n",
    "    \n",
    "    bc = DirichletBC(Q, u_D, boundary)\n",
    "\n",
    "    # Test and trial functions\n",
    "    u, v = TrialFunction(Q), TestFunction(Q)\n",
    "    u_n = Function(Q)\n",
    "    u_ = Function(Q)\n",
    "\n",
    "    # Galerkin variational problem\n",
    "    F = mu*dot(grad(v), grad(u))*dx + v*dot(velocity, grad(u))*dx + (sigma+1.0/dt)*v*u*dx - f*v*dx\n",
    "\n",
    "    # Create bilinear and linear forms\n",
    "    a1 = lhs(F)\n",
    "    L = rhs(F)\n",
    "\n",
    "    # Assemble matrices\n",
    "    A1 = assemble(a1)\n",
    "    bc.apply(A1)\n",
    "\n",
    "    # Create progress bar\n",
    "    progress = Progress('Time-stepping')\n",
    "    set_log_level(PROGRESS)\n",
    "\n",
    "    # Step 1 Solve on Coarse Grid\n",
    "    b = assemble(L)\n",
    "    bc.apply(b)\n",
    "    solve(A1, u_.vector(), b, 'gmres')\n",
    "    \n",
    "    u_exact.t = dt\n",
    "    errors = compute_errors(u_exact, u_, 0, mesh)\n",
    "    print(errors)\n",
    "    \n",
    "    out_file_uexact = File(\"results/evolve_steady_u_exact_\"+str(nx)+\".pvd\") \n",
    "    ue = interpolate(u_exact, Q)\n",
    "    out_file_uexact << ue\n",
    "    out_file_ubar = File(\"results/\"+str(mu)+\"evolve_steady_u_\"+str(nx)+\".pvd\") \n",
    "    out_file_ubar << u_"
   ]
  },
  {
   "cell_type": "code",
   "execution_count": 16,
   "metadata": {},
   "outputs": [
    {
     "name": "stdout",
     "output_type": "stream",
     "text": [
      "nx = 25\n"
     ]
    },
    {
     "name": "stderr",
     "output_type": "stream",
     "text": [
      "--- Instant: compiling ---\n"
     ]
    },
    {
     "name": "stdout",
     "output_type": "stream",
     "text": [
      "Calling FFC just-in-time (JIT) compiler, this may take some time.\n",
      "L2, 0.00184787979202, H1, 0.312366263529, t, 0\n",
      "\n",
      "nx = 50\n",
      "L2, 0.00105810225271, H1, 0.332888814706, t, 0\n",
      "\n",
      "nx = 100\n",
      "L2, 0.000276831534501, H1, 0.195881509539, t, 0\n",
      "\n",
      "nx = 200\n",
      "L2, 4.64777180384e-05, H1, 0.0568651780157, t, 0\n",
      "\n",
      "nx = 400\n",
      "L2, 4.12684044107e-06, H1, 0.0124115103279, t, 0\n",
      "\n",
      "nx = 800\n",
      "L2, 6.41631919236e-07, H1, 0.00438898711996, t, 0\n",
      "\n"
     ]
    }
   ],
   "source": [
    "for nx in [25, 50, 100, 200, 400, 800]:\n",
    "    print('nx = '+str(nx))\n",
    "    evolve(nx, u_code, f_code, sigma, mu, b)"
   ]
  }
 ],
 "metadata": {
  "kernelspec": {
   "display_name": "Python 2",
   "language": "python",
   "name": "python2"
  },
  "language_info": {
   "codemirror_mode": {
    "name": "ipython",
    "version": 2
   },
   "file_extension": ".py",
   "mimetype": "text/x-python",
   "name": "python",
   "nbconvert_exporter": "python",
   "pygments_lexer": "ipython2",
   "version": "2.7.14"
  }
 },
 "nbformat": 4,
 "nbformat_minor": 2
}
