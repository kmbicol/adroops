{
 "cells": [
  {
   "cell_type": "markdown",
   "metadata": {},
   "source": [
    "# 3. Evolve-Filter, steady state\n",
    "* Completed Steady State, need to make convergence plots\n",
    "* $\\delta = 1/nx$\n",
    "* $a = a_D$\n",
    "* Using different N"
   ]
  },
  {
   "cell_type": "code",
   "execution_count": 7,
   "metadata": {
    "scrolled": true
   },
   "outputs": [],
   "source": [
    "%matplotlib inline \n",
    "import matplotlib\n",
    "from dolfin import *\n",
    "from __future__ import print_function\n",
    "import numpy as np\n",
    "import sympy as sym\n",
    "import csv\n",
    "\n",
    "x, y, t = sym.symbols('x[0], x[1], t')\n",
    "sigma = 1.0\n",
    "mu = 10**(-5) \n",
    "b=as_vector([2.0, 3.0])\n",
    "# Exact Solution\n",
    "c = 16.0 #*sym.sin(sym.pi*t)\n",
    "h = x*(1-x)*y*(1-y)\n",
    "g = 2*mu**(-0.5)*(0.25**2 - (x - 0.5)**2 - (y - 0.5)**2 )\n",
    "iliescu = c*h*(0.5+sym.atan(g)/sym.pi)\n",
    "\n",
    "ue = sym.simplify(iliescu)\n",
    "u_code = sym.printing.ccode(ue)\n",
    "u_code = u_code.replace('M_PI','DOLFIN_PI')\n",
    "\n",
    "# du/dt - mu*Laplace(u) + div(bu) + sigma*u = f\n",
    "fe = 0 #sym.diff(ue,t) Remove time dependence for now\n",
    "fe += - mu*(sym.diff(sym.diff(ue,x),x) + sym.diff(sym.diff(ue,y),y))\n",
    "fe += b[0]*sym.diff(ue,x) + b[1]*sym.diff(ue,y)\n",
    "fe += sigma*ue\n",
    "\n",
    "f_code = sym.printing.ccode(fe)\n",
    "f_code = f_code.replace('M_PI','DOLFIN_PI')"
   ]
  },
  {
   "cell_type": "code",
   "execution_count": 8,
   "metadata": {},
   "outputs": [],
   "source": [
    "# %load main-EFR.py\n",
    "\n",
    "def compute_errors(u_e, u, t, mesh):\n",
    "\tL2n = errornorm(u_e, u, norm_type='L2', degree_rise=3, mesh=mesh)\n",
    "\tH1n = errornorm(u_e, u, norm_type='H1', degree_rise=3, mesh=mesh)\n",
    "\treturn L2n, H1n\n",
    "\n",
    "def compute_extrema(u, t):\n",
    "    maxval = np.amax(u.vector().get_local())\n",
    "    minval = np.amin(u.vector().get_local())\n",
    "    return maxval, minval"
   ]
  },
  {
   "cell_type": "code",
   "execution_count": 12,
   "metadata": {},
   "outputs": [],
   "source": [
    "# filter solving\n",
    "\n",
    "def deconv_filter(u_, delta, Q, boundary):\n",
    "    u_tilde = TrialFunction(Q)\n",
    "    v = TestFunction(Q)\n",
    "\n",
    "    F_Hfilter = v*u_tilde*dx + delta*delta*dot(grad(v), grad(u_tilde))*dx - v*u_*dx \n",
    "\n",
    "    a_Hfilter = lhs(F_Hfilter)\n",
    "    L_Hfilter = rhs(F_Hfilter)\n",
    "    \n",
    "    bc = DirichletBC(Q, u_, boundary)\n",
    "    \n",
    "    A_Hfilter = assemble(a_Hfilter)\n",
    "    bc.apply(A_Hfilter)\n",
    "\n",
    "    b_Hfilter = assemble(L_Hfilter)\n",
    "    bc.apply(b_Hfilter)\n",
    "\n",
    "    solver = LUSolver(A_Hfilter)\n",
    "    u_tilde = Function(Q)\n",
    "    solver.solve(u_tilde.vector(), b_Hfilter)\n",
    "    return u_tilde"
   ]
  },
  {
   "cell_type": "code",
   "execution_count": 26,
   "metadata": {},
   "outputs": [],
   "source": [
    "def evolve_filter(filename, delta, nx, u_code, f_code, sigma, mu, velocity):\n",
    "    degree = 2\n",
    "    folder = 'EF_N3/'\n",
    "\n",
    "    \n",
    "    u_exact = Expression(u_code, degree = degree)  \n",
    "    f = Expression(f_code, degree = degree)\n",
    "    mesh = UnitSquareMesh(nx,nx)\n",
    "    Q = FunctionSpace(mesh, \"CG\", degree)\n",
    "\n",
    "    # Set up boundary condition\n",
    "    u_D = Expression(u_exact.cppcode, degree = degree)\n",
    "    def boundary(x, on_boundary):\n",
    "        return on_boundary\n",
    "    \n",
    "# ------------ STEP 1: Solve on coarse grid ----------------------#\n",
    "\n",
    "    bc = DirichletBC(Q, u_D, boundary)\n",
    "\n",
    "    # Test and trial functions\n",
    "    u, v = TrialFunction(Q), TestFunction(Q)\n",
    "    u_n = Function(Q)\n",
    "    u_ = Function(Q)\n",
    "\n",
    "    # Galerkin variational problem\n",
    "    F = mu*dot(grad(v), grad(u))*dx + v*dot(velocity, grad(u))*dx + sigma*v*u*dx - f*v*dx\n",
    "\n",
    "    # Create bilinear and linear forms\n",
    "    a1 = lhs(F)\n",
    "    L = rhs(F)\n",
    "\n",
    "    # Assemble matrices\n",
    "    A1 = assemble(a1)\n",
    "    bc.apply(A1)\n",
    "\n",
    "    # Create progress bar\n",
    "    progress = Progress('Time-stepping')\n",
    "    set_log_level(PROGRESS)\n",
    "\n",
    "    # Step 1 Solve on Coarse Grid\n",
    "    b = assemble(L)\n",
    "    bc.apply(b)\n",
    "    solve(A1, u_.vector(), b, 'gmres')\n",
    "    \n",
    "#     errors = compute_errors(u_exact, u_, 0, mesh)\n",
    "#     print(errors)\n",
    "\n",
    "    out_file_uexact = File(folder+\"evolve_steady_u_exact_\"+str(nx)+\".pvd\") \n",
    "    ue = interpolate(u_exact, Q)\n",
    "    out_file_uexact << ue\n",
    "    out_file_ubar = File(folder+str(mu)+\"evolve_steady_u_\"+str(nx)+\".pvd\") \n",
    "    out_file_ubar << u_\n",
    "\n",
    "    \n",
    "# ------------ STEP 2: Helmholtz filter ----------------------#\n",
    "\n",
    "\n",
    "#     # N = 0\n",
    "#     u_tilde0 = deconv_filter(u_, delta, Q, boundary)\n",
    "#     DF = Expression('u_tilde0', degree = degree, u_tilde0 = u_tilde0)\n",
    "\n",
    "#     # N = 1\n",
    "#     u_tilde0 = deconv_filter(u_, delta, Q, boundary)\n",
    "#     u_tilde1 = deconv_filter(u_tilde0, delta, Q, boundary)\n",
    "#     DF = Expression('2.0*u_tilde0 - u_tilde1', degree = degree, u_tilde0 = u_tilde0, u_tilde1 = u_tilde1)\n",
    "\n",
    "#     # N = 2\n",
    "#     u_tilde1 = deconv_filter(u_, delta, Q, boundary)\n",
    "#     u_tilde2 = deconv_filter(u_tilde1, delta, Q, boundary)\n",
    "#     u_tilde3 = deconv_filter(u_tilde2, delta, Q, boundary)\n",
    "#     DF = Expression('3.0*u_tilde1 - 3.0*u_tilde2 + u_tilde3', degree = degree, u_tilde1 = u_tilde1, u_tilde2 = u_tilde2, u_tilde3 = u_tilde3)\n",
    "\n",
    "    # N = 3\n",
    "    u_tilde1 = deconv_filter(u_, delta, Q, boundary)\n",
    "    u_tilde2 = deconv_filter(u_tilde1, delta, Q, boundary)\n",
    "    u_tilde3 = deconv_filter(u_tilde2, delta, Q, boundary)\n",
    "    u_tilde4 = deconv_filter(u_tilde3, delta, Q, boundary)\n",
    "    DF = Expression('3.0*u_tilde1 - 3.0*u_tilde2 + u_tilde3 + u_tilde1 - 3.0*u_tilde2 + 3.0*u_tilde3 - u_tilde4', degree = degree, u_tilde1 = u_tilde1, u_tilde2 = u_tilde2, u_tilde3 = u_tilde3, u_tilde4 = u_tilde4)\n",
    "\n",
    "    # Compute the indicator function N = 0\n",
    "    indicator = Expression('sqrt((a-b)*(a-b))', degree = 2, a = u_, b = DF)\n",
    "    indicator = interpolate(indicator, Q)\n",
    "    max_ind = np.amax(indicator.vector().get_local())\n",
    "\n",
    "    if max_ind < 1:\n",
    "        max_ind = 1.0\n",
    "\n",
    "    indicator = Expression('a/b', degree = 2, a = indicator, b = max_ind)\n",
    "    indicator = interpolate(indicator, Q)\n",
    "\n",
    "    out_file_ind = File(folder+str(mu)+\"EF_aD\"+str(nx)+\".pvd\")\n",
    "    out_file_ind << indicator\n",
    "\n",
    "    # Apply the filter\n",
    "    u_bar = TrialFunction(Q)\n",
    "    F_filter = v*u_bar*dx + delta*delta*dot(grad(v), indicator*grad(u_bar))*dx - v*u_*dx \n",
    "\n",
    "    a_filter = lhs(F_filter)\n",
    "    L_filter = rhs(F_filter)\n",
    "\n",
    "    A_filter = assemble(a_filter)\n",
    "    bc.apply(A_filter)\n",
    "\n",
    "    b_filter = assemble(L_filter)\n",
    "    bc.apply(b_filter)\n",
    "\n",
    "    solver = LUSolver(A_filter)\n",
    "    u_bar = Function(Q)\n",
    "    solver.solve(u_bar.vector(), b_filter)\n",
    "    \n",
    "    out_file_ufilter = File(folder+\"delta\"+filename+\"_filter_u_\"+str(nx)+\".pvd\") \n",
    "    out_file_ufilter << u_bar\n",
    "\n",
    "    \n",
    "    L2, H1 = compute_errors(u_exact, u_bar, t, mesh)\n",
    "    maxval, minval = compute_extrema(u_bar, t)\n",
    "    \n",
    "    print(nx,\",\",L2,\",\",H1,\",\",maxval,\",\",minval)\n"
   ]
  },
  {
   "cell_type": "markdown",
   "metadata": {},
   "source": [
    "## $ N = 0 $\n",
    "\n",
    "25 , 0.281849030719 , 15.6615596083 , 1.58232307758 , -0.77453060737\n",
    "50 , 0.174892605469 , 12.864296479 , 1.48156398067 , -0.518960941244\n",
    "100 , 0.029634489156 , 7.49899879463 , 1.07818906133 , -0.104262476451\n",
    "200 , 0.0051976175589 , 3.32468881229 , 1.00559701449 , -0.0300435478052\n",
    "400 , 0.000418226657031 , 0.643213010063 , 0.992008662377 , -0.000933532363759"
   ]
  },
  {
   "cell_type": "markdown",
   "metadata": {},
   "source": [
    "## $ N = 1 $\n",
    "25 , 0.287233502981 , 16.0204889199 , 1.6158368443 , -0.809097878514\n",
    "50 , 0.175161958643 , 12.8447116586 , 1.49293255105 , -0.536161548846\n",
    "100 , 0.0299615900264 , 7.71058142427 , 1.08146984486 , -0.109884189636\n",
    "200 , 0.00520813015613 , 3.40013509262 , 1.00575814501 , -0.0308328352103\n",
    "400 , 0.000299064877717 , 0.528557170247 , 0.992008870185 , -0.000934400407316"
   ]
  },
  {
   "cell_type": "markdown",
   "metadata": {},
   "source": [
    "# $ N = 2 $\n",
    "\n",
    "25 , 0.290681547637 , 16.2660732197 , 1.64387910452 , -0.848598139854\n",
    "50 , 0.17516303274 , 12.8261324184 , 1.497922101 , -0.534840344007\n",
    "100 , 0.0301550694171 , 7.84613735063 , 1.08387561473 , -0.1127414027\n",
    "200 , 0.00521131970991 , 3.43707655396 , 1.00582721641 , -0.0311979550416\n",
    "400 , 0.000257595209454 , 0.492349863352 , 0.99200887985 , -0.000935200927092"
   ]
  },
  {
   "cell_type": "markdown",
   "metadata": {},
   "source": [
    "# $ N = 3 $\n",
    "25 , 0.292534761633 , 16.4051086018 , 1.6680810514 , -0.870443091387\n",
    "50 , 0.175250235455 , 12.8425344419 , 1.5073793708 , -0.534216168652\n",
    "100 , 0.0303119710551 , 7.95689306981 , 1.08622686414 , -0.11469786005\n",
    "200 , 0.00521732741324 , 3.46673866426 , 1.00589350893 , -0.0314428632787\n",
    "400 , 0.000240362496861 , 0.481830499745 , 0.992008888805 , -0.000935960840084\n"
   ]
  },
  {
   "cell_type": "markdown",
   "metadata": {},
   "source": [
    "## $ N = 0 $ with new function\n",
    "* confirmed that new function does not change error values.\n",
    "\n",
    "25 , 0.281849030719 , 15.6615596083 , 1.58232307758 , -0.77453060737\n",
    "\n",
    "50 , 0.174892605469 , 12.864296479 , 1.48156398067 , -0.518960941244\n",
    "\n",
    "100 , 0.029634489156 , 7.49899879463 , 1.07818906133 , -0.104262476451\n",
    "\n",
    "200 , 0.0051976175589 , 3.32468881229 , 1.00559701449 , -0.0300435478052\n",
    "\n",
    "400 , 0.000418226657031 , 0.643213010063 , 0.992008662377 , -0.000933532363759"
   ]
  },
  {
   "cell_type": "code",
   "execution_count": 27,
   "metadata": {},
   "outputs": [
    {
     "name": "stderr",
     "output_type": "stream",
     "text": [
      "--- Instant: compiling ---\n"
     ]
    },
    {
     "name": "stdout",
     "output_type": "stream",
     "text": [
      "25 , 0.292534761633 , 16.4051086018 , 1.6680810514 , -0.870443091387\n",
      "50 , 0.175250235455 , 12.8425344419 , 1.5073793708 , -0.534216168652\n",
      "100 , 0.0303119710551 , 7.95689306981 , 1.08622686414 , -0.11469786005\n",
      "200 , 0.00521732741324 , 3.46673866426 , 1.00589350893 , -0.0314428632787\n",
      "400 , 0.000240362496861 , 0.481830499745 , 0.992008888805 , -0.000935960840084\n"
     ]
    }
   ],
   "source": [
    "filename = 'varies'\n",
    "for nx in [25, 50, 100, 200, 400]:\n",
    "    delta = 1.0/nx\n",
    "    evolve_filter(filename, delta, nx, u_code, f_code, sigma, mu, b)"
   ]
  },
  {
   "cell_type": "code",
   "execution_count": null,
   "metadata": {},
   "outputs": [],
   "source": []
  }
 ],
 "metadata": {
  "kernelspec": {
   "display_name": "Python 2",
   "language": "python",
   "name": "python2"
  },
  "language_info": {
   "codemirror_mode": {
    "name": "ipython",
    "version": 2
   },
   "file_extension": ".py",
   "mimetype": "text/x-python",
   "name": "python",
   "nbconvert_exporter": "python",
   "pygments_lexer": "ipython2",
   "version": "2.7.14"
  }
 },
 "nbformat": 4,
 "nbformat_minor": 2
}
