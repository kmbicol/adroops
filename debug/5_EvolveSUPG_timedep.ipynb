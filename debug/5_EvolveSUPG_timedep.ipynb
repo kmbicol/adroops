{
 "cells": [
  {
   "cell_type": "markdown",
   "metadata": {},
   "source": [
    "# 5. Evolve with SUPG, timedep"
   ]
  },
  {
   "cell_type": "code",
   "execution_count": 1,
   "metadata": {
    "scrolled": true
   },
   "outputs": [],
   "source": [
    "%matplotlib inline \n",
    "import matplotlib\n",
    "from dolfin import *\n",
    "from __future__ import print_function\n",
    "import numpy as np\n",
    "import sympy as sym\n",
    "import csv\n",
    "\n",
    "x, y, t = sym.symbols('x[0], x[1], t')\n",
    "sigma = 1.0\n",
    "mu = 10**(-5) \n",
    "b=as_vector([2.0, 3.0])\n",
    "\n",
    "# Iliescu Exact Solution\n",
    "c = 16.0*sym.sin(sym.pi*t)\n",
    "h = x*(1-x)*y*(1-y)\n",
    "g = 2*mu**(-0.5)*(0.25**2 - (x - 0.5)**2 - (y - 0.5)**2 )\n",
    "ue = c*h*(0.5+sym.atan(g)/sym.pi)\n",
    "\n",
    "# ------------------------------------------ #\n",
    "\n",
    "ue = sym.simplify(ue)\n",
    "u_code = sym.printing.ccode(ue)\n",
    "u_code = u_code.replace('M_PI','DOLFIN_PI')\n",
    "\n",
    "# du/dt - mu*Laplace(u) + div(bu) + sigma*u = f\n",
    "fe = sym.diff(ue,t)\n",
    "fe += - mu*(sym.diff(sym.diff(ue,x),x) + sym.diff(sym.diff(ue,y),y))\n",
    "fe += b[0]*sym.diff(ue,x) + b[1]*sym.diff(ue,y)\n",
    "fe += sigma*ue\n",
    "\n",
    "f_code = sym.printing.ccode(fe)\n",
    "f_code = f_code.replace('M_PI','DOLFIN_PI')\n",
    "\n",
    "# print('u_code = ' + u_code + '\\n')\n",
    "# print('f_code = ' + f_code)\n",
    "\n",
    "def compute_errors(u_e, u, t, mesh):\n",
    "\tL2n = errornorm(u_e, u, norm_type='L2', degree_rise=3, mesh=mesh)\n",
    "\tH1n = errornorm(u_e, u, norm_type='H1', degree_rise=3, mesh=mesh)\n",
    "\treturn L2n, H1n\n",
    "\n",
    "def compute_extrema(u, t):\n",
    "    maxval = np.amax(u.vector().get_local())\n",
    "    minval = np.amin(u.vector().get_local())\n",
    "    return maxval, minval"
   ]
  },
  {
   "cell_type": "code",
   "execution_count": 2,
   "metadata": {},
   "outputs": [],
   "source": [
    "def evolve_t(nx, dt, T, u_code, f_code, sigma, mu, velocity):\n",
    "    folder = 'FEFfigs/'\n",
    "    degree = 2\n",
    "    \n",
    "    t = 0.0\n",
    "    u_exact = Expression(u_code, degree = degree, t = t)\n",
    "    f = Expression(f_code, degree = degree, t = t)\n",
    "\n",
    "    mesh = UnitSquareMesh(nx,nx)\n",
    "    Q = FunctionSpace(mesh, \"CG\", degree)\n",
    "\n",
    "    # Set up boundary condition\n",
    "    u_D = Expression(u_code, degree = degree, t = t)\n",
    "    \n",
    "    def boundary(x, on_boundary):\n",
    "        return on_boundary\n",
    "\n",
    "    # Test and trial functions\n",
    "    u, v = TrialFunction(Q), TestFunction(Q)\n",
    "    #u_n = Function(Q)\n",
    "    u_n = interpolate(u_D, Q)\n",
    "    u_ = Function(Q)\n",
    "\n",
    "    # Galerkin variational problem\n",
    "    F = (u - u_n)*v*dx\n",
    "    F += dt*(mu*dot(grad(v), grad(u))*dx + v*dot(velocity, grad(u))*dx + sigma*v*u*dx - f*v*dx)\n",
    "\n",
    "    # SUPG stabilization terms\n",
    "    h = CellDiameter(mesh)\n",
    "\n",
    "#     r = u - u_n + dt*(- mu*div(grad(u)) + dot(velocity, grad(u)) + sigma*u - f)\n",
    "#     vnorm = sqrt(dot(velocity, velocity))\n",
    "#     F += (h/(2.0*vnorm))*dot(velocity, grad(v))*r*dx\n",
    "\n",
    "    # based on paper's definition of residual and stabilization term\n",
    "    Lt = -mu*div(grad(u)) + dot(velocity, grad(u)) + (sigma+1.0/dt)*u \n",
    "    ft = u_n/dt + f\n",
    "    r = ft - Lt\n",
    "    vnorm = sqrt(dot(velocity, velocity))\n",
    "    F -= dt*(h/(2.0*vnorm))*dot(velocity, grad(v))*r*dx    \n",
    "    \n",
    "    \n",
    "    # Create bilinear and linear forms\n",
    "    a1 = lhs(F)\n",
    "    L = rhs(F)\n",
    "\n",
    "    # Assemble matrices\n",
    "    A1 = assemble(a1)\n",
    "\n",
    "    # Create progress bar\n",
    "    progress = Progress('Time-stepping')\n",
    "    set_log_level(PROGRESS)\n",
    "    \n",
    "    # Outputting files\n",
    "    out_file_uexact = File(folder+\"evolve_u_exact_\"+str(nx)+\".pvd\") \n",
    "    out_file_ubar = File(folder+\"SUPG_u_\"+str(nx)+\".pvd\") \n",
    "    ue = interpolate(u_exact, Q)\n",
    "    \n",
    "    u_.rename('u','u')\n",
    "    \n",
    "    # Save t = 0.0\n",
    "    out_file_uexact << (ue, float(t))\n",
    "    out_file_ubar << (u_, float(t))\n",
    "\n",
    "    while t - T + dt < DOLFIN_EPS:\n",
    "        # Step 1 Solve on Coarse Grid\n",
    "        t += dt\n",
    "        \n",
    "        u_.rename('u','u')\n",
    "        u_exact.rename('u','u')\n",
    "        \n",
    "        u_D.t = t\n",
    "        f.t = t\n",
    "        u_exact.t = t\n",
    "        \n",
    "        b = assemble(L)\n",
    "        bc = DirichletBC(Q, u_D, boundary)\n",
    "        bc.apply(A1)\n",
    "        bc.apply(b)\n",
    "        \n",
    "        solve(A1, u_.vector(), b)\n",
    "        progress.update(t / T)\n",
    "        out_file_uexact << (ue, float(t))\n",
    "        out_file_ubar << (u_, float(t))\n",
    "        \n",
    "        u_n.assign(u_)\n",
    "        \n",
    "    L2, H1 = compute_errors(u_exact, u_, t, mesh)\n",
    "    maxval, minval = compute_extrema(u_, t)\n",
    "    \n",
    "    print(nx,\",\",L2,\",\",H1,\",\",maxval,\",\",minval)"
   ]
  },
  {
   "cell_type": "markdown",
   "metadata": {},
   "source": [
    "SUPG\n",
    "\n",
    "* u_D = u_exact"
   ]
  },
  {
   "cell_type": "markdown",
   "metadata": {
    "scrolled": true
   },
   "source": [
    "dt=0.01\n",
    "T=0.01\n",
    "print(\"nx L2 H1 maxval minval\")\n",
    "for nx in [25, 50, 100, 200, 400]:\n",
    "    evolve_t(nx, dt, T, u_code, f_code, sigma, mu, b)"
   ]
  },
  {
   "cell_type": "markdown",
   "metadata": {},
   "source": [
    "dt=0.01\n",
    "T=0.02\n",
    "for nx in [25, 50, 100,200, 400]:\n",
    "    evolve_t(nx, dt, T, u_code, f_code, sigma, mu, b)"
   ]
  },
  {
   "cell_type": "markdown",
   "metadata": {
    "scrolled": true
   },
   "source": [
    "dt = 0.01\n",
    "T = 0.5\n",
    "for nx in [25, 50, 100,200, 400]:\n",
    "    evolve_t(nx, dt, T, u_code, f_code, sigma, mu, b)"
   ]
  },
  {
   "cell_type": "markdown",
   "metadata": {},
   "source": [
    "* let u_D = 0.0: made no difference in the errors\n",
    "\n",
    "* using different stabilization code:\n",
    "\n",
    "    r = u - u_n + dt*(- mu*div(grad(u)) + dot(velocity, grad(u)) + sigma*u - f)\n",
    "    \n",
    "    vnorm = sqrt(dot(velocity, velocity))\n",
    "    \n",
    "    F += (h/(2.0*vnorm))*dot(velocity, grad(v))*r*dx\n"
   ]
  },
  {
   "cell_type": "markdown",
   "metadata": {},
   "source": [
    "dt=0.01\n",
    "T=0.01\n",
    "print(\"nx L2 H1 maxval minval\")\n",
    "for nx in [25, 50, 100, 200, 400]:\n",
    "    evolve_t(nx, dt, T, u_code, f_code, sigma, mu, b)"
   ]
  },
  {
   "cell_type": "markdown",
   "metadata": {},
   "source": [
    "* let u_D = 0.0\n",
    "dt = 0.01\n",
    "T = 0.5\n",
    "for nx in [25, 50, 100,200, 400]:\n",
    "    evolve_t(nx, dt, T, u_code, f_code, sigma, mu, b)"
   ]
  },
  {
   "cell_type": "markdown",
   "metadata": {},
   "source": [
    "* putting in F-= new terms instead of F+= new terms"
   ]
  },
  {
   "cell_type": "markdown",
   "metadata": {
    "scrolled": true
   },
   "source": [
    "dt=0.01\n",
    "T=0.01\n",
    "print(\"nx L2 H1 maxval minval\")\n",
    "for nx in [25, 50, 100, 200, 400]:\n",
    "    evolve_t(nx, dt, T, u_code, f_code, sigma, mu, b)"
   ]
  },
  {
   "cell_type": "markdown",
   "metadata": {},
   "source": [
    "dt=0.01\n",
    "T=0.5\n",
    "print(\"nx L2 H1 maxval minval\")\n",
    "for nx in [25, 50, 100, 200, 400]:\n",
    "    evolve_t(nx, dt, T, u_code, f_code, sigma, mu, b)"
   ]
  },
  {
   "cell_type": "markdown",
   "metadata": {},
   "source": [
    "* multiplying dt to stabilization term!\n",
    "* results below use corrected code"
   ]
  },
  {
   "cell_type": "markdown",
   "metadata": {},
   "source": [
    "dt=0.01\n",
    "T=0.01\n",
    "print(\"nx L2 H1 maxval minval\")\n",
    "for nx in [25, 50, 100, 200, 400]:\n",
    "    evolve_t(nx, dt, T, u_code, f_code, sigma, mu, b)"
   ]
  },
  {
   "cell_type": "code",
   "execution_count": 3,
   "metadata": {},
   "outputs": [
    {
     "name": "stdout",
     "output_type": "stream",
     "text": [
      "nx L2 H1 maxval minval\n",
      "25 , 0.232984120591 , 16.6556011456 , 1.7299274489 , -1.17316411806\n",
      "50 , 0.126601933786 , 11.9688731645 , 1.35308931215 , -0.526353278572\n",
      "100 , 0.0230433899242 , 5.41872672781 , 1.052312783 , -0.12932188261\n",
      "200 , 0.00453067404374 , 1.82727204769 , 0.991659653537 , -0.0218717263776\n",
      "400 , 0.00214800409935 , 0.287680072835 , 0.98897505186 , -0.00457022855774\n"
     ]
    }
   ],
   "source": [
    "dt=0.01\n",
    "T=0.5\n",
    "print(\"nx L2 H1 maxval minval\")\n",
    "for nx in [25, 50, 100, 200, 400]:\n",
    "    evolve_t(nx, dt, T, u_code, f_code, sigma, mu, b)"
   ]
  },
  {
   "cell_type": "code",
   "execution_count": null,
   "metadata": {},
   "outputs": [],
   "source": []
  }
 ],
 "metadata": {
  "kernelspec": {
   "display_name": "Python 2",
   "language": "python",
   "name": "python2"
  },
  "language_info": {
   "codemirror_mode": {
    "name": "ipython",
    "version": 2
   },
   "file_extension": ".py",
   "mimetype": "text/x-python",
   "name": "python",
   "nbconvert_exporter": "python",
   "pygments_lexer": "ipython2",
   "version": "2.7.14"
  }
 },
 "nbformat": 4,
 "nbformat_minor": 2
}
