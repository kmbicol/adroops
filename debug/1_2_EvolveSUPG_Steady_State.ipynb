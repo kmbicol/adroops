{
 "cells": [
  {
   "cell_type": "markdown",
   "metadata": {},
   "source": [
    "# 1. Evolve with SUPG, steady state. "
   ]
  },
  {
   "cell_type": "markdown",
   "metadata": {},
   "source": [
    "## Exact Solution (Iliescu Ex. 4.1)\n",
    "For each step choose an exact solution and compute the solution for for all the refinement levels. Make sure that there is at least one refinement level on which the standard Galerkin does not show oscillations.\n",
    "\n"
   ]
  },
  {
   "cell_type": "code",
   "execution_count": 1,
   "metadata": {
    "scrolled": true
   },
   "outputs": [],
   "source": [
    "%matplotlib inline \n",
    "import matplotlib\n",
    "from dolfin import *\n",
    "from __future__ import print_function\n",
    "import numpy as np\n",
    "import math as m\n",
    "import sympy as sym\n",
    "import csv\n",
    "\n",
    "x, y, t = sym.symbols('x[0], x[1], t')\n",
    "sigma = 1.0\n",
    "mu = 10**(-5) \n",
    "b=as_vector([2.0, 3.0])\n",
    "# Exact Solution\n",
    "c = 16.0 #*sym.sin(sym.pi*t)\n",
    "h = x*(1-x)*y*(1-y)\n",
    "g = 2*mu**(-0.5)*(0.25**2 - (x - 0.5)**2 - (y - 0.5)**2 )\n",
    "iliescu = c*h*(0.5+sym.atan(g)/sym.pi)\n",
    "\n",
    "ue = sym.simplify(iliescu)\n",
    "u_code = sym.printing.ccode(ue)\n",
    "u_code = u_code.replace('M_PI','DOLFIN_PI')\n",
    "\n",
    "# du/dt - mu*Laplace(u) + div(bu) + sigma*u = f\n",
    "fe = 0 #sym.diff(ue,t) Remove time dependence for now\n",
    "fe += - mu*(sym.diff(sym.diff(ue,x),x) + sym.diff(sym.diff(ue,y),y))\n",
    "fe += b[0]*sym.diff(ue,x) + b[1]*sym.diff(ue,y)\n",
    "fe += sigma*ue\n",
    "\n",
    "f_code = sym.printing.ccode(fe)\n",
    "f_code = f_code.replace('M_PI','DOLFIN_PI')\n"
   ]
  },
  {
   "cell_type": "code",
   "execution_count": 2,
   "metadata": {},
   "outputs": [],
   "source": [
    "def compute_errors(u_e, u, t, mesh):\n",
    "\tL2n = errornorm(u_e, u, norm_type='L2', degree_rise=3, mesh=mesh)\n",
    "\tH1n = errornorm(u_e, u, norm_type='H1', degree_rise=3, mesh=mesh)\n",
    "\treturn L2n, H1n\n",
    "\n",
    "def compute_extrema(u, t):\n",
    "    maxval = np.amax(u.vector().get_local())\n",
    "    minval = np.amin(u.vector().get_local())\n",
    "    return maxval, minval"
   ]
  },
  {
   "cell_type": "code",
   "execution_count": 3,
   "metadata": {},
   "outputs": [],
   "source": [
    "def evolveSUPG(nx, u_code, f_code, sigma, mu, velocity):\n",
    "    degree = 2\n",
    "\n",
    "    u_exact = Expression(u_code, degree = degree)\n",
    "    \n",
    "    f = Expression(f_code, degree = degree)\n",
    "\n",
    "    mesh = UnitSquareMesh(nx,nx)\n",
    "\n",
    "    Q = FunctionSpace(mesh, \"CG\", degree)\n",
    "\n",
    "    # Set up boundary condition\n",
    "    u_D = Expression(u_exact.cppcode, degree = degree)\n",
    "    def boundary(x, on_boundary):\n",
    "        return on_boundary\n",
    "    \n",
    "    bc = DirichletBC(Q, u_D, boundary)\n",
    "\n",
    "    # Test and trial functions\n",
    "    u, v = TrialFunction(Q), TestFunction(Q)\n",
    "    u_n = Function(Q)\n",
    "    u_ = Function(Q)\n",
    "\n",
    "    # Galerkin variational problem\n",
    "    F = mu*dot(grad(v), grad(u))*dx + v*dot(velocity, grad(u))*dx + sigma*v*u*dx - f*v*dx\n",
    "\n",
    "    # SUPG Stabilization terms\n",
    "    h = CellDiameter(mesh)\n",
    "    r = - mu*div(grad(u)) + dot(velocity, grad(u)) + sigma*u - f\n",
    "    vnorm = sqrt(dot(velocity, velocity))\n",
    "    F += (h/(2.0*vnorm))*dot(velocity, grad(v))*r*dx\n",
    "    \n",
    "    # Create bilinear and linear forms\n",
    "    a1 = lhs(F)\n",
    "    L = rhs(F)\n",
    "\n",
    "    # Assemble matrices\n",
    "    A1 = assemble(a1)\n",
    "    bc.apply(A1)\n",
    "\n",
    "    # Create progress bar\n",
    "    progress = Progress('Time-stepping')\n",
    "    set_log_level(PROGRESS)\n",
    "\n",
    "    # Step 1 Solve on Coarse Grid\n",
    "    b = assemble(L)\n",
    "    bc.apply(b)\n",
    "    solve(A1, u_.vector(), b, 'gmres')\n",
    "    \n",
    "    out_file_uexact = File(\"SUPG/ES_steady_u_exact_\"+str(nx)+\".pvd\") \n",
    "    ue = interpolate(u_exact, Q)\n",
    "    out_file_uexact << ue\n",
    "    out_file_ubar = File(\"SUPG/\"+str(mu)+\"ES_steady_u_\"+str(nx)+\".pvd\") \n",
    "    out_file_ubar << u_\n",
    "    \n",
    "    L2, H1 = compute_errors(u_exact, u_, t, mesh)\n",
    "    maxval, minval = compute_extrema(u_, t)\n",
    "    \n",
    "    print(nx,\",\",L2,\",\",H1,\",\",maxval,\",\",minval)"
   ]
  },
  {
   "cell_type": "code",
   "execution_count": 5,
   "metadata": {},
   "outputs": [
    {
     "name": "stdout",
     "output_type": "stream",
     "text": [
      "25 , 0.245968068399 , 17.1895838925 , 1.73328566595 , -1.20885603562\n",
      "50 , 0.133728459777 , 12.3432897754 , 1.36169871202 , -0.527724650346\n",
      "100 , 0.0237896053524 , 5.54948066129 , 1.05746493627 , -0.127895091942\n",
      "200 , 0.00410059233595 , 1.85798927312 , 0.994636709422 , -0.0187391834509\n",
      "400 , 0.000160612398628 , 0.282522994955 , 0.991952997451 , -0.000362749212657\n"
     ]
    }
   ],
   "source": [
    "for nx in [25, 50, 100, 200, 400]:\n",
    "    evolveSUPG(nx, u_code, f_code, sigma, mu, b)"
   ]
  },
  {
   "cell_type": "code",
   "execution_count": null,
   "metadata": {},
   "outputs": [],
   "source": []
  }
 ],
 "metadata": {
  "kernelspec": {
   "display_name": "Python 2",
   "language": "python",
   "name": "python2"
  },
  "language_info": {
   "codemirror_mode": {
    "name": "ipython",
    "version": 2
   },
   "file_extension": ".py",
   "mimetype": "text/x-python",
   "name": "python",
   "nbconvert_exporter": "python",
   "pygments_lexer": "ipython2",
   "version": "2.7.14"
  }
 },
 "nbformat": 4,
 "nbformat_minor": 2
}
