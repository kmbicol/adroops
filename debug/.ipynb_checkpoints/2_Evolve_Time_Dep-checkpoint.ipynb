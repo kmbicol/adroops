{
 "cells": [
  {
   "cell_type": "markdown",
   "metadata": {},
   "source": [
    "# 2. Evolve only, time dependent."
   ]
  },
  {
   "cell_type": "markdown",
   "metadata": {},
   "source": [
    "## To do:\n",
    "* change into time dependent code\n",
    " * test for time independent solution\n",
    " * then test for time dependent solution"
   ]
  },
  {
   "cell_type": "code",
   "execution_count": 5,
   "metadata": {
    "scrolled": true
   },
   "outputs": [],
   "source": [
    "%matplotlib inline \n",
    "import matplotlib\n",
    "from dolfin import *\n",
    "from __future__ import print_function\n",
    "import math as m\n",
    "import sympy as sym\n",
    "import csv\n",
    "\n",
    "x, y, t = sym.symbols('x[0], x[1], t')\n",
    "sigma = 1.0\n",
    "mu = 10**(-5) \n",
    "b=as_vector([2.0, 3.0])\n",
    "# Exact Solution\n",
    "c = 16.0 #*sym.sin(sym.pi*t)\n",
    "h = x*(1-x)*y*(1-y)\n",
    "g = 2*mu**(-0.5)*(0.25**2 - (x - 0.5)**2 - (y - 0.5)**2 )\n",
    "iliescu = c*h*(0.5+sym.atan(g)/sym.pi)\n",
    "\n",
    "ue = sym.simplify(iliescu)\n",
    "u_code = sym.printing.ccode(ue)\n",
    "u_code = u_code.replace('M_PI','DOLFIN_PI')\n",
    "\n",
    "# du/dt - mu*Laplace(u) + div(bu) + sigma*u = f\n",
    "fe = 0 #sym.diff(ue,t) Remove time dependence for now\n",
    "fe += sym.diff(ue,t) - mu*(sym.diff(sym.diff(ue,x),x) + sym.diff(sym.diff(ue,y),y))\n",
    "fe += b[0]*sym.diff(ue,x) + b[1]*sym.diff(ue,y)\n",
    "fe += sigma*ue\n",
    "\n",
    "f_code = sym.printing.ccode(fe)\n",
    "f_code = f_code.replace('M_PI','DOLFIN_PI')\n",
    "\n",
    "# print('u_code = ' + u_code + '\\n')\n",
    "# print('f_code = ' + f_code)\n",
    "\n",
    "def compute_errors(u_e, u, t, mesh):\n",
    "\tL2n = errornorm(u_e, u, norm_type='L2', degree_rise=3, mesh=mesh)\n",
    "\tH1n = errornorm(u_e, u, norm_type='H1', degree_rise=3, mesh=mesh)\n",
    "\terrors = {'L2 norm': L2n, 'H1 norm': H1n}\n",
    "\treturn 'L2, ' + str(L2n) +', H1, '+ str(H1n) +', t, '+ str(t) +'\\n'"
   ]
  },
  {
   "cell_type": "code",
   "execution_count": 6,
   "metadata": {},
   "outputs": [],
   "source": [
    "def evolve_t(nx, u_code, f_code, sigma, mu, velocity):\n",
    "    degree = 2\n",
    "\n",
    "    u_exact = Expression(u_code, degree = degree)\n",
    "    f = Expression(f_code, degree = degree)\n",
    "\n",
    "    mesh = UnitSquareMesh(nx,nx)\n",
    "    Q = FunctionSpace(mesh, \"CG\", degree)\n",
    "\n",
    "    # Set up boundary condition\n",
    "    u_D = Expression(u_exact.cppcode, degree = degree)\n",
    "    def boundary(x, on_boundary):\n",
    "        return on_boundary\n",
    "    \n",
    "    bc = DirichletBC(Q, u_D, boundary)\n",
    "\n",
    "    # Test and trial functions\n",
    "    u, v = TrialFunction(Q), TestFunction(Q)\n",
    "    u_n = Function(Q)\n",
    "    u_ = Function(Q)\n",
    "\n",
    "    # Galerkin variational problem\n",
    "    F = (u - u_n)*v*dx\n",
    "    F += dt*(mu*dot(grad(v), grad(u))*dx + v*dot(velocity, grad(u))*dx + sigma*v*u*dx - f*v*dx)\n",
    "\n",
    "    # Create bilinear and linear forms\n",
    "    a1 = lhs(F)\n",
    "    L = rhs(F)\n",
    "\n",
    "    # Assemble matrices\n",
    "    A1 = assemble(a1)\n",
    "    bc.apply(A1)\n",
    "\n",
    "    # Create progress bar\n",
    "    progress = Progress('Time-stepping')\n",
    "    set_log_level(PROGRESS)\n",
    "\n",
    "    while t - T < DOLFIN_EPS:\n",
    "        # Step 1 Solve on Coarse Grid\n",
    "        b = assemble(L)\n",
    "        bc.apply(b)\n",
    "        solve(A1, u_.vector(), b, 'gmres')\n",
    "    \n",
    "    errors = compute_errors(u_exact, u_, 0, mesh)\n",
    "    print(errors)\n",
    "    \n",
    "    out_file_uexact = File(\"results/evolve_t_u_exact_\"+str(nx)+\".pvd\") \n",
    "    ue = interpolate(u_exact, Q)\n",
    "    out_file_uexact << ue\n",
    "    out_file_ubar = File(\"results/\"+str(mu)+\"evolve_t_u_\"+str(nx)+\".pvd\") \n",
    "    out_file_ubar << u_"
   ]
  },
  {
   "cell_type": "code",
   "execution_count": null,
   "metadata": {},
   "outputs": [],
   "source": [
    "for nx in [25, 50, 100, 200, 400, 800]:\n",
    "    print('nx = '+str(nx))\n",
    "    evolve(nx, u_code, f_code, sigma, mu, b)"
   ]
  },
  {
   "cell_type": "markdown",
   "metadata": {},
   "source": [
    "## Exact Solution\n",
    "* c = 16.0 #*sym.sin(sym.pi*t)\n",
    "* h = x*(1-x)*y*(1-y)\n",
    "* g = 2*mu**(-0.5)*(0.25**2 - (x - 0.5)**2 - (y - 0.5)**2 )\n",
    " * iliescu = c*h*(0.5+sym.atan(g)/sym.pi)\n",
    "\n",
    "nx = [25, 50, 100, 200, 400, 800];\n",
    "\n",
    "\n",
    "## Problem Parameters\n",
    "* sigma = 1.0\n",
    "* b=as_vector([2.0, 3.0])\n",
    "* mu = 10**(-5)\n",
    "\n",
    "### Case: no time dependence solution"
   ]
  },
  {
   "cell_type": "code",
   "execution_count": null,
   "metadata": {},
   "outputs": [],
   "source": []
  }
 ],
 "metadata": {
  "kernelspec": {
   "display_name": "Python 2",
   "language": "python",
   "name": "python2"
  },
  "language_info": {
   "codemirror_mode": {
    "name": "ipython",
    "version": 2
   },
   "file_extension": ".py",
   "mimetype": "text/x-python",
   "name": "python",
   "nbconvert_exporter": "python",
   "pygments_lexer": "ipython2",
   "version": "2.7.14"
  }
 },
 "nbformat": 4,
 "nbformat_minor": 2
}
