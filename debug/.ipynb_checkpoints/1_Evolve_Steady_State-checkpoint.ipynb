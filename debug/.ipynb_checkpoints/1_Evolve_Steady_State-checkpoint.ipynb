{
 "cells": [
  {
   "cell_type": "markdown",
   "metadata": {},
   "source": [
    "# 1. Evolve only, steady state. \n",
    "** task completed and submitted 4/11/18, 6:54pm**\n",
    "\n",
    "The exact solution can be the Iliescu solution replacing sin(\\pi t) with 1. As I told you earlier, if even on the finest mesh the Galerkin solution displays oscillation, increase the viscosity. On the coarser meshes we have to see oscillations. The exact solution can also be another function of your choice, as long as Pe >>1. The convergence plot you get from this point MUST match the convergence plot for the Galerkin method with no stabilization."
   ]
  },
  {
   "cell_type": "markdown",
   "metadata": {},
   "source": [
    "## Exact Solution (Iliescu Ex. 4.1)\n",
    "For each step choose an exact solution and compute the solution for for all the refinement levels. Make sure that there is at least one refinement level on which the standard Galerkin does not show oscillations.\n",
    "\n"
   ]
  },
  {
   "cell_type": "code",
   "execution_count": 1,
   "metadata": {
    "scrolled": true
   },
   "outputs": [
    {
     "name": "stdout",
     "output_type": "stream",
     "text": [
      "u_code = -16.0*x[0]*x[1]*(x[0] - 1)*(x[1] - 1)*(atan(632.455532033676*pow(x[0] - 0.5, 2) + 632.455532033676*pow(x[1] - 0.5, 2) - 39.5284707521047) - 0.5*DOLFIN_PI)/DOLFIN_PI\n",
      "\n",
      "f_code = -0.00016*x[0]*x[1]*(x[0] - 1)*(1264.91106406735*x[0] - 632.455532033676)*(2529.8221281347*x[0] - 1264.91106406735)*(x[1] - 1)*(632.455532033676*pow(x[0] - 0.5, 2) + 632.455532033676*pow(x[1] - 0.5, 2) - 39.5284707521047)/(DOLFIN_PI*pow(pow(632.455532033676*pow(x[0] - 0.5, 2) + 632.455532033676*pow(x[1] - 0.5, 2) - 39.5284707521047, 2) + 1, 2)) - 32.0*x[0]*x[1]*(x[0] - 1)*(1264.91106406735*x[0] - 632.455532033676)*(x[1] - 1)/(DOLFIN_PI*(pow(632.455532033676*pow(x[0] - 0.5, 2) + 632.455532033676*pow(x[1] - 0.5, 2) - 39.5284707521047, 2) + 1)) - 0.00016*x[0]*x[1]*(x[0] - 1)*(x[1] - 1)*(1264.91106406735*x[1] - 632.455532033676)*(2529.8221281347*x[1] - 1264.91106406735)*(632.455532033676*pow(x[0] - 0.5, 2) + 632.455532033676*pow(x[1] - 0.5, 2) - 39.5284707521047)/(DOLFIN_PI*pow(pow(632.455532033676*pow(x[0] - 0.5, 2) + 632.455532033676*pow(x[1] - 0.5, 2) - 39.5284707521047, 2) + 1, 2)) - 48.0*x[0]*x[1]*(x[0] - 1)*(x[1] - 1)*(1264.91106406735*x[1] - 632.455532033676)/(DOLFIN_PI*(pow(632.455532033676*pow(x[0] - 0.5, 2) + 632.455532033676*pow(x[1] - 0.5, 2) - 39.5284707521047, 2) + 1)) - 16.0*x[0]*x[1]*(x[0] - 1)*(x[1] - 1)*(atan(632.455532033676*pow(x[0] - 0.5, 2) + 632.455532033676*pow(x[1] - 0.5, 2) - 39.5284707521047) - 0.5*DOLFIN_PI)/DOLFIN_PI + 0.404771540501553*x[0]*x[1]*(x[0] - 1)*(x[1] - 1)/(DOLFIN_PI*(pow(632.455532033676*pow(x[0] - 0.5, 2) + 632.455532033676*pow(x[1] - 0.5, 2) - 39.5284707521047, 2) + 1)) + 0.00032*x[0]*x[1]*(x[0] - 1)*(1264.91106406735*x[1] - 632.455532033676)/(DOLFIN_PI*(pow(632.455532033676*pow(x[0] - 0.5, 2) + 632.455532033676*pow(x[1] - 0.5, 2) - 39.5284707521047, 2) + 1)) - 48.0*x[0]*x[1]*(x[0] - 1)*(atan(632.455532033676*pow(x[0] - 0.5, 2) + 632.455532033676*pow(x[1] - 0.5, 2) - 39.5284707521047) - 0.5*DOLFIN_PI)/DOLFIN_PI + 0.00032*x[0]*x[1]*(1264.91106406735*x[0] - 632.455532033676)*(x[1] - 1)/(DOLFIN_PI*(pow(632.455532033676*pow(x[0] - 0.5, 2) + 632.455532033676*pow(x[1] - 0.5, 2) - 39.5284707521047, 2) + 1)) - 32.0*x[0]*x[1]*(x[1] - 1)*(atan(632.455532033676*pow(x[0] - 0.5, 2) + 632.455532033676*pow(x[1] - 0.5, 2) - 39.5284707521047) - 0.5*DOLFIN_PI)/DOLFIN_PI + 0.00032*x[0]*(x[0] - 1)*(x[1] - 1)*(1264.91106406735*x[1] - 632.455532033676)/(DOLFIN_PI*(pow(632.455532033676*pow(x[0] - 0.5, 2) + 632.455532033676*pow(x[1] - 0.5, 2) - 39.5284707521047, 2) + 1)) - 48.0*x[0]*(x[0] - 1)*(x[1] - 1)*(atan(632.455532033676*pow(x[0] - 0.5, 2) + 632.455532033676*pow(x[1] - 0.5, 2) - 39.5284707521047) - 0.5*DOLFIN_PI)/DOLFIN_PI + 0.00032*x[0]*(x[0] - 1)*(atan(632.455532033676*pow(x[0] - 0.5, 2) + 632.455532033676*pow(x[1] - 0.5, 2) - 39.5284707521047) - 0.5*DOLFIN_PI)/DOLFIN_PI + 0.00032*x[1]*(x[0] - 1)*(1264.91106406735*x[0] - 632.455532033676)*(x[1] - 1)/(DOLFIN_PI*(pow(632.455532033676*pow(x[0] - 0.5, 2) + 632.455532033676*pow(x[1] - 0.5, 2) - 39.5284707521047, 2) + 1)) - 32.0*x[1]*(x[0] - 1)*(x[1] - 1)*(atan(632.455532033676*pow(x[0] - 0.5, 2) + 632.455532033676*pow(x[1] - 0.5, 2) - 39.5284707521047) - 0.5*DOLFIN_PI)/DOLFIN_PI + 0.00032*x[1]*(x[1] - 1)*(atan(632.455532033676*pow(x[0] - 0.5, 2) + 632.455532033676*pow(x[1] - 0.5, 2) - 39.5284707521047) - 0.5*DOLFIN_PI)/DOLFIN_PI\n"
     ]
    }
   ],
   "source": [
    "%matplotlib inline \n",
    "import matplotlib\n",
    "from dolfin import *\n",
    "from __future__ import print_function\n",
    "import math as m\n",
    "import sympy as sym\n",
    "import csv\n",
    "\n",
    "x, y, t = sym.symbols('x[0], x[1], t')\n",
    "sigma = 1.0\n",
    "mu = 10**(-5) \n",
    "b=as_vector([2.0, 3.0])\n",
    "# Exact Solution\n",
    "c = 16.0 #*sym.sin(sym.pi*t)\n",
    "h = x*(1-x)*y*(1-y)\n",
    "g = 2*mu**(-0.5)*(0.25**2 - (x - 0.5)**2 - (y - 0.5)**2 )\n",
    "iliescu = c*h*(0.5+sym.atan(g)/sym.pi)\n",
    "\n",
    "ue = sym.simplify(iliescu)\n",
    "u_code = sym.printing.ccode(ue)\n",
    "u_code = u_code.replace('M_PI','DOLFIN_PI')\n",
    "\n",
    "# du/dt - mu*Laplace(u) + div(bu) + sigma*u = f\n",
    "fe = 0 #sym.diff(ue,t) Remove time dependence for now\n",
    "fe += - mu*(sym.diff(sym.diff(ue,x),x) + sym.diff(sym.diff(ue,y),y))\n",
    "fe += b[0]*sym.diff(ue,x) + b[1]*sym.diff(ue,y)\n",
    "fe += sigma*ue\n",
    "\n",
    "f_code = sym.printing.ccode(fe)\n",
    "f_code = f_code.replace('M_PI','DOLFIN_PI')\n",
    "\n",
    "print('u_code = ' + u_code + '\\n')\n",
    "print('f_code = ' + f_code)"
   ]
  },
  {
   "cell_type": "code",
   "execution_count": 2,
   "metadata": {},
   "outputs": [],
   "source": [
    "# %load main-EFR.py\n",
    "\n",
    "def compute_errors(u_e, u, t, mesh):\n",
    "\tL2n = errornorm(u_e, u, norm_type='L2', degree_rise=3, mesh=mesh)\n",
    "\tH1n = errornorm(u_e, u, norm_type='H1', degree_rise=3, mesh=mesh)\n",
    "\terrors = {'L2 norm': L2n, 'H1 norm': H1n}\n",
    "\treturn 'L2, ' + str(L2n) +', H1, '+ str(H1n) +', t, '+ str(t) +'\\n'"
   ]
  },
  {
   "cell_type": "code",
   "execution_count": 5,
   "metadata": {},
   "outputs": [],
   "source": [
    "def evolve(nx, u_code, f_code, sigma, mu, velocity):\n",
    "    degree = 2\n",
    "\n",
    "    u_exact = Expression(u_code, degree = degree)\n",
    "    \n",
    "    f = Expression(f_code, degree = degree)\n",
    "\n",
    "    mesh = UnitSquareMesh(nx,nx)\n",
    "\n",
    "    Q = FunctionSpace(mesh, \"CG\", degree)\n",
    "\n",
    "    # Set up boundary condition\n",
    "    u_D = Expression(u_exact.cppcode, degree = degree)\n",
    "    def boundary(x, on_boundary):\n",
    "        return on_boundary\n",
    "    \n",
    "    bc = DirichletBC(Q, u_D, boundary)\n",
    "\n",
    "    # Test and trial functions\n",
    "    u, v = TrialFunction(Q), TestFunction(Q)\n",
    "    u_n = Function(Q)\n",
    "    u_ = Function(Q)\n",
    "\n",
    "    # Galerkin variational problem\n",
    "    F = mu*dot(grad(v), grad(u))*dx + v*dot(velocity, grad(u))*dx + sigma*v*u*dx - f*v*dx\n",
    "\n",
    "    # Create bilinear and linear forms\n",
    "    a1 = lhs(F)\n",
    "    L = rhs(F)\n",
    "\n",
    "    # Assemble matrices\n",
    "    A1 = assemble(a1)\n",
    "    bc.apply(A1)\n",
    "\n",
    "    # Create progress bar\n",
    "    progress = Progress('Time-stepping')\n",
    "    set_log_level(PROGRESS)\n",
    "\n",
    "    # Step 1 Solve on Coarse Grid\n",
    "    b = assemble(L)\n",
    "    bc.apply(b)\n",
    "    solve(A1, u_.vector(), b, 'gmres')\n",
    "    \n",
    "    errors = compute_errors(u_exact, u_, 0, mesh)\n",
    "    print(errors)\n",
    "    \n",
    "    out_file_uexact = File(\"results/evolve_steady_u_exact_\"+str(nx)+\".pvd\") \n",
    "    ue = interpolate(u_exact, Q)\n",
    "    out_file_uexact << ue\n",
    "    out_file_ubar = File(\"results/\"+str(mu)+\"evolve_steady_u_\"+str(nx)+\".pvd\") \n",
    "    out_file_ubar << u_"
   ]
  },
  {
   "cell_type": "code",
   "execution_count": null,
   "metadata": {},
   "outputs": [],
   "source": [
    "for nx in [25, 50, 100, 200, 400, 800]:\n",
    "    print('nx = '+str(nx))\n",
    "    evolve(nx, u_code, f_code, sigma, mu, b)"
   ]
  },
  {
   "cell_type": "markdown",
   "metadata": {},
   "source": [
    "## Exact Solution\n",
    "* c = 16.0 #*sym.sin(sym.pi*t)\n",
    "* h = x*(1-x)*y*(1-y)\n",
    "* g = 2*mu**(-0.5)*(0.25**2 - (x - 0.5)**2 - (y - 0.5)**2 )\n",
    " * iliescu = c*h*(0.5+sym.atan(g)/sym.pi)\n",
    "\n",
    "nx = [25, 50, 100, 200, 400, 800];\n",
    "\n",
    "\n",
    "## Problem Parameters\n",
    "* sigma = 1.0\n",
    "* b=as_vector([2.0, 3.0])\n",
    "\n",
    "### Case: mu = 10**(-3)\n",
    "\n",
    "L2 = [0.00247460360646, 0.000178438487313, 2.73358212482e-05, 3.41629105533e-06, 6.94074779253e-07, 3.6014931185e-07];\n",
    "\n",
    "H1 = [0.306905633863, 0.0721749666942,  0.0219256336243, 0.00485695915782, 0.00092161831575, 0.000215529295391];\n",
    "\n",
    "Notes:\n",
    "* For nx=800 to work, I needed to add 'gmres' to solver options.\n",
    "* mu = 10**(-3) doesn't produce oscillations in solution from coarse to fine so need to make it smaller.\n",
    "\n",
    "### Case: mu = 10**(-4)\n",
    "\n",
    "L2 = [0.060268960767,0.0140569542371,0.00081169760276,5.74359580515e-05,1.06868210769e-05,1.6475746086e-06];\n",
    "\n",
    "H1 = [8.20787143056,2.98967945006,0.381021312301,0.0973251772743,0.0343154282121,0.00923974756737];\n",
    "\n",
    "Notes:\n",
    "* Oscillations appear in nx = 25, 50, 100.\n",
    "\n",
    "\n",
    "### Case: mu = 10**(-5)\n",
    "\n",
    "L2 = [0.575963540234,0.263090765967,0.041851765649, 0.00554563623359,0.000221173750748,2.0995474916e-05];\n",
    "\n",
    "H1 = [77.7640877026,66.3351391124,21.2045691927,4.4654137941,0.47857066332,0.142515173974];\n",
    "\n",
    "Notes:\n",
    "* Oscillations appear more dramatically compared to 10**(-4) case. They appear up to nx = 200. By nx = 800, oscillations disappear.\n"
   ]
  },
  {
   "cell_type": "code",
   "execution_count": null,
   "metadata": {},
   "outputs": [],
   "source": []
  }
 ],
 "metadata": {
  "kernelspec": {
   "display_name": "Python 2",
   "language": "python",
   "name": "python2"
  },
  "language_info": {
   "codemirror_mode": {
    "name": "ipython",
    "version": 2
   },
   "file_extension": ".py",
   "mimetype": "text/x-python",
   "name": "python",
   "nbconvert_exporter": "python",
   "pygments_lexer": "ipython2",
   "version": "2.7.14"
  }
 },
 "nbformat": 4,
 "nbformat_minor": 2
}
