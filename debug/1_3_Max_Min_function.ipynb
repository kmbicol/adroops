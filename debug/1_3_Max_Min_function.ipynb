{
 "cells": [
  {
   "cell_type": "markdown",
   "metadata": {},
   "source": [
    "# 1. Evolve only, steady state. "
   ]
  },
  {
   "cell_type": "code",
   "execution_count": 1,
   "metadata": {
    "scrolled": true
   },
   "outputs": [],
   "source": [
    "%matplotlib inline \n",
    "import matplotlib\n",
    "from dolfin import *\n",
    "from __future__ import print_function\n",
    "import numpy as np\n",
    "import sympy as sym\n",
    "import csv\n",
    "\n",
    "x, y, t = sym.symbols('x[0], x[1], t')\n",
    "sigma = 1.0\n",
    "mu = 10**(-5) \n",
    "b=as_vector([2.0, 3.0])\n",
    "# Exact Solution\n",
    "c = -16.0 #*sym.sin(sym.pi*t)\n",
    "h = x*(1-x)*y*(1-y)\n",
    "g = 2*mu**(-0.5)*(0.25**2 - (x - 0.5)**2 - (y - 0.5)**2 )\n",
    "iliescu = c*h*(0.5+sym.atan(g)/sym.pi)\n",
    "\n",
    "ue = sym.simplify(iliescu)\n",
    "u_code = sym.printing.ccode(ue)\n",
    "u_code = u_code.replace('M_PI','DOLFIN_PI')\n",
    "\n",
    "# du/dt - mu*Laplace(u) + div(bu) + sigma*u = f\n",
    "fe = 0 #sym.diff(ue,t) Remove time dependence for now\n",
    "fe += - mu*(sym.diff(sym.diff(ue,x),x) + sym.diff(sym.diff(ue,y),y))\n",
    "fe += b[0]*sym.diff(ue,x) + b[1]*sym.diff(ue,y)\n",
    "fe += sigma*ue\n",
    "\n",
    "f_code = sym.printing.ccode(fe)\n",
    "f_code = f_code.replace('M_PI','DOLFIN_PI')\n"
   ]
  },
  {
   "cell_type": "code",
   "execution_count": 23,
   "metadata": {},
   "outputs": [],
   "source": [
    "# %load main-EFR.py\n",
    "\n",
    "def compute_errors(u_e, u, t, mesh):\n",
    "\tL2n = errornorm(u_e, u, norm_type='L2', degree_rise=3, mesh=mesh)\n",
    "\tH1n = errornorm(u_e, u, norm_type='H1', degree_rise=3, mesh=mesh)\n",
    "\terrors = {'L2 norm': L2n, 'H1 norm': H1n}\n",
    "\treturn 'L2, ' + str(L2n) +', H1, '+ str(H1n) +', t, '+ str(t) +'\\n'\n",
    "\n",
    "def compute_extrema(u):\n",
    "    print(\"max = \" + str(np.amax(u.vector().get_local())))\n",
    "    print(\"min = \" + str(np.amin(u.vector().get_local())))"
   ]
  },
  {
   "cell_type": "code",
   "execution_count": 3,
   "metadata": {},
   "outputs": [],
   "source": [
    "def evolve(nx, u_code, f_code, sigma, mu, velocity):\n",
    "    degree = 2\n",
    "\n",
    "    u_exact = Expression(u_code, degree = degree)\n",
    "    \n",
    "    f = Expression(f_code, degree = degree)\n",
    "\n",
    "    mesh = UnitSquareMesh(nx,nx)\n",
    "\n",
    "    Q = FunctionSpace(mesh, \"CG\", degree)\n",
    "\n",
    "    # Set up boundary condition\n",
    "    u_D = Expression(u_exact.cppcode, degree = degree)\n",
    "    def boundary(x, on_boundary):\n",
    "        return on_boundary\n",
    "    \n",
    "    bc = DirichletBC(Q, u_D, boundary)\n",
    "\n",
    "    # Test and trial functions\n",
    "    u, v = TrialFunction(Q), TestFunction(Q)\n",
    "    u_n = Function(Q)\n",
    "    u_ = Function(Q)\n",
    "\n",
    "    # Galerkin variational problem\n",
    "    F = mu*dot(grad(v), grad(u))*dx + v*dot(velocity, grad(u))*dx + sigma*v*u*dx - f*v*dx\n",
    "\n",
    "    # Create bilinear and linear forms\n",
    "    a1 = lhs(F)\n",
    "    L = rhs(F)\n",
    "\n",
    "    # Assemble matrices\n",
    "    A1 = assemble(a1)\n",
    "    bc.apply(A1)\n",
    "\n",
    "    # Create progress bar\n",
    "    progress = Progress('Time-stepping')\n",
    "    set_log_level(PROGRESS)\n",
    "\n",
    "    # Step 1 Solve on Coarse Grid\n",
    "    b = assemble(L)\n",
    "    bc.apply(b)\n",
    "    solve(A1, u_.vector(), b, 'gmres')\n",
    "    \n",
    "    errors = compute_errors(u_exact, u_, 0, mesh)\n",
    "    print(errors)\n",
    "    \n",
    "    out_file_uexact = File(\"results/evolve_steady_u_exact_\"+str(nx)+\".pvd\") \n",
    "    ue = interpolate(u_exact, Q)\n",
    "    out_file_uexact << ue\n",
    "    out_file_ubar = File(\"results/\"+str(mu)+\"evolve_steady_u_\"+str(nx)+\".pvd\") \n",
    "    out_file_ubar << u_\n",
    "    \n",
    "    return u_"
   ]
  },
  {
   "cell_type": "markdown",
   "metadata": {},
   "source": [
    "for nx in [25, 50, 100, 200, 400, 800]:\n",
    "    print('nx = '+str(nx))\n",
    "    evolve(nx, u_code, f_code, sigma, mu, b)"
   ]
  },
  {
   "cell_type": "code",
   "execution_count": 5,
   "metadata": {},
   "outputs": [
    {
     "data": {
      "text/plain": [
       "-3.3370421946767843"
      ]
     },
     "execution_count": 5,
     "metadata": {},
     "output_type": "execute_result"
    }
   ],
   "source": [
    "np.amin(u_25.vector().get_local())"
   ]
  },
  {
   "cell_type": "code",
   "execution_count": 6,
   "metadata": {},
   "outputs": [
    {
     "data": {
      "text/plain": [
       "-0.99200903871018864"
      ]
     },
     "execution_count": 6,
     "metadata": {},
     "output_type": "execute_result"
    }
   ],
   "source": [
    "np.amin(u_400.vector().get_local())"
   ]
  },
  {
   "cell_type": "code",
   "execution_count": 7,
   "metadata": {},
   "outputs": [
    {
     "name": "stdout",
     "output_type": "stream",
     "text": [
      "Help on GenericVector in module dolfin.cpp.la object:\n",
      "\n",
      "class GenericVector(GenericTensor)\n",
      " |  Dummy docstring. Reason: Missing doxygen\n",
      " |  \n",
      " |  Method resolution order:\n",
      " |      GenericVector\n",
      " |      GenericTensor\n",
      " |      LinearAlgebraObject\n",
      " |      dolfin.cpp.common.Variable\n",
      " |      __builtin__.object\n",
      " |  \n",
      " |  Methods defined here:\n",
      " |  \n",
      " |  __add__(self, other)\n",
      " |      x.__add__(y) <==> x+y\n",
      " |  \n",
      " |  __contains__(self, value)\n",
      " |  \n",
      " |  __delitem__(self, i)\n",
      " |  \n",
      " |  __delslice__(self, i, j)\n",
      " |  \n",
      " |  __div__ = __truediv__(self, other)\n",
      " |  \n",
      " |  __eq__(self, value)\n",
      " |  \n",
      " |  __ge__(self, value)\n",
      " |  \n",
      " |  __getitem__(self, indices)\n",
      " |      Return values corresponding to the given local indices\n",
      " |  \n",
      " |  __getslice__(self, i, j)\n",
      " |  \n",
      " |  __gt__(self, value)\n",
      " |  \n",
      " |  __iadd__(self, other)\n",
      " |      x.__iadd__(y) <==> x+y\n",
      " |  \n",
      " |  __idiv__ = __itruediv__(self, other)\n",
      " |  \n",
      " |  __imul__(self, other)\n",
      " |      x.__imul__(y) <==> x*y\n",
      " |  \n",
      " |  __init__(self, *args, **kwargs)\n",
      " |  \n",
      " |  __isub__(self, other)\n",
      " |      x.__isub__(y) <==> x-y\n",
      " |  \n",
      " |  __iter__(self)\n",
      " |  \n",
      " |  __itruediv__(self, other)\n",
      " |      x.__itruediv__(y) <==> x/y\n",
      " |  \n",
      " |  __le__(self, value)\n",
      " |  \n",
      " |  __len__(self)\n",
      " |  \n",
      " |  __lt__(self, value)\n",
      " |  \n",
      " |  __mul__(self, other)\n",
      " |      x.__mul__(y) <==> x*y\n",
      " |  \n",
      " |  __neg__(self)\n",
      " |  \n",
      " |  __neq__(self, value)\n",
      " |  \n",
      " |  __radd__(self, other)\n",
      " |      x.__radd__(y) <==> y+x\n",
      " |  \n",
      " |  __rdiv__ = __rtruediv__(self, other)\n",
      " |  \n",
      " |  __repr__ = _swig_repr(self)\n",
      " |  \n",
      " |  __rmul__(self, other)\n",
      " |      x.__rmul__(y) <==> y*x\n",
      " |  \n",
      " |  __rsub__(self, other)\n",
      " |      x.__rsub__(y) <==> y-x\n",
      " |  \n",
      " |  __rtruediv__(self, other)\n",
      " |      x.__rtruediv__(y) <==> y/x\n",
      " |  \n",
      " |  __setitem__(self, indices, values)\n",
      " |      Set values corresponding to the given local indices\n",
      " |      \n",
      " |      This method is collective and user need to take care when this\n",
      " |      method is called, preventing MPI-deadlocks.\n",
      " |  \n",
      " |  __setslice__(self, i, j, values)\n",
      " |  \n",
      " |  __sub__(self, other)\n",
      " |      x.__sub__(y) <==> x-y\n",
      " |  \n",
      " |  __truediv__(self, other)\n",
      " |      x.__truediv__(y) <==> x/y\n",
      " |  \n",
      " |  abs = GenericVector_abs(...)\n",
      " |      Dummy docstring. Reason: Missing doxygen\n",
      " |  \n",
      " |  add = GenericVector_add(...)\n",
      " |      Dummy docstring. Reason: Missing doxygen\n",
      " |  \n",
      " |  add_local = GenericVector_add_local(...)\n",
      " |      Dummy docstring. Reason: Missing doxygen\n",
      " |  \n",
      " |  array(self)\n",
      " |      Return a numpy array representation of the local part of a Vector\n",
      " |  \n",
      " |  axpy = GenericVector_axpy(...)\n",
      " |      Dummy docstring. Reason: Missing doxygen\n",
      " |  \n",
      " |  copy = GenericVector_copy(...)\n",
      " |      Dummy docstring. Reason: Missing doxygen\n",
      " |  \n",
      " |  gather = GenericVector_gather(...)\n",
      " |      Dummy docstring. Reason: Missing doxygen\n",
      " |  \n",
      " |  gather_on_zero = GenericVector_gather_on_zero(...)\n",
      " |      Dummy docstring. Reason: Missing doxygen\n",
      " |  \n",
      " |  get_local = GenericVector_get_local(...)\n",
      " |      Dummy docstring. Reason: Missing doxygen\n",
      " |  \n",
      " |  init = GenericVector_init(...)\n",
      " |      Dummy docstring. Reason: Missing doxygen\n",
      " |  \n",
      " |  inner = GenericVector_inner(...)\n",
      " |      Dummy docstring. Reason: Missing doxygen\n",
      " |  \n",
      " |  local_range = GenericVector_local_range(...)\n",
      " |      Dummy docstring. Reason: Missing doxygen\n",
      " |  \n",
      " |  local_size = GenericVector_local_size(...)\n",
      " |      Dummy docstring. Reason: Missing doxygen\n",
      " |  \n",
      " |  max = GenericVector_max(...)\n",
      " |      Dummy docstring. Reason: Missing doxygen\n",
      " |  \n",
      " |  min = GenericVector_min(...)\n",
      " |      Dummy docstring. Reason: Missing doxygen\n",
      " |  \n",
      " |  norm = GenericVector_norm(...)\n",
      " |      Dummy docstring. Reason: Missing doxygen\n",
      " |  \n",
      " |  owns_index = GenericVector_owns_index(...)\n",
      " |      Dummy docstring. Reason: Missing doxygen\n",
      " |  \n",
      " |  set_local = GenericVector_set_local(...)\n",
      " |      Dummy docstring. Reason: Missing doxygen\n",
      " |  \n",
      " |  size = GenericVector_size(...)\n",
      " |      Dummy docstring. Reason: Missing doxygen\n",
      " |  \n",
      " |  sum = GenericVector_sum(...)\n",
      " |      Dummy docstring. Reason: Missing doxygen\n",
      " |  \n",
      " |  ----------------------------------------------------------------------\n",
      " |  Data descriptors defined here:\n",
      " |  \n",
      " |  thisown\n",
      " |      The membership flag\n",
      " |  \n",
      " |  ----------------------------------------------------------------------\n",
      " |  Data and other attributes defined here:\n",
      " |  \n",
      " |  __array_priority__ = 0\n",
      " |  \n",
      " |  __swig_destroy__ = <built-in function delete_GenericVector>\n",
      " |  \n",
      " |  \n",
      " |  ----------------------------------------------------------------------\n",
      " |  Methods inherited from GenericTensor:\n",
      " |  \n",
      " |  apply = GenericTensor_apply(...)\n",
      " |      Dummy docstring. Reason: Missing doxygen\n",
      " |  \n",
      " |  empty = GenericTensor_empty(...)\n",
      " |      Dummy docstring. Reason: Missing doxygen\n",
      " |  \n",
      " |  factory = GenericTensor_factory(...)\n",
      " |      Dummy docstring. Reason: Missing doxygen\n",
      " |  \n",
      " |  rank = GenericTensor_rank(...)\n",
      " |      Dummy docstring. Reason: Missing doxygen\n",
      " |  \n",
      " |  zero = GenericTensor_zero(...)\n",
      " |      Dummy docstring. Reason: Missing doxygen\n",
      " |  \n",
      " |  ----------------------------------------------------------------------\n",
      " |  Methods inherited from LinearAlgebraObject:\n",
      " |  \n",
      " |  mpi_comm = LinearAlgebraObject_mpi_comm(...)\n",
      " |      Dummy docstring. Reason: Missing doxygen\n",
      " |  \n",
      " |  shared_instance = LinearAlgebraObject_shared_instance(...)\n",
      " |      Dummy docstring. Reason: Missing doxygen\n",
      " |  \n",
      " |  ----------------------------------------------------------------------\n",
      " |  Methods inherited from dolfin.cpp.common.Variable:\n",
      " |  \n",
      " |  __str__ = Variable___str__(...)\n",
      " |      Missing docstring\n",
      " |  \n",
      " |  id = Variable_id(...)\n",
      " |      Dummy docstring. Reason: Missing doxygen\n",
      " |  \n",
      " |  label = Variable_label(...)\n",
      " |      Dummy docstring. Reason: Missing doxygen\n",
      " |  \n",
      " |  name = Variable_name(...)\n",
      " |      Dummy docstring. Reason: Missing doxygen\n",
      " |  \n",
      " |  rename = Variable_rename(...)\n",
      " |      Dummy docstring. Reason: Missing doxygen\n",
      " |  \n",
      " |  str = Variable_str(...)\n",
      " |      Dummy docstring. Reason: Missing doxygen\n",
      " |  \n",
      " |  ----------------------------------------------------------------------\n",
      " |  Data descriptors inherited from dolfin.cpp.common.Variable:\n",
      " |  \n",
      " |  __dict__\n",
      " |      dictionary for instance variables (if defined)\n",
      " |  \n",
      " |  __weakref__\n",
      " |      list of weak references to the object (if defined)\n",
      " |  \n",
      " |  parameters\n",
      "\n"
     ]
    }
   ],
   "source": []
  },
  {
   "cell_type": "code",
   "execution_count": 8,
   "metadata": {},
   "outputs": [
    {
     "name": "stdout",
     "output_type": "stream",
     "text": [
      "L2, 0.575963540234, H1, 77.7640877026, t, 0\n",
      "\n"
     ]
    }
   ],
   "source": [
    "u_exact = evolve(25, u_code, f_code, sigma, mu, b)"
   ]
  },
  {
   "cell_type": "code",
   "execution_count": 9,
   "metadata": {},
   "outputs": [
    {
     "data": {
      "text/plain": [
       "3.0058415614709171"
      ]
     },
     "execution_count": 9,
     "metadata": {},
     "output_type": "execute_result"
    }
   ],
   "source": [
    "np.amax(u_exact.vector().get_local())"
   ]
  },
  {
   "cell_type": "code",
   "execution_count": 15,
   "metadata": {},
   "outputs": [],
   "source": [
    "list2 = []\n",
    "for ue in [u_25, u_400]:\n",
    "    list2.append(np.amax(ue.vector().get_local()))\n",
    "    list2.append(np.amin(ue.vector().get_local()))"
   ]
  },
  {
   "cell_type": "code",
   "execution_count": 16,
   "metadata": {},
   "outputs": [
    {
     "data": {
      "text/plain": [
       "[3.0058415614709171,\n",
       " -3.3370421946767843,\n",
       " 0.00095250536929038666,\n",
       " -0.99200903871018864]"
      ]
     },
     "execution_count": 16,
     "metadata": {},
     "output_type": "execute_result"
    }
   ],
   "source": [
    "list2"
   ]
  },
  {
   "cell_type": "code",
   "execution_count": 20,
   "metadata": {},
   "outputs": [],
   "source": []
  },
  {
   "cell_type": "code",
   "execution_count": 22,
   "metadata": {},
   "outputs": [
    {
     "name": "stdout",
     "output_type": "stream",
     "text": [
      "max = 0.00095250536929\n",
      "min = -0.99200903871\n"
     ]
    }
   ],
   "source": []
  },
  {
   "cell_type": "code",
   "execution_count": null,
   "metadata": {},
   "outputs": [],
   "source": []
  }
 ],
 "metadata": {
  "kernelspec": {
   "display_name": "Python 2",
   "language": "python",
   "name": "python2"
  },
  "language_info": {
   "codemirror_mode": {
    "name": "ipython",
    "version": 2
   },
   "file_extension": ".py",
   "mimetype": "text/x-python",
   "name": "python",
   "nbconvert_exporter": "python",
   "pygments_lexer": "ipython2",
   "version": "2.7.14"
  }
 },
 "nbformat": 4,
 "nbformat_minor": 2
}
